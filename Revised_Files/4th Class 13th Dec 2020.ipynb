{
 "cells": [
  {
   "cell_type": "markdown",
   "id": "7e8e52d6",
   "metadata": {},
   "source": [
    "# Methods\n"
   ]
  },
  {
   "cell_type": "code",
   "execution_count": 37,
   "id": "57febe99",
   "metadata": {},
   "outputs": [],
   "source": [
    "class person:\n",
    "    def __init__(self,name,surname,yearofbirth):\n",
    "        self.name1=name\n",
    "        self.surname=surname\n",
    "        self.yearofbirth=yearofbirth\n",
    "    def age(self,currentyear):\n",
    "        return currentyear- self.yearofbirth\n",
    "    def __str__(self):\n",
    "        return \"My Name is:%s %s and Year of birth is: %d\" % (p1.name1,p1.surname,p1.yearofbirth)\n"
   ]
  },
  {
   "cell_type": "code",
   "execution_count": 38,
   "id": "3f03658c",
   "metadata": {},
   "outputs": [],
   "source": [
    "p1= person(\"Bharat\",\"Soren\",1990)"
   ]
  },
  {
   "cell_type": "code",
   "execution_count": 39,
   "id": "8fe59275",
   "metadata": {},
   "outputs": [
    {
     "name": "stdout",
     "output_type": "stream",
     "text": [
      "My Name is:Bharat Soren and Year of birth is: 1990\n"
     ]
    }
   ],
   "source": [
    "print(\"My Name is:%s %s and Year of birth is: %d\"%(p1.name1,p1.surname,p1.yearofbirth))"
   ]
  },
  {
   "cell_type": "code",
   "execution_count": 40,
   "id": "30f50552",
   "metadata": {},
   "outputs": [
    {
     "name": "stdout",
     "output_type": "stream",
     "text": [
      "My Name is:Bharat Soren and Year of birth is: 1990\n",
      "32\n"
     ]
    }
   ],
   "source": [
    "print(p1)\n",
    "print(p1.age(2022))"
   ]
  },
  {
   "cell_type": "markdown",
   "id": "e7dae453",
   "metadata": {},
   "source": [
    "# Protect your Abstractions"
   ]
  },
  {
   "cell_type": "markdown",
   "id": "5ac7f063",
   "metadata": {},
   "source": [
    "Here the instance attributes shouldn''t be accessable by the end user of an object as they are powerful mean of abstraction.\n",
    "they should not reavel the internal implemention detail. In Python, there is no specific strict mechanism to protect the object attributes but the official guidlines suggest that a variable that has an underscore prefix should be treated as \"Private\" . Moreover prepending two underscore to a variable name makes the interpreter mangle a little the variable name."
   ]
  },
  {
   "cell_type": "code",
   "execution_count": 45,
   "id": "a5710252",
   "metadata": {},
   "outputs": [],
   "source": [
    "class Person:\n",
    "    def __init__(self, name ,surname,yearofbirth):\n",
    "        self.__name=name\n",
    "        self.__surname=surname\n",
    "        self.__yearofbirth=yearofbirth\n",
    "        \n",
    "    def age(self,current_year):\n",
    "        return current_year - self.__yearofbirth\n",
    "    def __str__(self):\n",
    "        return \"%s %s and was born %d.\" \\\n",
    "                % (self.__name,self.__surname,self.__yearofbirth)\n",
    "    "
   ]
  },
  {
   "cell_type": "code",
   "execution_count": 46,
   "id": "1647fd90",
   "metadata": {},
   "outputs": [
    {
     "name": "stdout",
     "output_type": "stream",
     "text": [
      "Bharat Soren and was born 1990.\n",
      "32\n"
     ]
    }
   ],
   "source": [
    "alec=Person(\"Bharat\",\"Soren\",1990)\n",
    "print(alec)\n",
    "print(alec.age(2022))"
   ]
  },
  {
   "cell_type": "markdown",
   "id": "3739245c",
   "metadata": {},
   "source": [
    "# Inheritance"
   ]
  },
  {
   "cell_type": "markdown",
   "id": "44caa919",
   "metadata": {},
   "source": [
    "Once a class defined it model a concept. it is useful to extend a class behaviour to model a less general concept. Say we need to  model a student, but we know that every student is also a person so we shouldn't model the person again but inherit from it instead."
   ]
  },
  {
   "cell_type": "code",
   "execution_count": 48,
   "id": "65d31cdc",
   "metadata": {},
   "outputs": [],
   "source": [
    "# Person class is predefined class and we are using it in this newly defined class \"Student\"\n",
    "# So this Person class is being called as parent class\n",
    "# Student class is called a child class\n",
    "class Student(Person):\n",
    "    def __init__(self,student_id,*arg):\n",
    "        super(Student,self).__init__(*arg)\n",
    "        self._student_id=student_id\n",
    "        \n",
    "bharat=Student(1,\"Bharat\",\"Soren\",1990)\n",
    "sunil=Student(2,\"Sunil\",\"Soren\",1992)"
   ]
  },
  {
   "cell_type": "code",
   "execution_count": 51,
   "id": "454f7bcc",
   "metadata": {},
   "outputs": [
    {
     "name": "stdout",
     "output_type": "stream",
     "text": [
      "1\n",
      "2\n",
      "<class '__main__.Student'>\n",
      "True\n",
      "True\n"
     ]
    }
   ],
   "source": [
    "print(bharat._student_id)\n",
    "print(sunil._student_id)\n",
    "print(type(bharat))\n",
    "print(isinstance(bharat,Person))\n",
    "print(isinstance(bharat,object))"
   ]
  },
  {
   "cell_type": "markdown",
   "id": "bc7e8605",
   "metadata": {},
   "source": [
    "# Overriding Methods"
   ]
  },
  {
   "cell_type": "markdown",
   "id": "cc7d733c",
   "metadata": {},
   "source": [
    "Inheritance allows to add new methods to a subclass but often is useful to change the behaviour of a method defined in the superclass. To override a method just define it again.\n",
    "\n",
    "\n",
    "\"Method overloading\" is applicable in same class\n",
    "\n",
    "\n",
    "\"Method Overriding\" is applicable in parent and child class"
   ]
  },
  {
   "cell_type": "code",
   "execution_count": 70,
   "id": "53d7c7dd",
   "metadata": {},
   "outputs": [],
   "source": [
    "class Student(Person):\n",
    "    def __init__(self,student_id,*arg):\n",
    "        super(Student,self).__init__(*arg)\n",
    "        self._student_id=student_id\n",
    "    def age(self,current_year):\n",
    "        ag=super(Student,self).age(current_year)\n",
    "        return \"Hello %d\" % (ag)\n",
    "#         return \"Child Class Age Function\"\n",
    "\n",
    "        \n",
    "bharat=Student(1,\"Bharat\",\"Soren\",1990)\n",
    "sunil=Student(2,\"Sunil\",\"Soren\",1992)\n",
    "\n",
    "\n",
    "\n",
    "\n",
    "\n",
    "# class Student(Person):\n",
    "#     def __init__(self,student_id,*args,**kwargs):\n",
    "#         super(Student,self).__init__(*args,**kwargs)\n",
    "#         self.student_id=student_id\n",
    "#     def "
   ]
  },
  {
   "cell_type": "code",
   "execution_count": 71,
   "id": "883ad169",
   "metadata": {},
   "outputs": [
    {
     "data": {
      "text/plain": [
       "'Hello 29'"
      ]
     },
     "execution_count": 71,
     "metadata": {},
     "output_type": "execute_result"
    }
   ],
   "source": [
    "bharat.age(2019)"
   ]
  },
  {
   "cell_type": "code",
   "execution_count": null,
   "id": "d46ab665",
   "metadata": {},
   "outputs": [],
   "source": []
  }
 ],
 "metadata": {
  "kernelspec": {
   "display_name": "Python 3 (ipykernel)",
   "language": "python",
   "name": "python3"
  },
  "language_info": {
   "codemirror_mode": {
    "name": "ipython",
    "version": 3
   },
   "file_extension": ".py",
   "mimetype": "text/x-python",
   "name": "python",
   "nbconvert_exporter": "python",
   "pygments_lexer": "ipython3",
   "version": "3.9.12"
  }
 },
 "nbformat": 4,
 "nbformat_minor": 5
}
