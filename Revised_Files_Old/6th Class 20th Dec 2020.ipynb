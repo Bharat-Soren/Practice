{
 "cells": [
  {
   "cell_type": "markdown",
   "id": "2caf538a",
   "metadata": {},
   "source": [
    "# StringIO \n",
    "\n",
    "It provides the package to perform all the basic file operation in python without any external package"
   ]
  },
  {
   "cell_type": "code",
   "execution_count": 4,
   "id": "a95513a1",
   "metadata": {},
   "outputs": [
    {
     "data": {
      "text/plain": [
       "str"
      ]
     },
     "execution_count": 4,
     "metadata": {},
     "output_type": "execute_result"
    }
   ],
   "source": [
    "s='ineuron'\n",
    "\n",
    "type(s)"
   ]
  },
  {
   "cell_type": "code",
   "execution_count": 5,
   "id": "23ae90bb",
   "metadata": {},
   "outputs": [
    {
     "ename": "AttributeError",
     "evalue": "'str' object has no attribute 'read'",
     "output_type": "error",
     "traceback": [
      "\u001b[1;31m---------------------------------------------------------------------------\u001b[0m",
      "\u001b[1;31mAttributeError\u001b[0m                            Traceback (most recent call last)",
      "Input \u001b[1;32mIn [5]\u001b[0m, in \u001b[0;36m<cell line: 1>\u001b[1;34m()\u001b[0m\n\u001b[1;32m----> 1\u001b[0m \u001b[43ms\u001b[49m\u001b[38;5;241;43m.\u001b[39;49m\u001b[43mread\u001b[49m()\n",
      "\u001b[1;31mAttributeError\u001b[0m: 'str' object has no attribute 'read'"
     ]
    }
   ],
   "source": [
    "s.read()"
   ]
  },
  {
   "cell_type": "code",
   "execution_count": 7,
   "id": "451f5138",
   "metadata": {},
   "outputs": [],
   "source": [
    "from io import StringIO"
   ]
  },
  {
   "cell_type": "code",
   "execution_count": 32,
   "id": "362b51bc",
   "metadata": {},
   "outputs": [
    {
     "data": {
      "text/plain": [
       "str"
      ]
     },
     "execution_count": 32,
     "metadata": {},
     "output_type": "execute_result"
    }
   ],
   "source": [
    "#Arbitrary String\n",
    "message='Hello ineuron'\n",
    "type(message)"
   ]
  },
  {
   "cell_type": "code",
   "execution_count": 34,
   "id": "b48f48fa",
   "metadata": {},
   "outputs": [],
   "source": [
    "m=StringIO(message)"
   ]
  },
  {
   "cell_type": "code",
   "execution_count": 35,
   "id": "af09c0ac",
   "metadata": {},
   "outputs": [
    {
     "name": "stdout",
     "output_type": "stream",
     "text": [
      "<class '_io.StringIO'>\n"
     ]
    },
    {
     "data": {
      "text/plain": [
       "'Hello ineuron'"
      ]
     },
     "execution_count": 35,
     "metadata": {},
     "output_type": "execute_result"
    }
   ],
   "source": [
    "print(type(m))\n",
    "m.read()"
   ]
  },
  {
   "cell_type": "code",
   "execution_count": 38,
   "id": "715a7cbf",
   "metadata": {},
   "outputs": [
    {
     "data": {
      "text/plain": [
       "0"
      ]
     },
     "execution_count": 38,
     "metadata": {},
     "output_type": "execute_result"
    }
   ],
   "source": [
    "m.seek(0)"
   ]
  },
  {
   "cell_type": "code",
   "execution_count": 36,
   "id": "e9b3c31b",
   "metadata": {},
   "outputs": [
    {
     "data": {
      "text/plain": [
       "18"
      ]
     },
     "execution_count": 36,
     "metadata": {},
     "output_type": "execute_result"
    }
   ],
   "source": [
    "#We can also do the write operation\n",
    "\n",
    "m.write(\" Hello how are you!\")"
   ]
  },
  {
   "cell_type": "code",
   "execution_count": 39,
   "id": "b3421554",
   "metadata": {},
   "outputs": [
    {
     "data": {
      "text/plain": [
       "'Hello ineuronHello how are you!'"
      ]
     },
     "execution_count": 39,
     "metadata": {},
     "output_type": "execute_result"
    }
   ],
   "source": [
    "m.read()"
   ]
  },
  {
   "cell_type": "markdown",
   "id": "62e567e1",
   "metadata": {},
   "source": [
    "# Modules and Packages\n",
    "\n",
    "Modules in python are simply Python files with .py file extension, which implements a set of functions. Modules are imported from other modules using the import command. Before you goahead and import modules, check out the full list of built-in modules in Python Standard Library.\n",
    "\n",
    "When a module is loaded into a running script for the first time, it is initialized by executing the code in the module once. If another moduled in your codes import the same module again, It will not be loaded twice but only once. so the local variable inside the module act as a \"singleton\"- they initialized only once. \n",
    "\n",
    "If we want to import the math module, We simply import the module."
   ]
  },
  {
   "cell_type": "code",
   "execution_count": 40,
   "id": "09c09dc6",
   "metadata": {},
   "outputs": [],
   "source": [
    "# Import the Library\n",
    "import math"
   ]
  },
  {
   "cell_type": "code",
   "execution_count": 41,
   "id": "37929e82",
   "metadata": {},
   "outputs": [
    {
     "data": {
      "text/plain": [
       "3"
      ]
     },
     "execution_count": 41,
     "metadata": {},
     "output_type": "execute_result"
    }
   ],
   "source": [
    "# Use it(ceiling rounding)\n",
    "math.ceil(2.4)"
   ]
  },
  {
   "cell_type": "markdown",
   "id": "0b0c7923",
   "metadata": {},
   "source": [
    "# Exploring built in Packages\n",
    "\n",
    "While exloring the built in Packages, two important function come in handy. The \"dir\" and \"help\" functions. dir function show which function are implemented in each module. Let us see the example and understand batter."
   ]
  },
  {
   "cell_type": "code",
   "execution_count": 42,
   "id": "e20c4c80",
   "metadata": {},
   "outputs": [
    {
     "name": "stdout",
     "output_type": "stream",
     "text": [
      "['__doc__', '__loader__', '__name__', '__package__', '__spec__', 'acos', 'acosh', 'asin', 'asinh', 'atan', 'atan2', 'atanh', 'ceil', 'comb', 'copysign', 'cos', 'cosh', 'degrees', 'dist', 'e', 'erf', 'erfc', 'exp', 'expm1', 'fabs', 'factorial', 'floor', 'fmod', 'frexp', 'fsum', 'gamma', 'gcd', 'hypot', 'inf', 'isclose', 'isfinite', 'isinf', 'isnan', 'isqrt', 'lcm', 'ldexp', 'lgamma', 'log', 'log10', 'log1p', 'log2', 'modf', 'nan', 'nextafter', 'perm', 'pi', 'pow', 'prod', 'radians', 'remainder', 'sin', 'sinh', 'sqrt', 'tan', 'tanh', 'tau', 'trunc', 'ulp']\n"
     ]
    }
   ],
   "source": [
    "print(dir(math))"
   ]
  },
  {
   "cell_type": "markdown",
   "id": "4833b741",
   "metadata": {},
   "source": [
    "When we find the function in the module we want to use. we can read about it more using the \"help\" function inside the Python interpreter."
   ]
  },
  {
   "cell_type": "code",
   "execution_count": 43,
   "id": "8ccf988a",
   "metadata": {},
   "outputs": [
    {
     "name": "stdout",
     "output_type": "stream",
     "text": [
      "Help on built-in function ceil in module math:\n",
      "\n",
      "ceil(x, /)\n",
      "    Return the ceiling of x as an Integral.\n",
      "    \n",
      "    This is the smallest integer >= x.\n",
      "\n"
     ]
    }
   ],
   "source": [
    "help(math.ceil)"
   ]
  },
  {
   "cell_type": "markdown",
   "id": "8770c828",
   "metadata": {},
   "source": [
    "# Writing Packages (More details in Pycham)"
   ]
  },
  {
   "cell_type": "markdown",
   "id": "d69dc3ec",
   "metadata": {},
   "source": [
    "# Error and Execption Handling"
   ]
  },
  {
   "cell_type": "code",
   "execution_count": 44,
   "id": "8a01e388",
   "metadata": {},
   "outputs": [],
   "source": [
    "#Basically there are two type of error.\n",
    "# Syntax error/Compile time error (It should be handled by developer)\n",
    "# Runtime error(This type of error is handled using the exception handling concept)\n"
   ]
  },
  {
   "cell_type": "code",
   "execution_count": 46,
   "id": "a3fc3f7b",
   "metadata": {},
   "outputs": [
    {
     "name": "stdout",
     "output_type": "stream",
     "text": [
      "Enter any number: 1\n",
      "Enter any number: 2\n",
      "0.5\n"
     ]
    }
   ],
   "source": [
    "a = int(input(\"Enter any number: \"))\n",
    "b = int(input(\"Enter any number: \"))\n",
    "result = a/b\n",
    "print(result)"
   ]
  },
  {
   "cell_type": "markdown",
   "id": "972e386a",
   "metadata": {},
   "source": [
    "## Try and except\n",
    "\n",
    "We use the try and except to handle the runtime execption. \n",
    "\n",
    "    try: \n",
    "        you do your operations here...\n",
    "        ...\n",
    "\n",
    "    except ExceptionI:\n",
    "        If there is a exception I, then execute this block\n",
    "\n",
    "    except Exception II:\n",
    "        If there is a exception II, then execute this block.\n",
    "\n",
    "        ....\n",
    "    else:\n",
    "        If exception does not match with any above exception condition, then execute this block.\n",
    "    \n",
    "Using just except, we can check for any exception: To understand better let's check out a sample code that opens and write a file."
   ]
  },
  {
   "cell_type": "code",
   "execution_count": 47,
   "id": "a68625d1",
   "metadata": {},
   "outputs": [
    {
     "ename": "FileNotFoundError",
     "evalue": "[Errno 2] No such file or directory: 'TestFile'",
     "output_type": "error",
     "traceback": [
      "\u001b[1;31m---------------------------------------------------------------------------\u001b[0m",
      "\u001b[1;31mFileNotFoundError\u001b[0m                         Traceback (most recent call last)",
      "Input \u001b[1;32mIn [47]\u001b[0m, in \u001b[0;36m<cell line: 1>\u001b[1;34m()\u001b[0m\n\u001b[1;32m----> 1\u001b[0m f \u001b[38;5;241m=\u001b[39m\u001b[38;5;28;43mopen\u001b[39;49m\u001b[43m(\u001b[49m\u001b[38;5;124;43m\"\u001b[39;49m\u001b[38;5;124;43mTestFile\u001b[39;49m\u001b[38;5;124;43m\"\u001b[39;49m\u001b[43m)\u001b[49m\n\u001b[0;32m      2\u001b[0m f\u001b[38;5;241m.\u001b[39mread()\n",
      "\u001b[1;31mFileNotFoundError\u001b[0m: [Errno 2] No such file or directory: 'TestFile'"
     ]
    }
   ],
   "source": [
    "f =open(\"TestFile\")\n",
    "f.read()"
   ]
  },
  {
   "cell_type": "code",
   "execution_count": 48,
   "id": "319aa489",
   "metadata": {},
   "outputs": [
    {
     "name": "stdout",
     "output_type": "stream",
     "text": [
      "Please check the file path: \n",
      "[Errno 2] No such file or directory: 'TestFile'\n"
     ]
    }
   ],
   "source": [
    "try:\n",
    "    f = open(\"TestFile\")\n",
    "    f.read()\n",
    "    \n",
    "except FileNotFoundError as fe:\n",
    "    print(\"Please check the file path: \")\n",
    "    print(fe)"
   ]
  },
  {
   "cell_type": "code",
   "execution_count": 51,
   "id": "322b1249",
   "metadata": {},
   "outputs": [
    {
     "name": "stdout",
     "output_type": "stream",
     "text": [
      "File is not writable: \n",
      "not writable\n"
     ]
    }
   ],
   "source": [
    "f = open(\"TestFilev1\",\"w+\")\n",
    "try:\n",
    "    f = open(\"TestFilev1\")\n",
    "    f.write(\"Hello how are you: \")\n",
    "    \n",
    "except FileNotFoundError as fe:\n",
    "    print(\"Please check the file path: \")\n",
    "    print(fe)\n",
    "except IOError as io:\n",
    "    print(\"File is not writable: \")\n",
    "    print(io)"
   ]
  },
  {
   "cell_type": "code",
   "execution_count": 52,
   "id": "61147381",
   "metadata": {},
   "outputs": [
    {
     "name": "stdout",
     "output_type": "stream",
     "text": [
      "Error Block: \n"
     ]
    }
   ],
   "source": [
    "try:\n",
    "    f = open(\"TestFilev1\")\n",
    "    f.write(\"Hello how are you: \")\n",
    "    \n",
    "except FileNotFoundError as fe:\n",
    "    print(\"Please check the file path: \")\n",
    "    print(fe)\n",
    "except:\n",
    "    print(\"Error Block: \")"
   ]
  },
  {
   "cell_type": "code",
   "execution_count": 54,
   "id": "1df5bdf1",
   "metadata": {},
   "outputs": [
    {
     "name": "stdout",
     "output_type": "stream",
     "text": [
      "Completed Successfully\n"
     ]
    }
   ],
   "source": [
    "# If try block is executing then else block is also going to execute\n",
    "try:\n",
    "    f = open(\"TestFilev1\")\n",
    "#     f.write(\"Hello how are you: \")\n",
    "    f.read()\n",
    "    \n",
    "except FileNotFoundError as fe:\n",
    "    print(\"Please check the file path: \")\n",
    "    print(fe)\n",
    "except:\n",
    "    print(\"Error Block: \")\n",
    "else:\n",
    "    print(\"Completed Successfully\")\n",
    "    f.close()"
   ]
  },
  {
   "cell_type": "code",
   "execution_count": 58,
   "id": "3ad52827",
   "metadata": {},
   "outputs": [
    {
     "ename": "UnsupportedOperation",
     "evalue": "not writable",
     "output_type": "error",
     "traceback": [
      "\u001b[1;31m---------------------------------------------------------------------------\u001b[0m",
      "\u001b[1;31mUnsupportedOperation\u001b[0m                      Traceback (most recent call last)",
      "Input \u001b[1;32mIn [58]\u001b[0m, in \u001b[0;36m<cell line: 2>\u001b[1;34m()\u001b[0m\n\u001b[0;32m      1\u001b[0m f\u001b[38;5;241m=\u001b[39m\u001b[38;5;28mopen\u001b[39m(\u001b[38;5;124m'\u001b[39m\u001b[38;5;124mTestFilev1\u001b[39m\u001b[38;5;124m'\u001b[39m,\u001b[38;5;124m'\u001b[39m\u001b[38;5;124mr\u001b[39m\u001b[38;5;124m'\u001b[39m)\n\u001b[1;32m----> 2\u001b[0m \u001b[43mf\u001b[49m\u001b[38;5;241;43m.\u001b[39;49m\u001b[43mwrite\u001b[49m\u001b[43m(\u001b[49m\u001b[38;5;124;43m\"\u001b[39;49m\u001b[38;5;124;43mWorking on writing a file\u001b[39;49m\u001b[38;5;124;43m\"\u001b[39;49m\u001b[43m)\u001b[49m\n\u001b[0;32m      3\u001b[0m \u001b[38;5;28mprint\u001b[39m(\u001b[38;5;124m\"\u001b[39m\u001b[38;5;124mSome Text\u001b[39m\u001b[38;5;124m\"\u001b[39m)\n",
      "\u001b[1;31mUnsupportedOperation\u001b[0m: not writable"
     ]
    }
   ],
   "source": [
    "f=open('TestFilev1','r')\n",
    "f.write(\"Working on writing a file\")\n",
    "print(\"Some Text\")"
   ]
  },
  {
   "cell_type": "code",
   "execution_count": 60,
   "id": "1ad83c2c",
   "metadata": {},
   "outputs": [
    {
     "name": "stdout",
     "output_type": "stream",
     "text": [
      "There is an error in file read or write\n"
     ]
    }
   ],
   "source": [
    "try:\n",
    "    f=open('TestFilev1','r')\n",
    "    f.write(\"Working on writing a file\")\n",
    "    print(\"Some Text\")\n",
    "except IOError as io:\n",
    "    print(\"There is an error in file read or write\")\n",
    "else:\n",
    "    f.close()"
   ]
  },
  {
   "cell_type": "markdown",
   "id": "9da731f4",
   "metadata": {},
   "source": [
    "### Finally\n",
    "\n",
    "Finally is a block which will be executed in any condition.(If error occures or not)"
   ]
  },
  {
   "cell_type": "code",
   "execution_count": 61,
   "id": "fb7ad691",
   "metadata": {},
   "outputs": [
    {
     "name": "stdout",
     "output_type": "stream",
     "text": [
      "Always executes this block\n"
     ]
    },
    {
     "ename": "FileNotFoundError",
     "evalue": "[Errno 2] No such file or directory: 'testfile'",
     "output_type": "error",
     "traceback": [
      "\u001b[1;31m---------------------------------------------------------------------------\u001b[0m",
      "\u001b[1;31mFileNotFoundError\u001b[0m                         Traceback (most recent call last)",
      "Input \u001b[1;32mIn [61]\u001b[0m, in \u001b[0;36m<cell line: 1>\u001b[1;34m()\u001b[0m\n\u001b[0;32m      1\u001b[0m \u001b[38;5;28;01mtry\u001b[39;00m:\n\u001b[1;32m----> 2\u001b[0m     f \u001b[38;5;241m=\u001b[39m \u001b[38;5;28;43mopen\u001b[39;49m\u001b[43m(\u001b[49m\u001b[38;5;124;43m\"\u001b[39;49m\u001b[38;5;124;43mtestfile\u001b[39;49m\u001b[38;5;124;43m\"\u001b[39;49m\u001b[43m)\u001b[49m\n\u001b[0;32m      3\u001b[0m     f\u001b[38;5;241m.\u001b[39mwrite(\u001b[38;5;124m\"\u001b[39m\u001b[38;5;124mTest Writing statements\u001b[39m\u001b[38;5;124m\"\u001b[39m)\n\u001b[0;32m      4\u001b[0m \u001b[38;5;28;01mfinally\u001b[39;00m:\n",
      "\u001b[1;31mFileNotFoundError\u001b[0m: [Errno 2] No such file or directory: 'testfile'"
     ]
    }
   ],
   "source": [
    "try:\n",
    "    f = open(\"testfile\")\n",
    "    f.write(\"Test Writing statements\")\n",
    "finally:\n",
    "    print(\"Always executes this block\")\n",
    "    "
   ]
  },
  {
   "cell_type": "code",
   "execution_count": 75,
   "id": "fa48227e",
   "metadata": {},
   "outputs": [],
   "source": [
    "#Combination Possible\n",
    "\n",
    "# 1. try & except\n",
    "# 2. try except. except(multiple except)\n",
    "# 3. try, except  and else\n",
    "# 4. try, except and finally\n",
    "# 5. try & finally\n",
    "# 6. try, except,else & finally"
   ]
  },
  {
   "cell_type": "code",
   "execution_count": 63,
   "id": "f9282841",
   "metadata": {},
   "outputs": [
    {
     "name": "stdout",
     "output_type": "stream",
     "text": [
      "File Not Found\n",
      "Always executes this block\n"
     ]
    }
   ],
   "source": [
    "try:\n",
    "    f = open(\"testfile\")\n",
    "    f.write(\"Test Writing statements\")\n",
    "except FileNotFoundError as fe:\n",
    "    print(\"File Not Found\")\n",
    "finally:\n",
    "    print(\"Always executes this block\")\n",
    "    f.close()"
   ]
  },
  {
   "cell_type": "code",
   "execution_count": 72,
   "id": "aacc8d50",
   "metadata": {},
   "outputs": [],
   "source": [
    "def askint():\n",
    "    try:\n",
    "        val = int(input(\"Enter a Integer values: \"))\n",
    "    except:\n",
    "        print(\"Looks like you have not entered the Integer value\")\n",
    "    else:\n",
    "        print(val)\n",
    "    finally:\n",
    "        print(\"Finally Block is executed! \")"
   ]
  },
  {
   "cell_type": "code",
   "execution_count": 74,
   "id": "c15f83e6",
   "metadata": {},
   "outputs": [
    {
     "name": "stdout",
     "output_type": "stream",
     "text": [
      "Enter a Integer values: fdfd\n",
      "Looks like you have not entered the Integer value\n",
      "Finally Block is executed! \n"
     ]
    }
   ],
   "source": [
    "askint()"
   ]
  },
  {
   "cell_type": "code",
   "execution_count": null,
   "id": "cb69d2e1",
   "metadata": {},
   "outputs": [],
   "source": []
  }
 ],
 "metadata": {
  "kernelspec": {
   "display_name": "Python 3 (ipykernel)",
   "language": "python",
   "name": "python3"
  },
  "language_info": {
   "codemirror_mode": {
    "name": "ipython",
    "version": 3
   },
   "file_extension": ".py",
   "mimetype": "text/x-python",
   "name": "python",
   "nbconvert_exporter": "python",
   "pygments_lexer": "ipython3",
   "version": "3.9.12"
  }
 },
 "nbformat": 4,
 "nbformat_minor": 5
}
