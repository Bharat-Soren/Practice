{
 "cells": [
  {
   "cell_type": "code",
   "execution_count": null,
   "metadata": {},
   "outputs": [],
   "source": [
    "#Write a Python program to sum all the items in a list."
   ]
  },
  {
   "cell_type": "code",
   "execution_count": 3,
   "metadata": {},
   "outputs": [
    {
     "name": "stdout",
     "output_type": "stream",
     "text": [
      "15\n"
     ]
    }
   ],
   "source": [
    "def addlis(li):\n",
    "    result = 0;\n",
    "    for i in li:\n",
    "        result = result+ i;\n",
    "    return result;\n",
    "\n",
    "print(addlis([2,3,5,5]));"
   ]
  },
  {
   "cell_type": "markdown",
   "metadata": {},
   "source": [
    "Write a Python program to count the number of strings where the string length is 2 or\n",
    "more and the first and last character are same from a given list of strings."
   ]
  },
  {
   "cell_type": "code",
   "execution_count": 20,
   "metadata": {},
   "outputs": [
    {
     "name": "stdout",
     "output_type": "stream",
     "text": [
      "4\n"
     ]
    }
   ],
   "source": [
    "def match_word(li):\n",
    "    #li =[\"1234\",\"343\",\"1221\",\"BharatB\",\"Ghost\",\"TEAM\",\"Go\"];\n",
    "    cnt =0;\n",
    "    for i in li:\n",
    "        if(len(i) >= 2):\n",
    "            first_char = i[0];\n",
    "            last_char =i[-1];\n",
    "            #print(first_char,last_char);\n",
    "            \n",
    "            if(first_char == last_char):\n",
    "                cnt = cnt +1;\n",
    "            \n",
    "    return cnt;\n",
    "\n",
    "#print(match_word([\"1234\",\"343\",\"1221\",\"BharatB\",\"Ghost\",\"TEAM\",\"Go\"]));\n",
    "print(match_word(['abc', 'xyz', 'aba', '1221','bhgsskknb','aa']));"
   ]
  },
  {
   "cell_type": "markdown",
   "metadata": {},
   "source": [
    "Updated Solutions:"
   ]
  },
  {
   "cell_type": "code",
   "execution_count": 21,
   "metadata": {},
   "outputs": [
    {
     "name": "stdout",
     "output_type": "stream",
     "text": [
      "5\n"
     ]
    }
   ],
   "source": [
    "def match_word(li):\n",
    "    #li =[\"1234\",\"343\",\"1221\",\"BharatB\",\"Ghost\",\"TEAM\",\"Go\"];\n",
    "    cnt =0;\n",
    "    for i in li:\n",
    "        if(len(i) >= 2 and i[0]== i[-1]):\n",
    "            cnt = cnt +1;\n",
    "            \n",
    "    return cnt;\n",
    "print(match_word(['abc', 'xyzx', 'aba', '1221','bhgsskknb','aa']));"
   ]
  },
  {
   "cell_type": "markdown",
   "metadata": {},
   "source": [
    "#Write a Python program to remove duplicates from a list."
   ]
  },
  {
   "cell_type": "code",
   "execution_count": 31,
   "metadata": {},
   "outputs": [
    {
     "name": "stdout",
     "output_type": "stream",
     "text": [
      "[10, 20, 30]\n"
     ]
    }
   ],
   "source": [
    "def removedup(li):\n",
    "    uniqueli=[];\n",
    "    duplis=set();\n",
    "    \n",
    "    for i in li:\n",
    "        if i not in uniqueli:\n",
    "            uniqueli.append(i);\n",
    "        else:\n",
    "            duplis.add(i);\n",
    "            \n",
    "    return uniqueli;\n",
    "#     return duplis;\n",
    "\n",
    "\n",
    "print(removedup([10,20,10,20,30]));\n",
    "            \n",
    "            \n",
    "            "
   ]
  }
 ],
 "metadata": {
  "kernelspec": {
   "display_name": "Python 3",
   "language": "python",
   "name": "python3"
  },
  "language_info": {
   "codemirror_mode": {
    "name": "ipython",
    "version": 3
   },
   "file_extension": ".py",
   "mimetype": "text/x-python",
   "name": "python",
   "nbconvert_exporter": "python",
   "pygments_lexer": "ipython3",
   "version": "3.8.5"
  }
 },
 "nbformat": 4,
 "nbformat_minor": 4
}
