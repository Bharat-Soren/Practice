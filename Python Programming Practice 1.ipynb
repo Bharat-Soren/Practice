{
 "cells": [
  {
   "cell_type": "markdown",
   "metadata": {},
   "source": [
    "1. Write a Python program to sum all the items in a list."
   ]
  },
  {
   "cell_type": "code",
   "execution_count": null,
   "metadata": {},
   "outputs": [],
   "source": [
    "def addlis(li):\n",
    "    result = 0;\n",
    "    for i in li:\n",
    "        result = result+ i;\n",
    "    return result;\n",
    "\n",
    "print(addlis([2,3,5,5]));"
   ]
  },
  {
   "cell_type": "markdown",
   "metadata": {},
   "source": [
    "Another Way:"
   ]
  },
  {
   "cell_type": "code",
   "execution_count": null,
   "metadata": {},
   "outputs": [],
   "source": [
    "from functools import reduce\n",
    "li=[20,30,40,50]\n",
    "def sumation(a,b):\n",
    "    return a+b\n",
    "\n",
    "reduce(sumation,li)"
   ]
  },
  {
   "cell_type": "markdown",
   "metadata": {},
   "source": [
    "2. Write a Python program to count the number of strings where the string length is 2 or\n",
    "more and the first and last character are same from a given list of strings."
   ]
  },
  {
   "cell_type": "code",
   "execution_count": null,
   "metadata": {},
   "outputs": [],
   "source": [
    "def match_word(li):\n",
    "    #li =[\"1234\",\"343\",\"1221\",\"BharatB\",\"Ghost\",\"TEAM\",\"Go\"];\n",
    "    cnt =0;\n",
    "    for i in li:\n",
    "        if(len(i) >= 2):\n",
    "            first_char = i[0];\n",
    "            last_char =i[-1];\n",
    "            #print(first_char,last_char);\n",
    "            \n",
    "            if(first_char == last_char):\n",
    "                cnt = cnt +1;\n",
    "            \n",
    "    return cnt;\n",
    "\n",
    "#print(match_word([\"1234\",\"343\",\"1221\",\"BharatB\",\"Ghost\",\"TEAM\",\"Go\"]));\n",
    "print(match_word(['abc', 'xyz', 'aba', '1221','bhgsskknb','aa']));"
   ]
  },
  {
   "cell_type": "markdown",
   "metadata": {},
   "source": [
    "Updated Solutions:"
   ]
  },
  {
   "cell_type": "code",
   "execution_count": 21,
   "metadata": {},
   "outputs": [
    {
     "name": "stdout",
     "output_type": "stream",
     "text": [
      "5\n"
     ]
    }
   ],
   "source": [
    "def match_word(li):\n",
    "    #li =[\"1234\",\"343\",\"1221\",\"BharatB\",\"Ghost\",\"TEAM\",\"Go\"];\n",
    "    cnt =0;\n",
    "    for i in li:\n",
    "        if(len(i) >= 2 and i[0]== i[-1]):\n",
    "            cnt = cnt +1;\n",
    "            \n",
    "    return cnt;\n",
    "print(match_word(['abc', 'xyzx', 'aba', '1221','bhgsskknb','aa']));"
   ]
  },
  {
   "cell_type": "markdown",
   "metadata": {},
   "source": [
    "3. Write a Python program to remove duplicates from a list."
   ]
  },
  {
   "cell_type": "code",
   "execution_count": 3,
   "metadata": {},
   "outputs": [
    {
     "name": "stdout",
     "output_type": "stream",
     "text": [
      "{10, 20}\n"
     ]
    }
   ],
   "source": [
    "def removedup(li):\n",
    "    uniqueli=[];\n",
    "    duplis=set();\n",
    "    \n",
    "    for i in li:\n",
    "        if i not in uniqueli:\n",
    "            uniqueli.append(i);\n",
    "        else:\n",
    "            duplis.add(i);\n",
    "            \n",
    "    return uniqueli;\n",
    "#     return duplis;\n",
    "\n",
    "\n",
    "print(removedup([10,20,10,20,30]));\n",
    "            \n",
    "            \n",
    "            "
   ]
  },
  {
   "cell_type": "markdown",
   "metadata": {},
   "source": [
    "Shortcut To Remove Duplicate Using <b>Set</b> Function"
   ]
  },
  {
   "cell_type": "code",
   "execution_count": 6,
   "metadata": {},
   "outputs": [
    {
     "name": "stdout",
     "output_type": "stream",
     "text": [
      "[40, 10, 50, 20, 30]\n"
     ]
    }
   ],
   "source": [
    "lists=[10,20,20,30,40,50]\n",
    "\n",
    "print(list(set(lists)))"
   ]
  }
 ],
 "metadata": {
  "kernelspec": {
   "display_name": "Python 3",
   "language": "python",
   "name": "python3"
  },
  "language_info": {
   "codemirror_mode": {
    "name": "ipython",
    "version": 3
   },
   "file_extension": ".py",
   "mimetype": "text/x-python",
   "name": "python",
   "nbconvert_exporter": "python",
   "pygments_lexer": "ipython3",
   "version": "3.8.5"
  }
 },
 "nbformat": 4,
 "nbformat_minor": 4
}
