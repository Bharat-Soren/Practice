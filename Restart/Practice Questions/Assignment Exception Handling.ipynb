{
 "cells": [
  {
   "cell_type": "markdown",
   "id": "4a856fcf",
   "metadata": {},
   "source": [
    "##### 1. Write a function to compute 5/0 and use try/except to catch the exceptions."
   ]
  },
  {
   "cell_type": "code",
   "execution_count": 8,
   "id": "489a2f7f",
   "metadata": {},
   "outputs": [],
   "source": [
    "def computes():\n",
    "    result=0.0\n",
    "    try:\n",
    "        var1 = float(input(\"Enter the 1st Number:\"))\n",
    "        var2 = float(input(\"Enter the 2nd Number:\"))\n",
    "        \n",
    "        result = var1 / var2 \n",
    "        \n",
    "    except ZeroDivisionError as zd:\n",
    "        print(\"The number %f can't be devided by the zero\"%var1)\n",
    "        print(zd)\n",
    "        \n",
    "    except:\n",
    "        print(\"There is some issue\")        "
   ]
  },
  {
   "cell_type": "code",
   "execution_count": 10,
   "id": "eb25345f",
   "metadata": {},
   "outputs": [
    {
     "name": "stdout",
     "output_type": "stream",
     "text": [
      "Enter the 1st Number:5\n",
      "Enter the 2nd Number:0\n",
      "The number 5.000000 can't be devided by the zero\n",
      "float division by zero\n"
     ]
    }
   ],
   "source": [
    "computes()"
   ]
  },
  {
   "cell_type": "code",
   "execution_count": 9,
   "id": "933b5cfb",
   "metadata": {},
   "outputs": [
    {
     "name": "stdout",
     "output_type": "stream",
     "text": [
      "Enter the 1st Number:5\n",
      "Enter the 2nd Number:0\n",
      "The number 5.000000 can't be devided by the zero\n",
      "float division by zero\n"
     ]
    }
   ],
   "source": []
  },
  {
   "cell_type": "markdown",
   "id": "fdd3aa34",
   "metadata": {},
   "source": [
    "###### 2. Implement a Python program to generate all sentences where subject is in [\"Americans\", \"Indians\"] and verb is in [\"Play\", \"watch\"] and the object is in [\"Baseball\",\"cricket\"].\n",
    "\n",
    "###### Hint: Subject,Verb and Object should be declared in the program as shown below.\n",
    "\n",
    "1. subjects=[\"Americans \",\"Indians\"]\n",
    "2. verbs=[\"play\",\"watch\"]\n",
    "3. objects=[\"Baseball\",\"Cricket\"]\n",
    "\n",
    "###### Output should come as below:\n",
    "- Americans play Baseball.\n",
    "- Americans play Cricket.\n",
    "- Americans watch Baseball.\n",
    "- Americans watch Cricket.\n",
    "- Indians play Baseball.\n",
    "- Indians play Cricket.\n",
    "- Indians watch Baseball.\n",
    "- Indians watch Cricket."
   ]
  },
  {
   "cell_type": "code",
   "execution_count": 18,
   "id": "d183c150",
   "metadata": {},
   "outputs": [],
   "source": [
    "def genSentance(subjects, verbs, objects):\n",
    "    \n",
    "    for s in subjects:\n",
    "        for v in verbs:\n",
    "            for o in objects:\n",
    "                print(\"- \"+s+\" \"+v+\" \"+o+\".\")\n",
    "        "
   ]
  },
  {
   "cell_type": "code",
   "execution_count": 19,
   "id": "8677cab9",
   "metadata": {},
   "outputs": [
    {
     "name": "stdout",
     "output_type": "stream",
     "text": [
      "- Americans play Baseball.\n",
      "- Americans play Cricket.\n",
      "- Americans watch Baseball.\n",
      "- Americans watch Cricket.\n",
      "- Indians play Baseball.\n",
      "- Indians play Cricket.\n",
      "- Indians watch Baseball.\n",
      "- Indians watch Cricket.\n"
     ]
    }
   ],
   "source": [
    "subjects=[\"Americans\",\"Indians\"]\n",
    "verbs=[\"play\",\"watch\"]\n",
    "objects=[\"Baseball\",\"Cricket\"]\n",
    "\n",
    "genSentance(subjects,verbs,objects)"
   ]
  },
  {
   "cell_type": "code",
   "execution_count": null,
   "id": "11728362",
   "metadata": {},
   "outputs": [],
   "source": []
  }
 ],
 "metadata": {
  "kernelspec": {
   "display_name": "Python 3 (ipykernel)",
   "language": "python",
   "name": "python3"
  },
  "language_info": {
   "codemirror_mode": {
    "name": "ipython",
    "version": 3
   },
   "file_extension": ".py",
   "mimetype": "text/x-python",
   "name": "python",
   "nbconvert_exporter": "python",
   "pygments_lexer": "ipython3",
   "version": "3.9.12"
  }
 },
 "nbformat": 4,
 "nbformat_minor": 5
}
