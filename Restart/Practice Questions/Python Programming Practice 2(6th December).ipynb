{
 "cells": [
  {
   "cell_type": "markdown",
   "id": "748c434d",
   "metadata": {},
   "source": [
    "###### 1. Write a Python program to check if all dictionaries in a list are empty or not."
   ]
  },
  {
   "cell_type": "code",
   "execution_count": 92,
   "id": "e6bd4ff6",
   "metadata": {},
   "outputs": [],
   "source": [
    "# My Solutions \n",
    "def check_dict(lst):\n",
    "    nondict_items=0\n",
    "    for di in lst:\n",
    "        if type(di)==dict and len(di) > 0:\n",
    "            print(\"All the Dictionary in a list are not empty. It contains some values\")\n",
    "            break\n",
    "        elif type(di)!=dict:\n",
    "            nondict_items+=1\n",
    "        else:\n",
    "            pass\n",
    "    else:\n",
    "        print(\"All the dictionary in the provided list are empty. Also It contains {} non dictionary items\".format(nondict_items))\n",
    "        "
   ]
  },
  {
   "cell_type": "code",
   "execution_count": 30,
   "id": "f438e615",
   "metadata": {},
   "outputs": [
    {
     "name": "stdout",
     "output_type": "stream",
     "text": [
      "All the Dictionary in a list are not empty. It contains some values\n"
     ]
    }
   ],
   "source": [
    "lst1=[{},{},{},[1,2,3,4,5],(1,2,3,45,7),{'Key':'values'}]\n",
    "check_dict(lst1)\n"
   ]
  },
  {
   "cell_type": "code",
   "execution_count": 31,
   "id": "350d9fac",
   "metadata": {},
   "outputs": [
    {
     "name": "stdout",
     "output_type": "stream",
     "text": [
      "All the dictionary in the provided list are empty. Also It contains 2 non dictionary items\n"
     ]
    }
   ],
   "source": [
    "lst2=[{},{},{},[1,2,3,4,5],(1,2,3,45,7)]\n",
    "check_dict(lst2)\n"
   ]
  },
  {
   "cell_type": "markdown",
   "id": "60aba829",
   "metadata": {},
   "source": [
    " The all() function returns \"True\" if all items in an iterable are \"true\", otherwise it returns \"False\". \n",
    " \n",
    " \"not\" is a logical operator. \n",
    " The return value will be \"True\" if the statement(s) are not True, otherwise it will return \"False\" ."
   ]
  },
  {
   "cell_type": "code",
   "execution_count": 93,
   "id": "78f92a0f",
   "metadata": {},
   "outputs": [
    {
     "name": "stdout",
     "output_type": "stream",
     "text": [
      "True\n",
      "False\n"
     ]
    }
   ],
   "source": [
    "# solution\n",
    "my_list1 = [{},{},{}]\n",
    "my_list2 = [{123,2345},{},{}]\n",
    "print(all(not d for d in my_list1))\n",
    "print(all(not d for d in my_list2))"
   ]
  },
  {
   "cell_type": "code",
   "execution_count": 38,
   "id": "7178bafd",
   "metadata": {},
   "outputs": [],
   "source": [
    "a=(not d for d in my_list1)"
   ]
  },
  {
   "cell_type": "code",
   "execution_count": 41,
   "id": "96fa9a17",
   "metadata": {},
   "outputs": [
    {
     "data": {
      "text/plain": [
       "True"
      ]
     },
     "execution_count": 41,
     "metadata": {},
     "output_type": "execute_result"
    }
   ],
   "source": [
    "next(a)"
   ]
  },
  {
   "cell_type": "markdown",
   "id": "ba9e55f9",
   "metadata": {},
   "source": [
    "###### 2. Write a Python program to remove duplicates from a list of lists."
   ]
  },
  {
   "cell_type": "code",
   "execution_count": 95,
   "id": "d48a8bf8",
   "metadata": {},
   "outputs": [
    {
     "name": "stdout",
     "output_type": "stream",
     "text": [
      "Original List: [[110, 120], [240], [330, 456, 425], [310, 220], [133], [240]]\n",
      "Sorted List: [[110, 120], [133], [240], [240], [310, 220], [330, 456, 425]]\n",
      "New List: [[110, 120], [133], [240], [310, 220], [330, 456, 425]]\n"
     ]
    }
   ],
   "source": [
    "#Solution\n",
    "import itertools\n",
    "num = [[110, 120], [240], [330, 456, 425], [310, 220], [133], [240]]\n",
    "print(\"Original List:\", num)\n",
    "num.sort()\n",
    "print(\"Sorted List:\",num)\n",
    "new_num = list(num for num,_ in itertools.groupby(num))\n",
    "print(\"New List:\", new_num)"
   ]
  },
  {
   "cell_type": "markdown",
   "id": "0101ac77",
   "metadata": {},
   "source": [
    "###### 3.Write a Python program to extend a list without append."
   ]
  },
  {
   "cell_type": "code",
   "execution_count": 60,
   "id": "26cfd249",
   "metadata": {},
   "outputs": [
    {
     "name": "stdout",
     "output_type": "stream",
     "text": [
      "[403, 503, 603, 103, 320, 430]\n"
     ]
    }
   ],
   "source": [
    "#solution\n",
    "x = [103, 320, 430]\n",
    "y = [403, 503, 603]\n",
    "x[:0] =y\n",
    "print(x)"
   ]
  },
  {
   "cell_type": "markdown",
   "id": "0dda0fa0",
   "metadata": {},
   "source": [
    "###### 4. Write a Python program to find the list in a list of lists whose sum of elements is the highest"
   ]
  },
  {
   "cell_type": "code",
   "execution_count": 96,
   "id": "2643d3c6",
   "metadata": {},
   "outputs": [
    {
     "name": "stdout",
     "output_type": "stream",
     "text": [
      "The list with highest sum of elements in a list is: [20, 30]\n"
     ]
    }
   ],
   "source": [
    "# My Solutions\n",
    "from functools import reduce\n",
    "out1=reduce(lambda a,b: a if sum(a) > sum(b) else b,[[10,20],[10],[20,30],[40],[25]])\n",
    "print(\"The list with highest sum of elements in a list is:\",out1)"
   ]
  },
  {
   "cell_type": "code",
   "execution_count": 68,
   "id": "e4de623b",
   "metadata": {},
   "outputs": [
    {
     "name": "stdout",
     "output_type": "stream",
     "text": [
      "[10, 11, 12]\n"
     ]
    }
   ],
   "source": [
    "#solution\n",
    "num = [[1,2,3], [4,5,6], [10,11,12], [7,8,9]]\n",
    "print(max(num, key=sum))"
   ]
  },
  {
   "cell_type": "markdown",
   "id": "e2b57ed5",
   "metadata": {},
   "source": [
    "###### 5. Write a Python program to access dictionary key’s element by index."
   ]
  },
  {
   "cell_type": "code",
   "execution_count": 79,
   "id": "d11faaca",
   "metadata": {},
   "outputs": [
    {
     "name": "stdout",
     "output_type": "stream",
     "text": [
      "stats\n"
     ]
    }
   ],
   "source": [
    "#solution\n",
    "num = {'stats': 80, 'math': 90, 'algorithm': 86}\n",
    "print(list(num)[0])\n",
    "#print(list(num.keys())[0])"
   ]
  },
  {
   "cell_type": "markdown",
   "id": "d81760db",
   "metadata": {},
   "source": [
    "###### 6. Write a Python program to iterate over two lists simultaneously."
   ]
  },
  {
   "cell_type": "code",
   "execution_count": 82,
   "id": "f0e97d19",
   "metadata": {},
   "outputs": [],
   "source": [
    "# My Solutions\n",
    "def itr_multi_list(lst1,lst2):\n",
    "    if len(lst1)!=len(lst2):\n",
    "        print(\"The length of the list should be equal for both the provided lists\")\n",
    "    else:\n",
    "        for i in range(len(lst1)):\n",
    "            print(\"{} {}\".format(lst1[i],lst2[i]))"
   ]
  },
  {
   "cell_type": "code",
   "execution_count": 83,
   "id": "a25c2d87",
   "metadata": {},
   "outputs": [
    {
     "name": "stdout",
     "output_type": "stream",
     "text": [
      "1 red\n",
      "2 while\n",
      "3 black\n"
     ]
    }
   ],
   "source": [
    "num = [1, 2, 3]\n",
    "color = ['red', 'while', 'black']\n",
    "itr_multi_list(num,color)"
   ]
  },
  {
   "cell_type": "markdown",
   "id": "3523fe8c",
   "metadata": {},
   "source": [
    "The **zip()** function returns a zip object, which is an iterator of tuples where the first item in each passed iterator is paired together, and then the second item in each passed iterator are paired together etc."
   ]
  },
  {
   "cell_type": "code",
   "execution_count": 85,
   "id": "2da72a1c",
   "metadata": {},
   "outputs": [
    {
     "name": "stdout",
     "output_type": "stream",
     "text": [
      "1 red\n",
      "2 while\n",
      "3 black\n"
     ]
    }
   ],
   "source": [
    "#Solution\n",
    "num = [1, 2, 3]\n",
    "color = ['red', 'while', 'black']\n",
    "for (a,b) in zip(num, color):\n",
    "    print(a, b)"
   ]
  },
  {
   "cell_type": "markdown",
   "id": "c89c45a1",
   "metadata": {},
   "source": [
    "###### 7. Write a program to inser a string at the begining of every elements in a list"
   ]
  },
  {
   "cell_type": "code",
   "execution_count": 97,
   "id": "5febe7b4",
   "metadata": {},
   "outputs": [],
   "source": [
    "# My Solutions\n",
    "def ins_str_in_lst(lst,stri):\n",
    "    out_lst=[]\n",
    "    for i in lst:\n",
    "        out_lst.append(stri+str(i))\n",
    "    print(\"Final List is:\",out_lst)"
   ]
  },
  {
   "cell_type": "code",
   "execution_count": 89,
   "id": "d5b21a23",
   "metadata": {},
   "outputs": [
    {
     "name": "stdout",
     "output_type": "stream",
     "text": [
      "Final List is: ['customer 1', 'customer 2', 'customer 3', 'customer 4', 'customer 5', 'customer 6', 'customer 7', 'customer 8', 'customer 9']\n"
     ]
    }
   ],
   "source": [
    "lst5=[1,2,3,4,5,6,7,8,9]\n",
    "st2='customer '\n",
    "ins_str_in_lst(lst5,st2)"
   ]
  },
  {
   "cell_type": "code",
   "execution_count": 91,
   "id": "4698f743",
   "metadata": {},
   "outputs": [
    {
     "name": "stdout",
     "output_type": "stream",
     "text": [
      "['customer 100', 'customer 123', 'customer 345', 'customer 567', 'customer 789', 'customer 890', 'customer 98', 'customer 876', 'customer 543', 'customer 678']\n"
     ]
    }
   ],
   "source": [
    "#solution\n",
    "a = [100,123,345,567,789,890,98,876,543,678]\n",
    "#enter customer before each element\n",
    "print(['customer {0}'.format(i) for i in a])"
   ]
  },
  {
   "cell_type": "markdown",
   "id": "b93508ff",
   "metadata": {},
   "source": [
    "###### 8. Write a program to take two lists and print if they have at least one common member"
   ]
  },
  {
   "cell_type": "code",
   "execution_count": 102,
   "id": "ba419e26",
   "metadata": {},
   "outputs": [],
   "source": [
    "# My Solutions\n",
    "def is_common(lst1,lst2):\n",
    "    for i in lst1:\n",
    "        if lst2.count(i)> 0:\n",
    "            print(lst1,lst2)\n",
    "            break\n",
    "    else:\n",
    "        print(\"Non of the elements are matching\")"
   ]
  },
  {
   "cell_type": "code",
   "execution_count": 110,
   "id": "7b22970a",
   "metadata": {},
   "outputs": [
    {
     "name": "stdout",
     "output_type": "stream",
     "text": [
      "[1, 2, 3, 4, 5, 6, 7] [8, 9, 10, 11, 12, 13, 7]\n"
     ]
    }
   ],
   "source": [
    "lst3=[1,2,3,4,5,6,7]\n",
    "lst4=[8,9,10,11,12,13,7]\n",
    "is_common(lst3,lst4)\n"
   ]
  },
  {
   "cell_type": "code",
   "execution_count": 111,
   "id": "88827e2a",
   "metadata": {},
   "outputs": [
    {
     "name": "stdout",
     "output_type": "stream",
     "text": [
      "[1, 2, 3, 4, 5, 6, 7] [8, 9, 10, 11, 12, 13, 7]\n"
     ]
    }
   ],
   "source": [
    "# My Solutions 2\n",
    "if set(lst3).isdisjoint(set(lst4)) :\n",
    "    print(\"Non of the elements are matching\")\n",
    "else:\n",
    "    print(lst3,lst4)"
   ]
  },
  {
   "cell_type": "code",
   "execution_count": 115,
   "id": "197c065d",
   "metadata": {},
   "outputs": [
    {
     "name": "stdout",
     "output_type": "stream",
     "text": [
      "True\n",
      "None\n"
     ]
    }
   ],
   "source": [
    "#solution\n",
    "def common_data(list1, list2):\n",
    "    result = False\n",
    "    for x in list1:\n",
    "        for y in list2:\n",
    "            if x == y:\n",
    "                result = True\n",
    "                return result\n",
    "print(common_data([121,222,332,432,125], [125,236,457,678,779]))\n",
    "print(common_data([1,2,3,4,5], [6,7,8,9]))"
   ]
  },
  {
   "cell_type": "markdown",
   "id": "82db8399",
   "metadata": {},
   "source": [
    "###### 9. Compute all permutations in a list"
   ]
  },
  {
   "cell_type": "code",
   "execution_count": 116,
   "id": "c4e6006f",
   "metadata": {},
   "outputs": [
    {
     "name": "stdout",
     "output_type": "stream",
     "text": [
      "Initial string abc\n",
      "Resultant permutations ['abc', 'acb', 'bac', 'bca', 'cba', 'cab']\n"
     ]
    }
   ],
   "source": [
    "# Python code to demonstrate\n",
    "# to find all permutation of\n",
    "# a given string\n",
    " \n",
    "# Initialising string\n",
    "ini_str = \"abc\"\n",
    " \n",
    "# Printing initial string\n",
    "print(\"Initial string\", ini_str)\n",
    " \n",
    "# Finding all permutation\n",
    "result = []\n",
    " \n",
    "def permute(data, i, length):\n",
    "    if i == length:\n",
    "        result.append(''.join(data) )\n",
    "    else:\n",
    "        for j in range(i, length):\n",
    "            # swap\n",
    "            data[i], data[j] = data[j], data[i]\n",
    "            permute(data, i + 1, length)\n",
    "            data[i], data[j] = data[j], data[i] \n",
    "permute(list(ini_str), 0, len(ini_str))\n",
    " \n",
    "# Printing result\n",
    "print(\"Resultant permutations\", str(result))"
   ]
  },
  {
   "cell_type": "code",
   "execution_count": 117,
   "id": "2fe15945",
   "metadata": {},
   "outputs": [
    {
     "name": "stdout",
     "output_type": "stream",
     "text": [
      "yup\n",
      "ypu\n",
      "uyp\n",
      "upy\n",
      "puy\n",
      "pyu\n",
      "None\n"
     ]
    }
   ],
   "source": [
    "def get_permutation(string, i=0):\n",
    "\n",
    "    if i == len(string):   \t \n",
    "        print(\"\".join(string))\n",
    "\n",
    "    for j in range(i, len(string)):\n",
    "\n",
    "        words = [c for c in string]\n",
    "   \n",
    "        # swap\n",
    "        words[i], words[j] = words[j], words[i]\n",
    "   \t \n",
    "        get_permutation(words, i + 1)\n",
    "\n",
    "print(get_permutation('yup'))"
   ]
  },
  {
   "cell_type": "code",
   "execution_count": 118,
   "id": "6ec45275",
   "metadata": {},
   "outputs": [
    {
     "name": "stdout",
     "output_type": "stream",
     "text": [
      "[(12, 22, 23), (12, 23, 22), (22, 12, 23), (22, 23, 12), (23, 12, 22), (23, 22, 12)]\n"
     ]
    }
   ],
   "source": [
    "#solution\n",
    "import itertools\n",
    "print(list(itertools.permutations([12,22,23])))"
   ]
  },
  {
   "cell_type": "code",
   "execution_count": null,
   "id": "dca4f5ac",
   "metadata": {},
   "outputs": [],
   "source": []
  }
 ],
 "metadata": {
  "kernelspec": {
   "display_name": "Python 3 (ipykernel)",
   "language": "python",
   "name": "python3"
  },
  "language_info": {
   "codemirror_mode": {
    "name": "ipython",
    "version": 3
   },
   "file_extension": ".py",
   "mimetype": "text/x-python",
   "name": "python",
   "nbconvert_exporter": "python",
   "pygments_lexer": "ipython3",
   "version": "3.9.12"
  }
 },
 "nbformat": 4,
 "nbformat_minor": 5
}
