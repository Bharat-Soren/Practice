{
 "cells": [
  {
   "cell_type": "code",
   "execution_count": null,
   "id": "9c508707",
   "metadata": {},
   "outputs": [],
   "source": [
    "# These Practice quetion needs some additional Study\n",
    "# https://drive.google.com/file/d/1qu6WcZVK_AApjZ1nfgmvNC2-NYc_edw1/view"
   ]
  }
 ],
 "metadata": {
  "kernelspec": {
   "display_name": "Python 3 (ipykernel)",
   "language": "python",
   "name": "python3"
  },
  "language_info": {
   "codemirror_mode": {
    "name": "ipython",
    "version": 3
   },
   "file_extension": ".py",
   "mimetype": "text/x-python",
   "name": "python",
   "nbconvert_exporter": "python",
   "pygments_lexer": "ipython3",
   "version": "3.9.12"
  }
 },
 "nbformat": 4,
 "nbformat_minor": 5
}
