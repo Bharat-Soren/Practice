{
 "cells": [
  {
   "cell_type": "markdown",
   "id": "8af06258",
   "metadata": {},
   "source": [
    "###### 1. Create a tuple from multiple data types"
   ]
  },
  {
   "cell_type": "code",
   "execution_count": 1,
   "id": "7a4896af",
   "metadata": {},
   "outputs": [
    {
     "name": "stdout",
     "output_type": "stream",
     "text": [
      "('tuple', False, 3.2, 1)\n"
     ]
    }
   ],
   "source": [
    "tuple1 = (\"tuple\", False, 3.2, 1)\n",
    "print(tuple1)"
   ]
  },
  {
   "cell_type": "code",
   "execution_count": 2,
   "id": "04d6cbb3",
   "metadata": {},
   "outputs": [],
   "source": [
    "a = ['tuple','dict','try']\n",
    "b = [2.3,4.5,6.7]\n",
    "c = [1,2,3]\n",
    "d = [True, False, True]"
   ]
  },
  {
   "cell_type": "code",
   "execution_count": 3,
   "id": "a9ba6337",
   "metadata": {},
   "outputs": [
    {
     "data": {
      "text/plain": [
       "(['tuple', 'dict', 'try'], [2.3, 4.5, 6.7], [1, 2, 3], [True, False, True])"
      ]
     },
     "execution_count": 3,
     "metadata": {},
     "output_type": "execute_result"
    }
   ],
   "source": [
    "tuple2=(a,b,c,d)\n",
    "tuple2"
   ]
  },
  {
   "cell_type": "code",
   "execution_count": 4,
   "id": "874dcac4",
   "metadata": {},
   "outputs": [
    {
     "data": {
      "text/plain": [
       "tuple"
      ]
     },
     "execution_count": 4,
     "metadata": {},
     "output_type": "execute_result"
    }
   ],
   "source": [
    "type(tuple2)"
   ]
  },
  {
   "cell_type": "markdown",
   "id": "837cb15c",
   "metadata": {},
   "source": [
    "###### 2. Create a list of length 3 and Create a list of length 4, For each element in the first list, Display the corresponding index element of the second list"
   ]
  },
  {
   "cell_type": "code",
   "execution_count": 14,
   "id": "23ea7919",
   "metadata": {},
   "outputs": [],
   "source": [
    "#Solution\n",
    "# Create a list of length 3:\n",
    "header = ['data science', 'Blue mix', 'algorithms']\n",
    "# Create a list of length 4:\n",
    "match = ['Red hat', 'Blue mixx','Green gold','Orange Ai']"
   ]
  },
  {
   "cell_type": "code",
   "execution_count": 16,
   "id": "713e06c5",
   "metadata": {},
   "outputs": [
    {
     "name": "stdout",
     "output_type": "stream",
     "text": [
      "Index:0  'data science' has the following options: 'Red hat'\n",
      "Index:1  'Blue mix' has the following options: 'Blue mixx'\n",
      "Index:2  'algorithms' has the following options: 'Green gold'\n"
     ]
    }
   ],
   "source": [
    "# My Solutions\n",
    "for i in range(len(header)):\n",
    "    print(\"Index:{}  '{}' has the following options: '{}'\".format(i,header[i],match[i]))\n",
    "    \n",
    "    "
   ]
  },
  {
   "cell_type": "code",
   "execution_count": 17,
   "id": "463df7b1",
   "metadata": {},
   "outputs": [
    {
     "name": "stdout",
     "output_type": "stream",
     "text": [
      "data science has the following options: Red hat\n",
      "Blue mix has the following options: Blue mixx\n",
      "algorithms has the following options: Green gold\n"
     ]
    }
   ],
   "source": [
    "# For each element in the first list,\n",
    "for header, match in zip(header, match):\n",
    "# Display the corresponding index element of the second list:\n",
    "    print(header, 'has the following options:', match)"
   ]
  },
  {
   "cell_type": "markdown",
   "id": "adcaf213",
   "metadata": {},
   "source": [
    "######  3. Display an example of Nested For Loops Using List Comprehension"
   ]
  },
  {
   "cell_type": "code",
   "execution_count": 18,
   "id": "6729f4a7",
   "metadata": {},
   "outputs": [],
   "source": [
    "# Create a list of length 3:\n",
    "headers = ['data science', 'Blue mix', 'algorithms']\n",
    "# Create a list of length 4:\n",
    "matches = ['Red hat', 'Blue mixx','Green gold','Orange Ai']"
   ]
  },
  {
   "cell_type": "code",
   "execution_count": 19,
   "id": "48bbe620",
   "metadata": {},
   "outputs": [
    {
     "data": {
      "text/plain": [
       "[('data science', 'Red hat'),\n",
       " ('data science', 'Blue mixx'),\n",
       " ('data science', 'Green gold'),\n",
       " ('data science', 'Orange Ai'),\n",
       " ('Blue mix', 'Red hat'),\n",
       " ('Blue mix', 'Blue mixx'),\n",
       " ('Blue mix', 'Green gold'),\n",
       " ('Blue mix', 'Orange Ai'),\n",
       " ('algorithms', 'Red hat'),\n",
       " ('algorithms', 'Blue mixx'),\n",
       " ('algorithms', 'Green gold'),\n",
       " ('algorithms', 'Orange Ai')]"
      ]
     },
     "execution_count": 19,
     "metadata": {},
     "output_type": "execute_result"
    }
   ],
   "source": [
    "#Solution\n",
    "[(header, match) for header in headers for match in matches ]"
   ]
  },
  {
   "cell_type": "markdown",
   "id": "3cb34b5d",
   "metadata": {},
   "source": [
    "###### 4. Write a program for breaking and exiting out of loop"
   ]
  },
  {
   "cell_type": "code",
   "execution_count": 20,
   "id": "41fe18d5",
   "metadata": {},
   "outputs": [
    {
     "name": "stdout",
     "output_type": "stream",
     "text": [
      "Red Army\n",
      "Blue Army\n",
      "Blue Army Found! Stopping.\n"
     ]
    }
   ],
   "source": [
    "# Create a list:\n",
    "armies = ['Red Army', 'Blue Army', 'Green Army']\n",
    "\n",
    "for army in armies:\n",
    "    print(army)\n",
    "    if army == 'Blue Army':\n",
    "        print('Blue Army Found! Stopping.')\n",
    "        break"
   ]
  },
  {
   "cell_type": "markdown",
   "id": "d9e3ba83",
   "metadata": {},
   "source": [
    "###### 5. A loop will exit when completed, but using an else statement we can add an action at the conclusion of the loop if it hasn’t been exited earlier."
   ]
  },
  {
   "cell_type": "code",
   "execution_count": 24,
   "id": "3a09a0ff",
   "metadata": {},
   "outputs": [
    {
     "name": "stdout",
     "output_type": "stream",
     "text": [
      "Red Army\n",
      "Blue Army\n",
      "Green Army\n",
      "Looped Through The Whole List, No Orange Army Found\n"
     ]
    }
   ],
   "source": [
    "for army in armies:\n",
    "    print(army)\n",
    "    if army == 'Orange Army':\n",
    "        break\n",
    "else:\n",
    "    print('Looped Through The Whole List, No Orange Army Found')"
   ]
  },
  {
   "cell_type": "code",
   "execution_count": null,
   "id": "7a82a70c",
   "metadata": {},
   "outputs": [],
   "source": []
  }
 ],
 "metadata": {
  "kernelspec": {
   "display_name": "Python 3 (ipykernel)",
   "language": "python",
   "name": "python3"
  },
  "language_info": {
   "codemirror_mode": {
    "name": "ipython",
    "version": 3
   },
   "file_extension": ".py",
   "mimetype": "text/x-python",
   "name": "python",
   "nbconvert_exporter": "python",
   "pygments_lexer": "ipython3",
   "version": "3.9.12"
  }
 },
 "nbformat": 4,
 "nbformat_minor": 5
}
