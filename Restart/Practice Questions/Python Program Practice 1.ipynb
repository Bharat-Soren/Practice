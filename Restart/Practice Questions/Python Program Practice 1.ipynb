{
 "cells": [
  {
   "cell_type": "code",
   "execution_count": 3,
   "id": "280354f8",
   "metadata": {},
   "outputs": [
    {
     "name": "stdout",
     "output_type": "stream",
     "text": [
      "The Sum of all the elements in a list is: 45\n"
     ]
    }
   ],
   "source": [
    "#Write a Python program to sum all the items in a list.\n",
    "\n",
    "def sum_all(lst):\n",
    "    result=0\n",
    "    for i in lst:\n",
    "        result+=i\n",
    "        \n",
    "    return result\n",
    "\n",
    "lst1=[1,2,3,4,5,6,7,8,9]\n",
    "\n",
    "print(\"The Sum of all the elements in a list is:\",sum_all(lst1))"
   ]
  },
  {
   "cell_type": "code",
   "execution_count": 12,
   "id": "d3b9659c",
   "metadata": {},
   "outputs": [],
   "source": [
    "# Write a Python program to count the number of strings where the string length is 2 or\n",
    "# more and the first and last character are same from a given list of strings.\n",
    "\n",
    "def matching_words(lst_str):\n",
    "    cnt=0\n",
    "    for word in lst_str:\n",
    "        if len(word) >= 2 and word[0]==word[-1]:\n",
    "                cnt+=1\n",
    "    else:\n",
    "        return cnt\n",
    "    "
   ]
  },
  {
   "cell_type": "code",
   "execution_count": 14,
   "id": "dbe7adb7",
   "metadata": {},
   "outputs": [
    {
     "name": "stdout",
     "output_type": "stream",
     "text": [
      "Matching Word count is: 5\n"
     ]
    }
   ],
   "source": [
    "lst_str1=['Bharat','SuS','TupT','Home','SSSS','GHIG','ddd']\n",
    "print(\"Matching Word count is:\",matching_words(lst_str1))"
   ]
  },
  {
   "cell_type": "code",
   "execution_count": 44,
   "id": "f8a99b69",
   "metadata": {},
   "outputs": [],
   "source": [
    "#Write a Python program to remove duplicates from a list.\n",
    "\n",
    "def remove_dup(lst):\n",
    "    unique_lst=[]\n",
    "    dup_lst=[]\n",
    "    dup_dict={}\n",
    "    for val in lst:\n",
    "        val_cnt=lst.count(val)\n",
    "        if  val_cnt== 1:\n",
    "            unique_lst.append(val)\n",
    "        elif val_cnt > 1 and dup_lst.count(val) == 0:\n",
    "            dup_lst.append(val)\n",
    "            dup_dict[val]=val_cnt\n",
    "    print(\"Unique Values Present in the List is:\",unique_lst)\n",
    "    print(\"Duplicate Values Present in the List is:\",dup_lst)\n",
    "    print(\"Duplicate Values Present in the List with number of Occurance:\",dup_dict)"
   ]
  },
  {
   "cell_type": "code",
   "execution_count": 45,
   "id": "8c3d693a",
   "metadata": {},
   "outputs": [
    {
     "name": "stdout",
     "output_type": "stream",
     "text": [
      "Unique Values Present in the List is: [1, 4, 5, 8]\n",
      "Duplicate Values Present in the List is: [2, 3, 6]\n",
      "Duplicate Values Present in the List with number of Occurance: {2: 2, 3: 2, 6: 3}\n"
     ]
    }
   ],
   "source": [
    "lst2=[1,2,3,4,5,6,3,6,2,8,6]\n",
    "\n",
    "remove_dup(lst2)\n"
   ]
  }
 ],
 "metadata": {
  "kernelspec": {
   "display_name": "Python 3 (ipykernel)",
   "language": "python",
   "name": "python3"
  },
  "language_info": {
   "codemirror_mode": {
    "name": "ipython",
    "version": 3
   },
   "file_extension": ".py",
   "mimetype": "text/x-python",
   "name": "python",
   "nbconvert_exporter": "python",
   "pygments_lexer": "ipython3",
   "version": "3.9.12"
  }
 },
 "nbformat": 4,
 "nbformat_minor": 5
}
