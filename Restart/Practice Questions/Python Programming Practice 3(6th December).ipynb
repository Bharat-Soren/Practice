{
 "cells": [
  {
   "cell_type": "markdown",
   "id": "507464c7",
   "metadata": {},
   "source": [
    "###### 1. Write a program to sort a dictionary by key."
   ]
  },
  {
   "cell_type": "code",
   "execution_count": 31,
   "id": "2e0aa2cf",
   "metadata": {},
   "outputs": [],
   "source": [
    "# Create a dictionary\n",
    "dict1 = {'data': '123',\n",
    "'science':'234',\n",
    "'AI': '235'}"
   ]
  },
  {
   "cell_type": "code",
   "execution_count": 40,
   "id": "181cb1ed",
   "metadata": {},
   "outputs": [],
   "source": [
    "# My Solutions\n",
    "def sort_dict1(d):\n",
    "    result_dict={}\n",
    "    lst1=list(d.keys())\n",
    "    lst1.sort()\n",
    "    for k in lst1:\n",
    "        result_dict[k]=d[k]\n",
    "    return result_dict"
   ]
  },
  {
   "cell_type": "code",
   "execution_count": 41,
   "id": "d7359a72",
   "metadata": {},
   "outputs": [
    {
     "data": {
      "text/plain": [
       "{'AI': '235', 'data': '123', 'science': '234'}"
      ]
     },
     "execution_count": 41,
     "metadata": {},
     "output_type": "execute_result"
    }
   ],
   "source": [
    "sort_dict1(dict1)"
   ]
  },
  {
   "cell_type": "code",
   "execution_count": 46,
   "id": "33c1f7f2",
   "metadata": {},
   "outputs": [
    {
     "name": "stdout",
     "output_type": "stream",
     "text": [
      "AI: 235\n",
      "data: 123\n",
      "science: 234\n"
     ]
    }
   ],
   "source": [
    "#solution\n",
    "for key in sorted(dict1):\n",
    "    print(\"%s: %s\" % (key, dict1[key]))"
   ]
  },
  {
   "cell_type": "markdown",
   "id": "7a23c981",
   "metadata": {},
   "source": [
    "##### 2. Write a Python program to get a dictionary from an object's fields."
   ]
  },
  {
   "cell_type": "code",
   "execution_count": 48,
   "id": "11e6c6bf",
   "metadata": {},
   "outputs": [
    {
     "name": "stdout",
     "output_type": "stream",
     "text": [
      "{'x': 'algorithm', 'y': 'statistics', 'z': 'programming'}\n"
     ]
    }
   ],
   "source": [
    "#solution\n",
    "class dictObj(object):\n",
    "    def __init__(self):\n",
    "        self.x = 'algorithm'\n",
    "        self.y = 'statistics'\n",
    "        self.z = 'programming'\n",
    "    def do_nothing(self):\n",
    "        pass\n",
    "test = dictObj()\n",
    "print(test.__dict__)"
   ]
  },
  {
   "cell_type": "markdown",
   "id": "21dd362d",
   "metadata": {},
   "source": [
    "###### 3. Write a program to remove duplicates from Dictionary."
   ]
  },
  {
   "cell_type": "code",
   "execution_count": 50,
   "id": "9a1ff33d",
   "metadata": {},
   "outputs": [],
   "source": [
    "#solution\n",
    "student_data = {'id1':\n",
    "{'name': ['Sara'],\n",
    "'class': ['V'],\n",
    "'subject_integration': ['english, math, science']\n",
    "},\n",
    "'id2':\n",
    "{'name': ['David'],\n",
    "'class': ['V'],\n",
    "'subject_integration': ['english, math, science']\n",
    "},\n",
    "'id3':\n",
    "{'name': ['Sara'],\n",
    "'class': ['V'],\n",
    "'subject_integration': ['english, math, science']\n",
    "},\n",
    "'id4':\n",
    "{'name': ['Surya'],\n",
    "'class': ['V'],\n",
    "'subject_integration': ['english, math, science']\n",
    "},\n",
    "}"
   ]
  },
  {
   "cell_type": "code",
   "execution_count": 53,
   "id": "ac724058",
   "metadata": {},
   "outputs": [],
   "source": [
    "def remove_dup_dict(stu_data):\n",
    "    result = {}\n",
    "    for key,value in stu_data.items():\n",
    "        if value not in result.values():\n",
    "            result[key] = value\n",
    "    print(result)"
   ]
  },
  {
   "cell_type": "code",
   "execution_count": 54,
   "id": "5e6936ee",
   "metadata": {},
   "outputs": [
    {
     "name": "stdout",
     "output_type": "stream",
     "text": [
      "{'id1': {'name': ['Sara'], 'class': ['V'], 'subject_integration': ['english, math, science']}, 'id2': {'name': ['David'], 'class': ['V'], 'subject_integration': ['english, math, science']}, 'id4': {'name': ['Surya'], 'class': ['V'], 'subject_integration': ['english, math, science']}}\n"
     ]
    }
   ],
   "source": [
    "remove_dup_dict(student_data)"
   ]
  },
  {
   "cell_type": "markdown",
   "id": "4b1fcfef",
   "metadata": {},
   "source": [
    "###### 4. Write a program to combine two dictionary adding values for common keys"
   ]
  },
  {
   "cell_type": "code",
   "execution_count": 97,
   "id": "52c4c28f",
   "metadata": {},
   "outputs": [],
   "source": [
    "# My Solutions\n",
    "def add_dict_values(d1,d2):\n",
    "    result_dict2={}\n",
    "    key1=list(d1.keys())\n",
    "    key1.extend(list(d2.keys()))\n",
    "    f_key=list(set(key1))\n",
    "    f_key.sort()\n",
    "    for key in f_key:\n",
    "        if key not in result_dict2.keys():\n",
    "            result_dict2[key]=d1.get(key,0)+d2.get(key,0)\n",
    "    return result_dict2"
   ]
  },
  {
   "cell_type": "code",
   "execution_count": 98,
   "id": "3ec535ed",
   "metadata": {},
   "outputs": [
    {
     "data": {
      "text/plain": [
       "{'a': 1300, 'b': 3400, 'c': 1300, 'd': 400}"
      ]
     },
     "execution_count": 98,
     "metadata": {},
     "output_type": "execute_result"
    }
   ],
   "source": [
    "d1 = {'a': 1000, 'b': 3200, 'c':1300}\n",
    "d2 = {'a': 300, 'b': 200, 'd':400}\n",
    "add_dict_values(d1,d2)"
   ]
  },
  {
   "cell_type": "code",
   "execution_count": 96,
   "id": "56320bdc",
   "metadata": {},
   "outputs": [
    {
     "name": "stdout",
     "output_type": "stream",
     "text": [
      "Counter({'b': 3400, 'a': 1300, 'c': 1300, 'd': 400})\n"
     ]
    }
   ],
   "source": [
    "#solution\n",
    "from collections import Counter\n",
    "d1 = {'a': 1000, 'b': 3200, 'c':1300}\n",
    "d2 = {'a': 300, 'b': 200, 'd':400}\n",
    "d = Counter(d1) + Counter(d2)\n",
    "print(d)"
   ]
  },
  {
   "cell_type": "markdown",
   "id": "8d1ca260",
   "metadata": {},
   "source": [
    "###### 5. Write a program to print all unique values from a dictionary in a list"
   ]
  },
  {
   "cell_type": "code",
   "execution_count": null,
   "id": "61913642",
   "metadata": {},
   "outputs": [],
   "source": []
  },
  {
   "cell_type": "code",
   "execution_count": 129,
   "id": "5ca157dd",
   "metadata": {},
   "outputs": [],
   "source": [
    "data = [{\"V\":\"S001\"}, {\"V\": \"S002\"}, {\"VI\": \"S001\"}, {\"VI\": \"S005\"}, {\"VII\":\"S005\"}, {\n",
    "\"V\":\"S009\"},{\"VIII\":\"S007\"}]\n",
    "\n",
    "def print_uni_value(d):\n",
    "    result_data5=[]\n",
    "    for i in d:\n",
    "        for j in i.keys():\n",
    "            if i[j] not in result_data5:\n",
    "                result_data5.append(i[j])\n",
    "    print(\"The unique values are:\",result_data5)"
   ]
  },
  {
   "cell_type": "code",
   "execution_count": 128,
   "id": "7492a0ff",
   "metadata": {},
   "outputs": [
    {
     "name": "stdout",
     "output_type": "stream",
     "text": [
      "The unique values are: ['S001', 'S002', 'S005', 'S009', 'S007']\n"
     ]
    }
   ],
   "source": [
    "print_uni_value(data)"
   ]
  },
  {
   "cell_type": "code",
   "execution_count": 130,
   "id": "3bb6622e",
   "metadata": {},
   "outputs": [],
   "source": [
    "data1 = [{\"V\":\"S001\",\"V2\":\"S003\"}, {\"V\": \"S002\"}, {\"VI\": \"S001\"}, {\"VI\": \"S005\"}, {\"VII\":\"S005\"}, {\n",
    "\"V\":\"S009\"},{\"VIII\":\"S007\"}]"
   ]
  },
  {
   "cell_type": "code",
   "execution_count": 131,
   "id": "28fbc949",
   "metadata": {},
   "outputs": [
    {
     "name": "stdout",
     "output_type": "stream",
     "text": [
      "The unique values are: ['S001', 'S003', 'S002', 'S005', 'S009', 'S007']\n"
     ]
    }
   ],
   "source": [
    "print_uni_value(data1)"
   ]
  },
  {
   "cell_type": "code",
   "execution_count": 132,
   "id": "ab292db8",
   "metadata": {},
   "outputs": [
    {
     "name": "stdout",
     "output_type": "stream",
     "text": [
      "Unique Values:  {'S001', 'S009', 'S005', 'S002', 'S007'}\n"
     ]
    }
   ],
   "source": [
    "#solution\n",
    "u_value = set( val for dic in data for val in dic.values())\n",
    "print(\"Unique Values: \",u_value)"
   ]
  },
  {
   "cell_type": "code",
   "execution_count": null,
   "id": "2708d4b4",
   "metadata": {},
   "outputs": [],
   "source": []
  }
 ],
 "metadata": {
  "kernelspec": {
   "display_name": "Python 3 (ipykernel)",
   "language": "python",
   "name": "python3"
  },
  "language_info": {
   "codemirror_mode": {
    "name": "ipython",
    "version": 3
   },
   "file_extension": ".py",
   "mimetype": "text/x-python",
   "name": "python",
   "nbconvert_exporter": "python",
   "pygments_lexer": "ipython3",
   "version": "3.9.12"
  }
 },
 "nbformat": 4,
 "nbformat_minor": 5
}
