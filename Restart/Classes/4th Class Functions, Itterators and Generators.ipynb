{
 "cells": [
  {
   "cell_type": "code",
   "execution_count": 2,
   "id": "6674c887",
   "metadata": {},
   "outputs": [
    {
     "name": "stdout",
     "output_type": "stream",
     "text": [
      "1\n",
      "2\n",
      "3\n",
      "4\n",
      "5\n",
      "6\n"
     ]
    }
   ],
   "source": [
    "#List is Iterable, \n",
    "#We can iterate throught the collection. \n",
    "for i in [1,2,3,4,5,6]:\n",
    "    print(i)"
   ]
  },
  {
   "cell_type": "code",
   "execution_count": 3,
   "id": "da92bcf5",
   "metadata": {},
   "outputs": [
    {
     "name": "stdout",
     "output_type": "stream",
     "text": [
      "B\n",
      "h\n",
      "a\n",
      "r\n",
      "a\n",
      "t\n"
     ]
    }
   ],
   "source": [
    "# String is also Iterable\n",
    "for i in \"Bharat\":\n",
    "    print(i)"
   ]
  },
  {
   "cell_type": "code",
   "execution_count": 4,
   "id": "322c32d2",
   "metadata": {},
   "outputs": [
    {
     "name": "stdout",
     "output_type": "stream",
     "text": [
      "1\n",
      "2\n",
      "3\n",
      "4\n",
      "5\n",
      "Bharat\n"
     ]
    }
   ],
   "source": [
    "# Tuples are also Itrable\n",
    "for i in (1,2,3,4,5,\"Bharat\"):\n",
    "    print(i)"
   ]
  },
  {
   "cell_type": "markdown",
   "id": "6c27aca3",
   "metadata": {},
   "source": [
    "## Iterator\n",
    "Iterator can be created on iterable object. We can create the Iterator using the keyword: **iter()**\n",
    "### Lazy Evaluation\n",
    "Unless until we call the object it won't load the item inside the object."
   ]
  },
  {
   "cell_type": "code",
   "execution_count": 5,
   "id": "0e26d436",
   "metadata": {},
   "outputs": [
    {
     "data": {
      "text/plain": [
       "<list_iterator at 0x2c05cffba90>"
      ]
     },
     "execution_count": 5,
     "metadata": {},
     "output_type": "execute_result"
    }
   ],
   "source": [
    "a=iter([1,2,3,4,5,6,7])\n",
    "a"
   ]
  },
  {
   "cell_type": "code",
   "execution_count": 6,
   "id": "fac5fc9b",
   "metadata": {},
   "outputs": [
    {
     "data": {
      "text/plain": [
       "1"
      ]
     },
     "execution_count": 6,
     "metadata": {},
     "output_type": "execute_result"
    }
   ],
   "source": [
    "# The above out is the memory location in which object is stored.\n",
    "# To get the element from the iterator. We use the \"next()\" Function.\n",
    "\n",
    "next(a)"
   ]
  },
  {
   "cell_type": "code",
   "execution_count": 8,
   "id": "09a5ef02",
   "metadata": {},
   "outputs": [
    {
     "data": {
      "text/plain": [
       "<list_iterator at 0x2c05cffb160>"
      ]
     },
     "execution_count": 8,
     "metadata": {},
     "output_type": "execute_result"
    }
   ],
   "source": [
    "b=iter([1,2,3,4,5,6,7])\n",
    "b"
   ]
  },
  {
   "cell_type": "code",
   "execution_count": 17,
   "id": "c2f07e27",
   "metadata": {},
   "outputs": [
    {
     "ename": "StopIteration",
     "evalue": "",
     "output_type": "error",
     "traceback": [
      "\u001b[1;31m---------------------------------------------------------------------------\u001b[0m",
      "\u001b[1;31mStopIteration\u001b[0m                             Traceback (most recent call last)",
      "Input \u001b[1;32mIn [17]\u001b[0m, in \u001b[0;36m<cell line: 1>\u001b[1;34m()\u001b[0m\n\u001b[1;32m----> 1\u001b[0m \u001b[38;5;28;43mnext\u001b[39;49m\u001b[43m(\u001b[49m\u001b[43mb\u001b[49m\u001b[43m)\u001b[49m\n",
      "\u001b[1;31mStopIteration\u001b[0m: "
     ]
    }
   ],
   "source": [
    "next(b) # When it reach the end of the iterator it will show the below error message."
   ]
  },
  {
   "cell_type": "code",
   "execution_count": 23,
   "id": "eeb338e7",
   "metadata": {},
   "outputs": [
    {
     "data": {
      "text/plain": [
       "<list_iterator at 0x2c05cfdd610>"
      ]
     },
     "execution_count": 23,
     "metadata": {},
     "output_type": "execute_result"
    }
   ],
   "source": [
    "c=iter([1,2,3,4,5,6,7])\n",
    "c"
   ]
  },
  {
   "cell_type": "code",
   "execution_count": 24,
   "id": "a88b0d5a",
   "metadata": {},
   "outputs": [
    {
     "data": {
      "text/plain": [
       "1"
      ]
     },
     "execution_count": 24,
     "metadata": {},
     "output_type": "execute_result"
    }
   ],
   "source": [
    "next(c)"
   ]
  },
  {
   "cell_type": "code",
   "execution_count": 25,
   "id": "5f99baf2",
   "metadata": {},
   "outputs": [
    {
     "name": "stdout",
     "output_type": "stream",
     "text": [
      "2\n",
      "3\n",
      "4\n",
      "5\n",
      "6\n",
      "7\n"
     ]
    }
   ],
   "source": [
    "# We can also use the \"For Loop\" to featch the data from iterator.\n",
    "# It will load the data at the run time and the pointer is also getting moved. It will display from current pointer location.\n",
    "\n",
    "for i in c:\n",
    "    print(i)"
   ]
  },
  {
   "cell_type": "markdown",
   "id": "26036ae4",
   "metadata": {},
   "source": [
    "## Generator\n",
    "It is used to create a \"Iterator\" . Using the key word \"Yield\""
   ]
  },
  {
   "cell_type": "code",
   "execution_count": 26,
   "id": "1a26676a",
   "metadata": {},
   "outputs": [],
   "source": [
    "# Generator function for the cube of numbers (power of 3)\n",
    "# Using normal Function.\n",
    "\n",
    "def getCubes(n):\n",
    "    listOfSquares=[]\n",
    "    for i in range(n):\n",
    "        listOfSquares.append(i**3)\n",
    "    return listOfSquares\n",
    "    print(\"Something\")\n",
    "    "
   ]
  },
  {
   "cell_type": "code",
   "execution_count": 29,
   "id": "0d15bc80",
   "metadata": {},
   "outputs": [
    {
     "data": {
      "text/plain": [
       "[0, 1, 8, 27, 64]"
      ]
     },
     "execution_count": 29,
     "metadata": {},
     "output_type": "execute_result"
    }
   ],
   "source": [
    "getCubes(5)"
   ]
  },
  {
   "cell_type": "code",
   "execution_count": 28,
   "id": "8a731de4",
   "metadata": {},
   "outputs": [],
   "source": [
    "def genCubes(n):\n",
    "    for num in range(n):\n",
    "        yield num**3\n",
    "        print(\"Something\")"
   ]
  },
  {
   "cell_type": "code",
   "execution_count": 37,
   "id": "8fde2422",
   "metadata": {},
   "outputs": [
    {
     "data": {
      "text/plain": [
       "<generator object genCubes at 0x000002C05F3905F0>"
      ]
     },
     "execution_count": 37,
     "metadata": {},
     "output_type": "execute_result"
    }
   ],
   "source": [
    "output=genCubes(5)\n",
    "output"
   ]
  },
  {
   "cell_type": "code",
   "execution_count": 39,
   "id": "cc0cbe92",
   "metadata": {},
   "outputs": [
    {
     "name": "stdout",
     "output_type": "stream",
     "text": [
      "Something\n"
     ]
    },
    {
     "data": {
      "text/plain": [
       "1"
      ]
     },
     "execution_count": 39,
     "metadata": {},
     "output_type": "execute_result"
    }
   ],
   "source": [
    "next(output)"
   ]
  },
  {
   "cell_type": "code",
   "execution_count": 68,
   "id": "5b15f180",
   "metadata": {},
   "outputs": [],
   "source": [
    "def genfibon(n):\n",
    "    a=0\n",
    "    b=1\n",
    "    for i in range(n):\n",
    "        yield a\n",
    "        a,b = b,a+b"
   ]
  },
  {
   "cell_type": "code",
   "execution_count": 69,
   "id": "6e74eacd",
   "metadata": {},
   "outputs": [],
   "source": [
    "output1=genfibon(10)"
   ]
  },
  {
   "cell_type": "code",
   "execution_count": 70,
   "id": "0dee37df",
   "metadata": {},
   "outputs": [
    {
     "name": "stdout",
     "output_type": "stream",
     "text": [
      "0\n",
      "1\n",
      "1\n",
      "2\n",
      "3\n",
      "5\n",
      "8\n",
      "13\n",
      "21\n",
      "34\n"
     ]
    }
   ],
   "source": [
    "for i in output1:\n",
    "    print(i)"
   ]
  },
  {
   "cell_type": "markdown",
   "id": "a227e5fa",
   "metadata": {},
   "source": [
    "## Map Functions\n",
    "The map is a function that takes two arguments.\n",
    "\n",
    "    1. A function\n",
    "    \n",
    "    2. A Sequence Table\n",
    "    \n",
    "In the form(function,sequence)\n"
   ]
  },
  {
   "cell_type": "code",
   "execution_count": 72,
   "id": "d1df164f",
   "metadata": {},
   "outputs": [],
   "source": [
    "def square_number(x):\n",
    "    return x**2"
   ]
  },
  {
   "cell_type": "code",
   "execution_count": 73,
   "id": "bdc98b2d",
   "metadata": {},
   "outputs": [
    {
     "data": {
      "text/plain": [
       "25"
      ]
     },
     "execution_count": 73,
     "metadata": {},
     "output_type": "execute_result"
    }
   ],
   "source": [
    "square_number(5)"
   ]
  },
  {
   "cell_type": "code",
   "execution_count": 78,
   "id": "984bfdbb",
   "metadata": {},
   "outputs": [
    {
     "data": {
      "text/plain": [
       "<map at 0x2c05e2b9dc0>"
      ]
     },
     "execution_count": 78,
     "metadata": {},
     "output_type": "execute_result"
    }
   ],
   "source": [
    "mp=map(square_number,[1,2,3,4,5])\n",
    "mp"
   ]
  },
  {
   "cell_type": "code",
   "execution_count": 76,
   "id": "dd195c71",
   "metadata": {},
   "outputs": [
    {
     "name": "stdout",
     "output_type": "stream",
     "text": [
      "1\n",
      "4\n",
      "9\n",
      "16\n",
      "25\n"
     ]
    }
   ],
   "source": [
    "for i in mp:\n",
    "    print(i)"
   ]
  },
  {
   "cell_type": "code",
   "execution_count": 79,
   "id": "e17f7aa4",
   "metadata": {},
   "outputs": [
    {
     "data": {
      "text/plain": [
       "[1, 4, 9, 16, 25]"
      ]
     },
     "execution_count": 79,
     "metadata": {},
     "output_type": "execute_result"
    }
   ],
   "source": [
    "list(mp)"
   ]
  },
  {
   "cell_type": "code",
   "execution_count": 84,
   "id": "2ea4cd13",
   "metadata": {},
   "outputs": [
    {
     "data": {
      "text/plain": [
       "[1, 4, 9, 16, 25]"
      ]
     },
     "execution_count": 84,
     "metadata": {},
     "output_type": "execute_result"
    }
   ],
   "source": [
    "list(map(lambda x:x*x,[1,2,3,4,5])) # We can also use the lambda function for the single line of code function."
   ]
  },
  {
   "cell_type": "code",
   "execution_count": 80,
   "id": "01b0766d",
   "metadata": {},
   "outputs": [],
   "source": [
    "def fahrenheit(T):\n",
    "    return ((float(9)/5)*T+32)\n",
    "\n",
    "def celsius(T):\n",
    "    return (float(5)/9)*(T-32)\n",
    "    \n",
    "def summ(x,y):\n",
    "    return(x+y)"
   ]
  },
  {
   "cell_type": "code",
   "execution_count": 81,
   "id": "d648e64e",
   "metadata": {},
   "outputs": [],
   "source": [
    "temp=[0,22.5,40,100]"
   ]
  },
  {
   "cell_type": "code",
   "execution_count": 82,
   "id": "8360641c",
   "metadata": {},
   "outputs": [
    {
     "data": {
      "text/plain": [
       "[32.0, 72.5, 104.0, 212.0]"
      ]
     },
     "execution_count": 82,
     "metadata": {},
     "output_type": "execute_result"
    }
   ],
   "source": [
    "list(map(fahrenheit,temp))"
   ]
  },
  {
   "cell_type": "markdown",
   "id": "c2ef319b",
   "metadata": {},
   "source": [
    "## Lambda Function\n",
    "It is a function without any name. Also, It workes very fast.\n",
    "\n",
    "It is also called as anonymous function"
   ]
  },
  {
   "cell_type": "code",
   "execution_count": 86,
   "id": "ef64dc46",
   "metadata": {},
   "outputs": [
    {
     "data": {
      "text/plain": [
       "[0, 22.5, 40, 100]"
      ]
     },
     "execution_count": 86,
     "metadata": {},
     "output_type": "execute_result"
    }
   ],
   "source": [
    "temp"
   ]
  },
  {
   "cell_type": "code",
   "execution_count": 87,
   "id": "e088fba4",
   "metadata": {},
   "outputs": [
    {
     "data": {
      "text/plain": [
       "[32.0, 72.5, 104.0, 212.0]"
      ]
     },
     "execution_count": 87,
     "metadata": {},
     "output_type": "execute_result"
    }
   ],
   "source": [
    "list(map(lambda x:((float(9)/5)*x+32),temp))"
   ]
  },
  {
   "cell_type": "code",
   "execution_count": 93,
   "id": "8369915e",
   "metadata": {},
   "outputs": [],
   "source": [
    "# Lambda with two and three parameters\n",
    "l=lambda x,y : x+y\n",
    "l1=lambda x,y,z : (x+y, y+z ,x-z)\n"
   ]
  },
  {
   "cell_type": "code",
   "execution_count": 94,
   "id": "203d7f32",
   "metadata": {},
   "outputs": [
    {
     "data": {
      "text/plain": [
       "30"
      ]
     },
     "execution_count": 94,
     "metadata": {},
     "output_type": "execute_result"
    }
   ],
   "source": [
    "l(10,20)"
   ]
  },
  {
   "cell_type": "code",
   "execution_count": 95,
   "id": "6ef1e521",
   "metadata": {},
   "outputs": [
    {
     "data": {
      "text/plain": [
       "(30, 50, -20)"
      ]
     },
     "execution_count": 95,
     "metadata": {},
     "output_type": "execute_result"
    }
   ],
   "source": [
    "l1(10,20,30)"
   ]
  },
  {
   "cell_type": "markdown",
   "id": "0c52d464",
   "metadata": {},
   "source": [
    "## Reduce Function\n",
    "This function reduce(function,sequence) continually applies the function to the sequence. It then returns a single value.\n",
    "\n",
    "Reduce() function is present inside the below library. so we need to import that.\n",
    "\n",
    " **from** functools **import** reduce \n",
    "\n",
    "Syntax: Reduce(function, sequence[,initial])\n"
   ]
  },
  {
   "cell_type": "code",
   "execution_count": 98,
   "id": "92794bc7",
   "metadata": {},
   "outputs": [],
   "source": [
    "# Find the maximum of a sequence (This already exists as max())\n",
    "max_find=lambda a,b: a if (a > b) else b\n",
    "lst5=[1,2,3,5,6,7,8,9]"
   ]
  },
  {
   "cell_type": "code",
   "execution_count": 100,
   "id": "91f44d09",
   "metadata": {},
   "outputs": [
    {
     "data": {
      "text/plain": [
       "9"
      ]
     },
     "execution_count": 100,
     "metadata": {},
     "output_type": "execute_result"
    }
   ],
   "source": [
    "from functools import reduce\n",
    "reduce(max_find,lst5)"
   ]
  },
  {
   "cell_type": "code",
   "execution_count": 101,
   "id": "49372a94",
   "metadata": {},
   "outputs": [],
   "source": [
    "# Sum of all the number using lambda function\n",
    "sum_num=lambda x,y: x+y"
   ]
  },
  {
   "cell_type": "code",
   "execution_count": 103,
   "id": "06cdc125",
   "metadata": {},
   "outputs": [
    {
     "data": {
      "text/plain": [
       "160"
      ]
     },
     "execution_count": 103,
     "metadata": {},
     "output_type": "execute_result"
    }
   ],
   "source": [
    "lst6=[10,20,30,40,50,10]\n",
    "reduce(sum_num,lst6)"
   ]
  },
  {
   "cell_type": "markdown",
   "id": "47f7a533",
   "metadata": {},
   "source": [
    "## Filter Function\n",
    "The function filter(function,list) offers a convenient way to filter out all the elements of an iterable for which the function returns \"True\".\n",
    "\n"
   ]
  },
  {
   "cell_type": "code",
   "execution_count": 104,
   "id": "828a697d",
   "metadata": {},
   "outputs": [],
   "source": [
    "# First let's make a function\n",
    "def even_check(num):\n",
    "    if num%2==0:\n",
    "        return True"
   ]
  },
  {
   "cell_type": "code",
   "execution_count": 106,
   "id": "d498edf4",
   "metadata": {},
   "outputs": [
    {
     "data": {
      "text/plain": [
       "[2, 4, 6, 8, 10]"
      ]
     },
     "execution_count": 106,
     "metadata": {},
     "output_type": "execute_result"
    }
   ],
   "source": [
    "lst7=[1,2,3,4,5,6,7,8,9,10]\n",
    "output=filter(even_check,lst7)\n",
    "list(output)"
   ]
  },
  {
   "cell_type": "code",
   "execution_count": null,
   "id": "c40fc167",
   "metadata": {},
   "outputs": [],
   "source": []
  }
 ],
 "metadata": {
  "kernelspec": {
   "display_name": "Python 3 (ipykernel)",
   "language": "python",
   "name": "python3"
  },
  "language_info": {
   "codemirror_mode": {
    "name": "ipython",
    "version": 3
   },
   "file_extension": ".py",
   "mimetype": "text/x-python",
   "name": "python",
   "nbconvert_exporter": "python",
   "pygments_lexer": "ipython3",
   "version": "3.9.12"
  }
 },
 "nbformat": 4,
 "nbformat_minor": 5
}
