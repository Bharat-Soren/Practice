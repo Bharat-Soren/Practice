{
 "cells": [
  {
   "cell_type": "code",
   "execution_count": 1,
   "id": "a99f74f0",
   "metadata": {},
   "outputs": [
    {
     "data": {
      "text/plain": [
       "True"
      ]
     },
     "execution_count": 1,
     "metadata": {},
     "output_type": "execute_result"
    }
   ],
   "source": [
    "# is vs == Difference\n",
    "lst = ['Bharat','Bharat1','Bharat2']\n",
    "lst1= ['Bharat','Bharat1','Bharat2']\n",
    "\n",
    "lst == lst1\n"
   ]
  },
  {
   "cell_type": "code",
   "execution_count": 2,
   "id": "660940bf",
   "metadata": {},
   "outputs": [
    {
     "data": {
      "text/plain": [
       "False"
      ]
     },
     "execution_count": 2,
     "metadata": {},
     "output_type": "execute_result"
    }
   ],
   "source": [
    "# is vs == Difference\n",
    "lst2 = ['Bharat','Bharat1','Bharat2']\n",
    "lst3= ['Bharat','Bharat1','Bharat2']\n",
    "\n",
    "lst2 is lst3"
   ]
  },
  {
   "cell_type": "code",
   "execution_count": 8,
   "id": "f561f8d1",
   "metadata": {},
   "outputs": [
    {
     "data": {
      "text/plain": [
       "True"
      ]
     },
     "execution_count": 8,
     "metadata": {},
     "output_type": "execute_result"
    }
   ],
   "source": [
    "## \"Is\" keyword is going to check if we are referencing to the same object or not.\n",
    "\n",
    "# is vs == Difference\n",
    "lst2 = ['Bharat','Bharat1','Bharat2']\n",
    "lst3= lst2\n",
    "\n",
    "lst2 is lst3"
   ]
  },
  {
   "cell_type": "code",
   "execution_count": 9,
   "id": "eca966fa",
   "metadata": {},
   "outputs": [
    {
     "name": "stdout",
     "output_type": "stream",
     "text": [
      "lst2: ['Bharat', 'Bharat1', 'Bharat2']\n",
      "lst3: ['Bharat', 'Bharat1', 'Bharat2']\n",
      "After the-- lst3[0]=\"Sunil\" --Operation\n",
      "lst3: ['Sunil', 'Bharat1', 'Bharat2']\n",
      "lst2: ['Sunil', 'Bharat1', 'Bharat2']\n"
     ]
    }
   ],
   "source": [
    "print('lst2:',lst2)\n",
    "print('lst3:',lst3)\n",
    "lst3[0]='Sunil'\n",
    "print('After the-- lst3[0]=\"Sunil\" --Operation')\n",
    "print('lst3:',lst3)\n",
    "print('lst2:',lst2)\n",
    "\n",
    "#Both the variables value got chenged because both the variables are referenceing to the same variable."
   ]
  },
  {
   "cell_type": "code",
   "execution_count": 24,
   "id": "ff17db28",
   "metadata": {},
   "outputs": [
    {
     "data": {
      "text/plain": [
       "True"
      ]
     },
     "execution_count": 24,
     "metadata": {},
     "output_type": "execute_result"
    }
   ],
   "source": [
    "a = 10\n",
    "b = a\n",
    "a is b"
   ]
  },
  {
   "cell_type": "code",
   "execution_count": 39,
   "id": "d5e1b41b",
   "metadata": {},
   "outputs": [
    {
     "name": "stdout",
     "output_type": "stream",
     "text": [
      "a: [1 2 3 4]\n",
      "b: [1 2 3 4]\n",
      "b[0]: 1\n",
      "b: [9 2 3 4]\n",
      "a: [9 2 3 4]\n"
     ]
    }
   ],
   "source": [
    "import numpy as np\n",
    "#### Shallow Copy  vs Deep Copy\n",
    "## Shallow copy\n",
    "\n",
    "a = np.array([1,2,3,4])\n",
    "b = a\n",
    "print('a:',a)\n",
    "print('b:',b)\n",
    "print('b[0]:',b[0])\n",
    "b[0] = 9\n",
    "print('b:',b)\n",
    "print('a:',a) # THe value of the \"a\" is also got changed because both of the variables are pointing to the same memory location."
   ]
  },
  {
   "cell_type": "code",
   "execution_count": 40,
   "id": "e22f186f",
   "metadata": {},
   "outputs": [
    {
     "name": "stdout",
     "output_type": "stream",
     "text": [
      "c: [1 2 3 4]\n",
      "d: [1 2 3 4]\n",
      "d[0]: 1\n",
      "c: [1 2 3 4]\n",
      "d: [8 2 3 4]\n"
     ]
    }
   ],
   "source": [
    "### Deep copy\n",
    "\n",
    "c = np.array([1,2,3,4])\n",
    "d = c.copy() # We are creating the value in different memory location.\n",
    "print('c:',c)\n",
    "print('d:',d)\n",
    "print('d[0]:',d[0])\n",
    "d[0] = 8\n",
    "print('c:',c)\n",
    "print('d:',d) # The value of the \"c\" did not got changed because both the variables are not pointing to the same memory location."
   ]
  },
  {
   "cell_type": "code",
   "execution_count": 43,
   "id": "476277c2",
   "metadata": {},
   "outputs": [
    {
     "data": {
      "text/plain": [
       "array([1, 2, 3, 4])"
      ]
     },
     "execution_count": 43,
     "metadata": {},
     "output_type": "execute_result"
    }
   ],
   "source": [
    "## np.array vs np.asarray\n",
    "\n",
    "a = np.array([1,2,3,4])\n",
    "a"
   ]
  },
  {
   "cell_type": "code",
   "execution_count": 45,
   "id": "093371d0",
   "metadata": {},
   "outputs": [
    {
     "data": {
      "text/plain": [
       "True"
      ]
     },
     "execution_count": 45,
     "metadata": {},
     "output_type": "execute_result"
    }
   ],
   "source": [
    "np.asarray(a) is a # Because it referencing to the same memory location."
   ]
  },
  {
   "cell_type": "code",
   "execution_count": 48,
   "id": "fcab7737",
   "metadata": {},
   "outputs": [
    {
     "data": {
      "text/plain": [
       "False"
      ]
     },
     "execution_count": 48,
     "metadata": {},
     "output_type": "execute_result"
    }
   ],
   "source": [
    "np.array(a) is a # Because it is copying the value and create in the values in the different memory location."
   ]
  },
  {
   "cell_type": "code",
   "execution_count": 50,
   "id": "75a7d850",
   "metadata": {},
   "outputs": [
    {
     "data": {
      "text/plain": [
       "array([1, 2])"
      ]
     },
     "execution_count": 50,
     "metadata": {},
     "output_type": "execute_result"
    }
   ],
   "source": [
    "# np.asanyarray\n",
    "\n",
    "np.asanyarray([1,2])\n",
    "\n"
   ]
  },
  {
   "cell_type": "markdown",
   "id": "c076f183",
   "metadata": {},
   "source": [
    "## Data Types"
   ]
  },
  {
   "cell_type": "code",
   "execution_count": 51,
   "id": "43a32229",
   "metadata": {},
   "outputs": [
    {
     "name": "stdout",
     "output_type": "stream",
     "text": [
      "Type/Class of the object: <class 'numpy.ndarray'>\n",
      "Here is the victor\n",
      "--------------------------\n",
      " [1 2 3 4 5 6 7]\n"
     ]
    }
   ],
   "source": [
    "import numpy as np\n",
    "my_list = [1,2,3,4,5,6,7]\n",
    "arr = np.array(my_list)\n",
    "print(\"Type/Class of the object:\",type(arr)) # type() provides the class of the object\n",
    "print(\"Here is the victor\\n--------------------------\\n\",arr)"
   ]
  },
  {
   "cell_type": "code",
   "execution_count": 55,
   "id": "61e80f89",
   "metadata": {},
   "outputs": [
    {
     "name": "stdout",
     "output_type": "stream",
     "text": [
      "Type/Class of the object: <class 'numpy.ndarray'>\n",
      "Here is the victor\n",
      "--------------------------\n",
      " [[ 1  2  3  4]\n",
      " [ 5  6  7  8]\n",
      " [ 9 10 11 12]]\n",
      "Dimension of the matrix:2\n",
      "Size of the matrix:12\n",
      "Shape of the matrix:(3, 4)\n",
      "Data type of the matrix:int32\n"
     ]
    }
   ],
   "source": [
    "my_mat = [[1,2,3,4],[5,6,7,8],[9,10,11,12]]\n",
    "mat = np.array(my_mat)\n",
    "print(\"Type/Class of the object:\",type(mat)) # type() provides the class of the object\n",
    "print(\"Here is the victor\\n--------------------------\\n\",mat)\n",
    "print(\"Dimension of the matrix:\",mat.ndim,sep ='') # It provides the dimension of the array\n",
    "print(\"Size of the matrix:\",mat.size,sep ='') # It provides the number of elements in the matrix\n",
    "print(\"Shape of the matrix:\",mat.shape,sep ='') # It provides the shape of the matrix\n",
    "print(\"Data type of the matrix:\",mat.dtype,sep ='') # It provides the data type of the matrix"
   ]
  },
  {
   "cell_type": "markdown",
   "id": "54849f0a",
   "metadata": {},
   "source": [
    "## arange and linspace"
   ]
  },
  {
   "cell_type": "code",
   "execution_count": 58,
   "id": "08fd0b7a",
   "metadata": {},
   "outputs": [
    {
     "data": {
      "text/plain": [
       "array([0, 1, 2, 3, 4, 5, 6, 7, 8, 9])"
      ]
     },
     "execution_count": 58,
     "metadata": {},
     "output_type": "execute_result"
    }
   ],
   "source": [
    "np.arange(0,10)"
   ]
  },
  {
   "cell_type": "code",
   "execution_count": 60,
   "id": "01c4c315",
   "metadata": {},
   "outputs": [
    {
     "data": {
      "text/plain": [
       "array([0, 2, 4, 6, 8])"
      ]
     },
     "execution_count": 60,
     "metadata": {},
     "output_type": "execute_result"
    }
   ],
   "source": [
    "np.arange(0,10,2)"
   ]
  },
  {
   "cell_type": "code",
   "execution_count": 62,
   "id": "8843b303",
   "metadata": {},
   "outputs": [
    {
     "data": {
      "text/plain": [
       "array([[0, 1],\n",
       "       [2, 3],\n",
       "       [4, 5],\n",
       "       [6, 7],\n",
       "       [8, 9]])"
      ]
     },
     "execution_count": 62,
     "metadata": {},
     "output_type": "execute_result"
    }
   ],
   "source": [
    "np.arange(0,10).reshape(5,2)"
   ]
  },
  {
   "cell_type": "code",
   "execution_count": 63,
   "id": "2b34bbcd",
   "metadata": {},
   "outputs": [
    {
     "data": {
      "text/plain": [
       "array([20, 18, 16, 14, 12, 10,  8,  6])"
      ]
     },
     "execution_count": 63,
     "metadata": {},
     "output_type": "execute_result"
    }
   ],
   "source": [
    "np.arange(20,5,-2)"
   ]
  },
  {
   "cell_type": "code",
   "execution_count": 59,
   "id": "8e9ffb36",
   "metadata": {},
   "outputs": [
    {
     "name": "stdout",
     "output_type": "stream",
     "text": [
      "A series of number: <class 'numpy.ndarray'>\n"
     ]
    },
    {
     "data": {
      "text/plain": [
       "array([ 5. ,  7.3,  9.6, 11.9, 14.2])"
      ]
     },
     "execution_count": 59,
     "metadata": {},
     "output_type": "execute_result"
    }
   ],
   "source": [
    "print(\"A series of number:\",type(np.arange(0,10,2)))\n",
    "np.arange(5,16,2.3)"
   ]
  },
  {
   "cell_type": "code",
   "execution_count": 64,
   "id": "d5b87b81",
   "metadata": {},
   "outputs": [
    {
     "data": {
      "text/plain": [
       "array([ 0. ,  2.5,  5. ,  7.5, 10. ])"
      ]
     },
     "execution_count": 64,
     "metadata": {},
     "output_type": "execute_result"
    }
   ],
   "source": [
    "# np.linspace()\n",
    "\n",
    "np.linspace(0,10,5) # It is going to provide the equal numbers based on the parameters(\"5\") between the \"start\"(0) and \"end\"(10) "
   ]
  },
  {
   "cell_type": "code",
   "execution_count": 73,
   "id": "80220575",
   "metadata": {},
   "outputs": [
    {
     "data": {
      "text/plain": [
       "(array([ 1. ,  2.4,  3.8,  5.2,  6.6,  8. ,  9.4, 10.8, 12.2, 13.6]), 1.4)"
      ]
     },
     "execution_count": 73,
     "metadata": {},
     "output_type": "execute_result"
    }
   ],
   "source": [
    "np.linspace(1,15,num=10,endpoint=False,retstep=True)"
   ]
  },
  {
   "cell_type": "code",
   "execution_count": 74,
   "id": "c11ffdf5",
   "metadata": {},
   "outputs": [
    {
     "data": {
      "text/plain": [
       "(array([ 1.        ,  2.55555556,  4.11111111,  5.66666667,  7.22222222,\n",
       "         8.77777778, 10.33333333, 11.88888889, 13.44444444, 15.        ]),\n",
       " 1.5555555555555556)"
      ]
     },
     "execution_count": 74,
     "metadata": {},
     "output_type": "execute_result"
    }
   ],
   "source": [
    "np.linspace(1,15,num=10,endpoint=True,retstep=True)"
   ]
  },
  {
   "cell_type": "code",
   "execution_count": 75,
   "id": "673db2dd",
   "metadata": {},
   "outputs": [
    {
     "data": {
      "text/plain": [
       "array([ 1.        ,  2.55555556,  4.11111111,  5.66666667,  7.22222222,\n",
       "        8.77777778, 10.33333333, 11.88888889, 13.44444444, 15.        ])"
      ]
     },
     "execution_count": 75,
     "metadata": {},
     "output_type": "execute_result"
    }
   ],
   "source": [
    "np.linspace(1,15,num=10,endpoint=True,retstep=False)"
   ]
  },
  {
   "cell_type": "code",
   "execution_count": 77,
   "id": "64cb47c5",
   "metadata": {},
   "outputs": [
    {
     "data": {
      "text/plain": [
       "array([ 100.        ,  129.1549665 ,  166.81005372,  215.443469  ,\n",
       "        278.25594022,  359.38136638,  464.15888336,  599.48425032,\n",
       "        774.26368268, 1000.        ])"
      ]
     },
     "execution_count": 77,
     "metadata": {},
     "output_type": "execute_result"
    }
   ],
   "source": [
    "np.logspace(2,3,num=10)"
   ]
  },
  {
   "cell_type": "code",
   "execution_count": 81,
   "id": "c5bcab3a",
   "metadata": {},
   "outputs": [
    {
     "data": {
      "text/plain": [
       "array([4.        , 4.32023896, 4.66611616, 5.0396842 , 5.44316   ,\n",
       "       5.87893797, 6.34960421, 6.85795186, 7.4069977 , 8.        ])"
      ]
     },
     "execution_count": 81,
     "metadata": {},
     "output_type": "execute_result"
    }
   ],
   "source": [
    "np.logspace(2,3,num=10,base=2)"
   ]
  },
  {
   "cell_type": "markdown",
   "id": "d2a31878",
   "metadata": {},
   "source": [
    "# Matrix Creation"
   ]
  },
  {
   "cell_type": "code",
   "execution_count": 65,
   "id": "2bfdde36",
   "metadata": {},
   "outputs": [
    {
     "data": {
      "text/plain": [
       "array([[0., 0., 0., 0., 0.],\n",
       "       [0., 0., 0., 0., 0.],\n",
       "       [0., 0., 0., 0., 0.],\n",
       "       [0., 0., 0., 0., 0.],\n",
       "       [0., 0., 0., 0., 0.]])"
      ]
     },
     "execution_count": 65,
     "metadata": {},
     "output_type": "execute_result"
    }
   ],
   "source": [
    "np.zeros((5,5))"
   ]
  },
  {
   "cell_type": "code",
   "execution_count": 68,
   "id": "49d58fd9",
   "metadata": {},
   "outputs": [
    {
     "data": {
      "text/plain": [
       "array([[[1., 1.],\n",
       "        [1., 1.],\n",
       "        [1., 1.]],\n",
       "\n",
       "       [[1., 1.],\n",
       "        [1., 1.],\n",
       "        [1., 1.]],\n",
       "\n",
       "       [[1., 1.],\n",
       "        [1., 1.],\n",
       "        [1., 1.]]])"
      ]
     },
     "execution_count": 68,
     "metadata": {},
     "output_type": "execute_result"
    }
   ],
   "source": [
    "np.ones((3,3,2))"
   ]
  },
  {
   "cell_type": "code",
   "execution_count": 70,
   "id": "34c728d4",
   "metadata": {},
   "outputs": [
    {
     "data": {
      "text/plain": [
       "array([[1., 0., 0., 0., 0.],\n",
       "       [0., 1., 0., 0., 0.],\n",
       "       [0., 0., 1., 0., 0.],\n",
       "       [0., 0., 0., 1., 0.],\n",
       "       [0., 0., 0., 0., 1.]])"
      ]
     },
     "execution_count": 70,
     "metadata": {},
     "output_type": "execute_result"
    }
   ],
   "source": [
    "np.eye(5)# It provides the identity matrix"
   ]
  },
  {
   "cell_type": "code",
   "execution_count": null,
   "id": "629476a4",
   "metadata": {},
   "outputs": [],
   "source": [
    "print(\"Vector of zeroes\\n------------------\")\n",
    "print(np.zeros(5))"
   ]
  },
  {
   "cell_type": "code",
   "execution_count": 83,
   "id": "17a5ac88",
   "metadata": {},
   "outputs": [
    {
     "data": {
      "text/plain": [
       "array([[ 0,  1,  2,  3],\n",
       "       [ 4,  5,  6,  7],\n",
       "       [ 8,  9, 10, 11],\n",
       "       [12, 13, 14, 15]])"
      ]
     },
     "execution_count": 83,
     "metadata": {},
     "output_type": "execute_result"
    }
   ],
   "source": [
    "## Extract a digonal or construct a digonal array\n",
    "x = np.arange(16).reshape((4,4))\n",
    "\n",
    "x"
   ]
  },
  {
   "cell_type": "code",
   "execution_count": 85,
   "id": "4f6ca6b9",
   "metadata": {},
   "outputs": [
    {
     "data": {
      "text/plain": [
       "array([ 0,  5, 10, 15])"
      ]
     },
     "execution_count": 85,
     "metadata": {},
     "output_type": "execute_result"
    }
   ],
   "source": [
    "x.diagonal()"
   ]
  },
  {
   "cell_type": "code",
   "execution_count": 86,
   "id": "a78a136c",
   "metadata": {},
   "outputs": [
    {
     "data": {
      "text/plain": [
       "array([ 0,  5, 10, 15])"
      ]
     },
     "execution_count": 86,
     "metadata": {},
     "output_type": "execute_result"
    }
   ],
   "source": [
    "np.diag(x)"
   ]
  },
  {
   "cell_type": "code",
   "execution_count": 97,
   "id": "777288c9",
   "metadata": {},
   "outputs": [
    {
     "data": {
      "text/plain": [
       "array([ 4,  9, 14])"
      ]
     },
     "execution_count": 97,
     "metadata": {},
     "output_type": "execute_result"
    }
   ],
   "source": [
    "x.diagonal(offset=0,axis1=0,axis2=1)"
   ]
  },
  {
   "cell_type": "code",
   "execution_count": 98,
   "id": "da632923",
   "metadata": {},
   "outputs": [
    {
     "data": {
      "text/plain": [
       "array([ 3,  6,  9, 12])"
      ]
     },
     "execution_count": 98,
     "metadata": {},
     "output_type": "execute_result"
    }
   ],
   "source": [
    "np.fliplr(x).diagonal() # Horizontal flip"
   ]
  },
  {
   "cell_type": "code",
   "execution_count": 99,
   "id": "a14ee42b",
   "metadata": {},
   "outputs": [
    {
     "data": {
      "text/plain": [
       "array([12,  9,  6,  3])"
      ]
     },
     "execution_count": 99,
     "metadata": {},
     "output_type": "execute_result"
    }
   ],
   "source": [
    "np.flipud(x).diagonal() # Vertical flip"
   ]
  },
  {
   "cell_type": "code",
   "execution_count": 102,
   "id": "e6b48c82",
   "metadata": {},
   "outputs": [
    {
     "data": {
      "text/plain": [
       "array([[ 0,  1,  2,  3],\n",
       "       [ 4,  5,  6,  7],\n",
       "       [ 8,  9, 10, 11],\n",
       "       [12, 13, 14, 15]])"
      ]
     },
     "execution_count": 102,
     "metadata": {},
     "output_type": "execute_result"
    }
   ],
   "source": [
    "x"
   ]
  },
  {
   "cell_type": "code",
   "execution_count": 100,
   "id": "b3a24742",
   "metadata": {},
   "outputs": [
    {
     "data": {
      "text/plain": [
       "array([ 1,  6, 11])"
      ]
     },
     "execution_count": 100,
     "metadata": {},
     "output_type": "execute_result"
    }
   ],
   "source": [
    "np.diag(x,k=1)"
   ]
  },
  {
   "cell_type": "code",
   "execution_count": 101,
   "id": "0114f2d3",
   "metadata": {},
   "outputs": [
    {
     "data": {
      "text/plain": [
       "array([ 4,  9, 14])"
      ]
     },
     "execution_count": 101,
     "metadata": {},
     "output_type": "execute_result"
    }
   ],
   "source": [
    "np.diag(x,k=-1)"
   ]
  },
  {
   "cell_type": "code",
   "execution_count": 103,
   "id": "78509de1",
   "metadata": {},
   "outputs": [
    {
     "data": {
      "text/plain": [
       "array([[ 0,  0,  0,  0],\n",
       "       [ 0,  5,  0,  0],\n",
       "       [ 0,  0, 10,  0],\n",
       "       [ 0,  0,  0, 15]])"
      ]
     },
     "execution_count": 103,
     "metadata": {},
     "output_type": "execute_result"
    }
   ],
   "source": [
    "np.diag(np.diag(x))"
   ]
  },
  {
   "cell_type": "code",
   "execution_count": 104,
   "id": "5145754e",
   "metadata": {},
   "outputs": [
    {
     "data": {
      "text/plain": [
       "array([[1, 0, 0, 0],\n",
       "       [0, 2, 0, 0],\n",
       "       [0, 0, 3, 0],\n",
       "       [0, 0, 0, 4]])"
      ]
     },
     "execution_count": 104,
     "metadata": {},
     "output_type": "execute_result"
    }
   ],
   "source": [
    "np.diagflat([[1,2],[3,4]])"
   ]
  },
  {
   "cell_type": "code",
   "execution_count": 105,
   "id": "ed334d25",
   "metadata": {},
   "outputs": [
    {
     "data": {
      "text/plain": [
       "array([[0, 1, 0],\n",
       "       [0, 0, 2],\n",
       "       [0, 0, 0]])"
      ]
     },
     "execution_count": 105,
     "metadata": {},
     "output_type": "execute_result"
    }
   ],
   "source": [
    "np.diagflat([1,2],k=1)"
   ]
  },
  {
   "cell_type": "code",
   "execution_count": 107,
   "id": "ad90a0d0",
   "metadata": {},
   "outputs": [
    {
     "data": {
      "text/plain": [
       "array([[1., 0., 0., 0., 0.],\n",
       "       [1., 1., 0., 0., 0.],\n",
       "       [1., 1., 1., 0., 0.],\n",
       "       [1., 1., 1., 1., 0.],\n",
       "       [1., 1., 1., 1., 1.]])"
      ]
     },
     "execution_count": 107,
     "metadata": {},
     "output_type": "execute_result"
    }
   ],
   "source": [
    "np.tri(5)"
   ]
  },
  {
   "cell_type": "code",
   "execution_count": 112,
   "id": "f9746d07",
   "metadata": {},
   "outputs": [
    {
     "data": {
      "text/plain": [
       "array([[1., 0., 0., 0., 0.],\n",
       "       [1., 1., 0., 0., 0.],\n",
       "       [1., 1., 1., 0., 0.]])"
      ]
     },
     "execution_count": 112,
     "metadata": {},
     "output_type": "execute_result"
    }
   ],
   "source": [
    "np.tri(3,5)"
   ]
  },
  {
   "cell_type": "code",
   "execution_count": 114,
   "id": "8ad42522",
   "metadata": {},
   "outputs": [
    {
     "data": {
      "text/plain": [
       "array([[1., 1., 0., 0., 0.],\n",
       "       [1., 1., 1., 0., 0.],\n",
       "       [1., 1., 1., 1., 0.]])"
      ]
     },
     "execution_count": 114,
     "metadata": {},
     "output_type": "execute_result"
    }
   ],
   "source": [
    "np.tri(3,5,1)"
   ]
  },
  {
   "cell_type": "code",
   "execution_count": 115,
   "id": "06846781",
   "metadata": {},
   "outputs": [
    {
     "data": {
      "text/plain": [
       "array([[1., 1., 1., 0., 0.],\n",
       "       [1., 1., 1., 1., 0.],\n",
       "       [1., 1., 1., 1., 1.]])"
      ]
     },
     "execution_count": 115,
     "metadata": {},
     "output_type": "execute_result"
    }
   ],
   "source": [
    "np.tri(3,5,2)"
   ]
  },
  {
   "cell_type": "markdown",
   "id": "9c7fd574",
   "metadata": {},
   "source": [
    "## Random Number Generation"
   ]
  },
  {
   "cell_type": "code",
   "execution_count": 119,
   "id": "b6aef2c9",
   "metadata": {},
   "outputs": [
    {
     "data": {
      "text/plain": [
       "array([[0.12184055, 0.33665664, 0.31099182],\n",
       "       [0.3460382 , 0.23106779, 0.39863743]])"
      ]
     },
     "execution_count": 119,
     "metadata": {},
     "output_type": "execute_result"
    }
   ],
   "source": [
    "# Range 0 to 1\n",
    "np.random.rand(2,3)"
   ]
  },
  {
   "cell_type": "code",
   "execution_count": 121,
   "id": "260b3df8",
   "metadata": {},
   "outputs": [
    {
     "data": {
      "text/plain": [
       "array([[-0.70372445,  1.60332857, -0.45628843],\n",
       "       [-0.91504183,  1.31938222, -0.0211366 ]])"
      ]
     },
     "execution_count": 121,
     "metadata": {},
     "output_type": "execute_result"
    }
   ],
   "source": [
    "# Standard normal distribution\n",
    "# Range from 3 to -3\n",
    "np.random.randn(2,3)"
   ]
  },
  {
   "cell_type": "code",
   "execution_count": 123,
   "id": "54542de0",
   "metadata": {},
   "outputs": [
    {
     "data": {
      "text/plain": [
       "6"
      ]
     },
     "execution_count": 123,
     "metadata": {},
     "output_type": "execute_result"
    }
   ],
   "source": [
    "np.random.randint(1,10)"
   ]
  },
  {
   "cell_type": "code",
   "execution_count": 124,
   "id": "128dd60b",
   "metadata": {},
   "outputs": [
    {
     "data": {
      "text/plain": [
       "array([35, 22, 22, 64, 38])"
      ]
     },
     "execution_count": 124,
     "metadata": {},
     "output_type": "execute_result"
    }
   ],
   "source": [
    "np.random.randint(1,100,5)"
   ]
  },
  {
   "cell_type": "code",
   "execution_count": 118,
   "id": "6bb51c46",
   "metadata": {},
   "outputs": [
    {
     "name": "stdout",
     "output_type": "stream",
     "text": [
      "Random Number Generation (from uniform distribution)\n",
      "[[0.49450689 0.60077086 0.67087138]\n",
      " [0.11063696 0.13470383 0.38063223]]\n"
     ]
    }
   ],
   "source": [
    "\n",
    "print(\"Random Number Generation (from uniform distribution)\")\n",
    "print(np.random.rand(2,3)) # 2 by 3 matrix with random number  \n"
   ]
  },
  {
   "cell_type": "markdown",
   "id": "826885b0",
   "metadata": {},
   "source": [
    "## Reshaping"
   ]
  },
  {
   "cell_type": "code",
   "execution_count": 125,
   "id": "fc30c319",
   "metadata": {},
   "outputs": [
    {
     "data": {
      "text/plain": [
       "array([[[ 63, 133, 965, 420,  29],\n",
       "        [973, 828, 899, 421, 887],\n",
       "        [492,  96, 738, 393, 481]],\n",
       "\n",
       "       [[180, 902,  43, 658, 677],\n",
       "        [421, 334, 576, 750, 350],\n",
       "        [400, 734, 470, 600,  67]]])"
      ]
     },
     "execution_count": 125,
     "metadata": {},
     "output_type": "execute_result"
    }
   ],
   "source": [
    "from numpy.random import randint as ri\n",
    "\n",
    "a = ri(1,1000,30)\n",
    "b = a.reshape(2,3,5)\n",
    "b"
   ]
  },
  {
   "cell_type": "code",
   "execution_count": 135,
   "id": "cfcbbf88",
   "metadata": {},
   "outputs": [
    {
     "data": {
      "text/plain": [
       "array([[ 63, 133, 965, 420,  29],\n",
       "       [973, 828, 899, 421, 887],\n",
       "       [492,  96, 738, 393, 481],\n",
       "       [180, 902,  43, 658, 677],\n",
       "       [421, 334, 576, 750, 350],\n",
       "       [400, 734, 470, 600,  67]])"
      ]
     },
     "execution_count": 135,
     "metadata": {},
     "output_type": "execute_result"
    }
   ],
   "source": [
    "c = a.reshape(6,5) #-19878\n",
    "c"
   ]
  },
  {
   "cell_type": "code",
   "execution_count": 139,
   "id": "0e369281",
   "metadata": {},
   "outputs": [
    {
     "name": "stdout",
     "output_type": "stream",
     "text": [
      "(6, 5)\n"
     ]
    },
    {
     "data": {
      "text/plain": [
       "array([[ 63, 133, 965, 420,  29],\n",
       "       [973, 828, 899, 421, 887],\n",
       "       [492,  96, 738, 393, 481],\n",
       "       [180, 902,  43, 658, 677],\n",
       "       [421, 334, 576, 750, 350],\n",
       "       [400, 734, 470, 600,  67]])"
      ]
     },
     "execution_count": 139,
     "metadata": {},
     "output_type": "execute_result"
    }
   ],
   "source": [
    "c = a.reshape(6,-19878) #If we provide the - number, then it will by default it will take the correct number for row and column\n",
    "print(c.shape)\n",
    "c"
   ]
  },
  {
   "cell_type": "code",
   "execution_count": 145,
   "id": "e941a9ad",
   "metadata": {},
   "outputs": [
    {
     "name": "stdout",
     "output_type": "stream",
     "text": [
      "[20 76 24 15 94 84]\n",
      "[15 20 24 76 84 94]\n"
     ]
    }
   ],
   "source": [
    "# sorting\n",
    "\n",
    "a = np.random.randint(1,100,6)\n",
    "\n",
    "print(a)\n",
    "print(np.sort(a))"
   ]
  },
  {
   "cell_type": "code",
   "execution_count": 146,
   "id": "2a327ba2",
   "metadata": {},
   "outputs": [
    {
     "data": {
      "text/plain": [
       "94"
      ]
     },
     "execution_count": 146,
     "metadata": {},
     "output_type": "execute_result"
    }
   ],
   "source": [
    "a.max()"
   ]
  },
  {
   "cell_type": "code",
   "execution_count": 147,
   "id": "f9d61f3d",
   "metadata": {},
   "outputs": [
    {
     "data": {
      "text/plain": [
       "15"
      ]
     },
     "execution_count": 147,
     "metadata": {},
     "output_type": "execute_result"
    }
   ],
   "source": [
    "a.min()"
   ]
  },
  {
   "cell_type": "code",
   "execution_count": 148,
   "id": "b8d0716d",
   "metadata": {},
   "outputs": [
    {
     "data": {
      "text/plain": [
       "4"
      ]
     },
     "execution_count": 148,
     "metadata": {},
     "output_type": "execute_result"
    }
   ],
   "source": [
    "a.argmax() # prints the maximum number index"
   ]
  },
  {
   "cell_type": "code",
   "execution_count": 150,
   "id": "3a7da887",
   "metadata": {},
   "outputs": [
    {
     "data": {
      "text/plain": [
       "array([[20, 76, 24],\n",
       "       [15, 94, 84]])"
      ]
     },
     "execution_count": 150,
     "metadata": {},
     "output_type": "execute_result"
    }
   ],
   "source": [
    "d = a.reshape(2,3)\n",
    "d"
   ]
  },
  {
   "cell_type": "code",
   "execution_count": 152,
   "id": "40a7ff99",
   "metadata": {},
   "outputs": [
    {
     "data": {
      "text/plain": [
       "array([76, 94])"
      ]
     },
     "execution_count": 152,
     "metadata": {},
     "output_type": "execute_result"
    }
   ],
   "source": [
    "d.max(axis=1)"
   ]
  },
  {
   "cell_type": "code",
   "execution_count": 155,
   "id": "23d730dc",
   "metadata": {},
   "outputs": [
    {
     "data": {
      "text/plain": [
       "array([[84, 73, 30, 17,  2, 72],\n",
       "       [ 9, 85, 97, 73, 88, 59],\n",
       "       [ 3, 58, 41, 52, 25, 97],\n",
       "       [76, 32,  6, 24, 41, 32],\n",
       "       [46, 21, 69, 29, 99, 59]])"
      ]
     },
     "execution_count": 155,
     "metadata": {},
     "output_type": "execute_result"
    }
   ],
   "source": [
    "b = np.random.randint(1,100,30).reshape(5,6)\n",
    "b"
   ]
  },
  {
   "cell_type": "code",
   "execution_count": 161,
   "id": "5298a283",
   "metadata": {},
   "outputs": [
    {
     "data": {
      "text/plain": [
       "array([[41, 52],\n",
       "       [ 6, 24]])"
      ]
     },
     "execution_count": 161,
     "metadata": {},
     "output_type": "execute_result"
    }
   ],
   "source": [
    "b[2:4,2:4]"
   ]
  },
  {
   "cell_type": "markdown",
   "id": "e4944dd3",
   "metadata": {},
   "source": [
    "## Universal Functions"
   ]
  },
  {
   "cell_type": "code",
   "execution_count": 163,
   "id": "c4cf0b71",
   "metadata": {},
   "outputs": [
    {
     "data": {
      "text/plain": [
       "array([[84, 73, 30, 17,  2, 72],\n",
       "       [ 9, 85, 97, 73, 88, 59],\n",
       "       [ 3, 58, 41, 52, 25, 97],\n",
       "       [76, 32,  6, 24, 41, 32],\n",
       "       [46, 21, 69, 29, 99, 59]])"
      ]
     },
     "execution_count": 163,
     "metadata": {},
     "output_type": "execute_result"
    }
   ],
   "source": [
    "b"
   ]
  },
  {
   "cell_type": "code",
   "execution_count": 164,
   "id": "0947f95c",
   "metadata": {},
   "outputs": [
    {
     "data": {
      "text/plain": [
       "array([[168, 146,  60,  34,   4, 144],\n",
       "       [ 18, 170, 194, 146, 176, 118],\n",
       "       [  6, 116,  82, 104,  50, 194],\n",
       "       [152,  64,  12,  48,  82,  64],\n",
       "       [ 92,  42, 138,  58, 198, 118]])"
      ]
     },
     "execution_count": 164,
     "metadata": {},
     "output_type": "execute_result"
    }
   ],
   "source": [
    "b*2 # Each elements in the matrix are getting multiplied by 2"
   ]
  },
  {
   "cell_type": "code",
   "execution_count": 165,
   "id": "18e09bf3",
   "metadata": {},
   "outputs": [
    {
     "data": {
      "text/plain": [
       "array([[29, 57, 66, 75, 91, 30],\n",
       "       [14, 32, 12, 98, 44, 96],\n",
       "       [69, 66,  1, 14, 21, 55],\n",
       "       [10, 50, 82, 35, 70, 91],\n",
       "       [61, 39, 41,  6, 11, 21]])"
      ]
     },
     "execution_count": 165,
     "metadata": {},
     "output_type": "execute_result"
    }
   ],
   "source": [
    "c = np.random.randint(1,100,30).reshape(5,6)\n",
    "c"
   ]
  },
  {
   "cell_type": "code",
   "execution_count": 166,
   "id": "5bc3fb7b",
   "metadata": {},
   "outputs": [
    {
     "data": {
      "text/plain": [
       "array([[113, 130,  96,  92,  93, 102],\n",
       "       [ 23, 117, 109, 171, 132, 155],\n",
       "       [ 72, 124,  42,  66,  46, 152],\n",
       "       [ 86,  82,  88,  59, 111, 123],\n",
       "       [107,  60, 110,  35, 110,  80]])"
      ]
     },
     "execution_count": 166,
     "metadata": {},
     "output_type": "execute_result"
    }
   ],
   "source": [
    "b+c"
   ]
  },
  {
   "cell_type": "code",
   "execution_count": 170,
   "id": "97b92b64",
   "metadata": {},
   "outputs": [
    {
     "data": {
      "text/plain": [
       "array([[10, 11, 17],\n",
       "       [10, 15, 11],\n",
       "       [13,  4,  8]])"
      ]
     },
     "execution_count": 170,
     "metadata": {},
     "output_type": "execute_result"
    }
   ],
   "source": [
    "d = np.random.randint(1,20,9).reshape(3,3)\n",
    "d"
   ]
  },
  {
   "cell_type": "code",
   "execution_count": 171,
   "id": "253535e3",
   "metadata": {},
   "outputs": [
    {
     "data": {
      "text/plain": [
       "array([[18, 18, 16],\n",
       "       [ 9, 11,  2],\n",
       "       [ 7,  2,  5]])"
      ]
     },
     "execution_count": 171,
     "metadata": {},
     "output_type": "execute_result"
    }
   ],
   "source": [
    "e = np.random.randint(1,20,9).reshape(3,3)\n",
    "e"
   ]
  },
  {
   "cell_type": "code",
   "execution_count": 172,
   "id": "14253652",
   "metadata": {},
   "outputs": [
    {
     "data": {
      "text/plain": [
       "array([[398, 335, 267],\n",
       "       [392, 367, 245],\n",
       "       [326, 294, 256]])"
      ]
     },
     "execution_count": 172,
     "metadata": {},
     "output_type": "execute_result"
    }
   ],
   "source": [
    "d@e # Matrix Multiplication"
   ]
  },
  {
   "cell_type": "code",
   "execution_count": 173,
   "id": "945b3c40",
   "metadata": {},
   "outputs": [
    {
     "data": {
      "text/plain": [
       "array([[180, 198, 272],\n",
       "       [ 90, 165,  22],\n",
       "       [ 91,   8,  40]])"
      ]
     },
     "execution_count": 173,
     "metadata": {},
     "output_type": "execute_result"
    }
   ],
   "source": [
    "d*e"
   ]
  },
  {
   "cell_type": "code",
   "execution_count": 178,
   "id": "1b18912d",
   "metadata": {},
   "outputs": [
    {
     "name": "stderr",
     "output_type": "stream",
     "text": [
      "C:\\Users\\Bharat-PC\\AppData\\Local\\Temp\\ipykernel_10232\\1449559184.py:1: RuntimeWarning: divide by zero encountered in true_divide\n",
      "  e/0\n"
     ]
    },
    {
     "data": {
      "text/plain": [
       "array([[inf, inf, inf],\n",
       "       [inf, inf, inf],\n",
       "       [inf, inf, inf]])"
      ]
     },
     "execution_count": 178,
     "metadata": {},
     "output_type": "execute_result"
    }
   ],
   "source": [
    "e/0"
   ]
  },
  {
   "cell_type": "markdown",
   "id": "8d4d9631",
   "metadata": {},
   "source": [
    "## Broadcasting"
   ]
  },
  {
   "cell_type": "code",
   "execution_count": 186,
   "id": "5d336a3a",
   "metadata": {},
   "outputs": [
    {
     "data": {
      "text/plain": [
       "array([47, 88, 64, 18,  0,  7, 91, 40, 17, 76, 19, 20, 85, 48, 83, 15, 28,\n",
       "       24, 80, 75, 49, 79, 32, 38, 96,  6, 75, 82,  9, 24])"
      ]
     },
     "execution_count": 186,
     "metadata": {},
     "output_type": "execute_result"
    }
   ],
   "source": [
    "f = np.random.randint(0,100,30)\n",
    "f"
   ]
  },
  {
   "cell_type": "code",
   "execution_count": 187,
   "id": "90724ead",
   "metadata": {},
   "outputs": [
    {
     "data": {
      "text/plain": [
       "18"
      ]
     },
     "execution_count": 187,
     "metadata": {},
     "output_type": "execute_result"
    }
   ],
   "source": [
    "f[3]"
   ]
  },
  {
   "cell_type": "code",
   "execution_count": 188,
   "id": "cb58e9f7",
   "metadata": {},
   "outputs": [
    {
     "data": {
      "text/plain": [
       "array([ 47,  88,  64, 100, 100, 100, 100, 100, 100, 100, 100, 100, 100,\n",
       "       100, 100,  15,  28,  24,  80,  75,  49,  79,  32,  38,  96,   6,\n",
       "        75,  82,   9,  24])"
      ]
     },
     "execution_count": 188,
     "metadata": {},
     "output_type": "execute_result"
    }
   ],
   "source": [
    "f[3:15]=100 # this is called as broadcasting.\n",
    "f"
   ]
  },
  {
   "cell_type": "code",
   "execution_count": 184,
   "id": "898c4392",
   "metadata": {},
   "outputs": [
    {
     "data": {
      "text/plain": [
       "array([  3,  79,  60, 100, 100, 100, 100, 100, 100, 100, 100, 100, 100,\n",
       "       100, 100, 100, 100, 100, 100, 100, 100, 100, 100, 100, 100, 100,\n",
       "       100, 100, 100, 100])"
      ]
     },
     "execution_count": 184,
     "metadata": {},
     "output_type": "execute_result"
    }
   ],
   "source": [
    "f"
   ]
  },
  {
   "cell_type": "code",
   "execution_count": 190,
   "id": "4a15a522",
   "metadata": {},
   "outputs": [
    {
     "data": {
      "text/plain": [
       "array([[10, 11, 17],\n",
       "       [10, 15, 11],\n",
       "       [13,  4,  8]])"
      ]
     },
     "execution_count": 190,
     "metadata": {},
     "output_type": "execute_result"
    }
   ],
   "source": [
    "d"
   ]
  },
  {
   "cell_type": "code",
   "execution_count": 191,
   "id": "ce11e8bf",
   "metadata": {},
   "outputs": [
    {
     "data": {
      "text/plain": [
       "array([[18, 18, 16],\n",
       "       [ 9, 11,  2],\n",
       "       [ 7,  2,  5]])"
      ]
     },
     "execution_count": 191,
     "metadata": {},
     "output_type": "execute_result"
    }
   ],
   "source": [
    "e"
   ]
  },
  {
   "cell_type": "code",
   "execution_count": 192,
   "id": "f7e63da5",
   "metadata": {},
   "outputs": [
    {
     "data": {
      "text/plain": [
       "array([[10, 11,  1],\n",
       "       [ 1,  4,  1],\n",
       "       [ 6,  0,  3]], dtype=int32)"
      ]
     },
     "execution_count": 192,
     "metadata": {},
     "output_type": "execute_result"
    }
   ],
   "source": [
    "np.fmod(d,e) # Reminder of the division"
   ]
  },
  {
   "cell_type": "markdown",
   "id": "1b47b7a0",
   "metadata": {},
   "source": [
    "## Subseting"
   ]
  },
  {
   "cell_type": "code",
   "execution_count": 193,
   "id": "954635e9",
   "metadata": {},
   "outputs": [
    {
     "data": {
      "text/plain": [
       "array([12, 13, 80, 53, 83, 17, 89, 32, 59, 16, 50, 19, 44, 95, 10, 46, 85,\n",
       "       93, 72, 98,  1, 39, 15, 39, 21, 92, 86, 86, 18,  9])"
      ]
     },
     "execution_count": 193,
     "metadata": {},
     "output_type": "execute_result"
    }
   ],
   "source": [
    "g = np.random.randint(0,100,30)\n",
    "g"
   ]
  },
  {
   "cell_type": "code",
   "execution_count": 196,
   "id": "ce8b5a5e",
   "metadata": {},
   "outputs": [
    {
     "data": {
      "text/plain": [
       "array([ 1,  9, 10, 12, 13, 15, 16, 17, 18, 19, 21, 32, 39, 39, 44, 46, 50,\n",
       "       53, 59, 72, 80, 83, 85, 86, 86, 89, 92, 93, 95, 98])"
      ]
     },
     "execution_count": 196,
     "metadata": {},
     "output_type": "execute_result"
    }
   ],
   "source": [
    "h=np.sort(g)\n",
    "h"
   ]
  },
  {
   "cell_type": "code",
   "execution_count": 198,
   "id": "337fc364",
   "metadata": {},
   "outputs": [
    {
     "data": {
      "text/plain": [
       "array([False, False, False, False, False, False, False, False, False,\n",
       "       False, False,  True,  True,  True,  True,  True,  True,  True,\n",
       "        True,  True,  True,  True,  True,  True,  True,  True,  True,\n",
       "        True,  True,  True])"
      ]
     },
     "execution_count": 198,
     "metadata": {},
     "output_type": "execute_result"
    }
   ],
   "source": [
    "h > 30"
   ]
  },
  {
   "cell_type": "code",
   "execution_count": 200,
   "id": "20dc4c31",
   "metadata": {},
   "outputs": [
    {
     "data": {
      "text/plain": [
       "array([32, 39, 39, 44, 46, 50, 53, 59, 72, 80, 83, 85, 86, 86, 89, 92, 93,\n",
       "       95, 98])"
      ]
     },
     "execution_count": 200,
     "metadata": {},
     "output_type": "execute_result"
    }
   ],
   "source": [
    "h[h>30] # We will only going to get the true values"
   ]
  },
  {
   "cell_type": "code",
   "execution_count": null,
   "id": "82f60e71",
   "metadata": {},
   "outputs": [],
   "source": []
  }
 ],
 "metadata": {
  "kernelspec": {
   "display_name": "Python 3 (ipykernel)",
   "language": "python",
   "name": "python3"
  },
  "language_info": {
   "codemirror_mode": {
    "name": "ipython",
    "version": 3
   },
   "file_extension": ".py",
   "mimetype": "text/x-python",
   "name": "python",
   "nbconvert_exporter": "python",
   "pygments_lexer": "ipython3",
   "version": "3.9.12"
  }
 },
 "nbformat": 4,
 "nbformat_minor": 5
}
