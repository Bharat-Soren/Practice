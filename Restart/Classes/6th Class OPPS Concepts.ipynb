{
 "cells": [
  {
   "cell_type": "code",
   "execution_count": 18,
   "id": "5b83e551",
   "metadata": {},
   "outputs": [],
   "source": [
    "class Person:\n",
    "    age1=0\n",
    "    def __init__(self,name ,surname,year_of_birth,age):\n",
    "        self.name1=name\n",
    "        self.surname=surname\n",
    "        self.year_of_birth=year_of_birth\n",
    "        self.age1=age\n",
    "    def welcome(self):\n",
    "        print(\"Hello \"+self.name1)"
   ]
  },
  {
   "cell_type": "code",
   "execution_count": 19,
   "id": "dfe5b566",
   "metadata": {},
   "outputs": [],
   "source": [
    "alec=Person(\"Alec\",\"Walden\",1985,56)\n",
    "alex=Person(\"Alex\",\"Smith\",1965,98)"
   ]
  },
  {
   "cell_type": "code",
   "execution_count": 20,
   "id": "05d5cddc",
   "metadata": {},
   "outputs": [
    {
     "name": "stdout",
     "output_type": "stream",
     "text": [
      "<__main__.Person object at 0x000001B960DE5730>\n",
      "56\n"
     ]
    }
   ],
   "source": [
    "print(alec)\n",
    "print(alec.age1)"
   ]
  },
  {
   "cell_type": "code",
   "execution_count": 21,
   "id": "148d9738",
   "metadata": {},
   "outputs": [
    {
     "name": "stdout",
     "output_type": "stream",
     "text": [
      "Hello Alec\n"
     ]
    }
   ],
   "source": [
    "alec.welcome()"
   ]
  },
  {
   "cell_type": "markdown",
   "id": "4cd483e7",
   "metadata": {},
   "source": [
    "###### 1.2 Method"
   ]
  },
  {
   "cell_type": "code",
   "execution_count": 33,
   "id": "e9ff4146",
   "metadata": {},
   "outputs": [],
   "source": [
    "import datetime\n",
    "from datetime import datetime\n",
    "\n",
    "class Person:\n",
    "    def __init__(self,name ,surname,year_of_birth): # This default function will automatically get called. When we try to create the object.\n",
    "        self.name1=name\n",
    "        self.surname=surname\n",
    "        self.year_of_birth=year_of_birth\n",
    "    def age(self):\n",
    "        return (datetime.now().year-self.year_of_birth)\n",
    "    def __str__(self): # This default function will automatically get called. When we try to print the object.\n",
    "        print(\"I am __str__ Method.\")\n",
    "        return \"%s %s was born in %d\"%(self.name1,self.surname,self.year_of_birth)\n",
    "        \n",
    "    def welcome(self):\n",
    "        print(\"Hello \"+self.name1)"
   ]
  },
  {
   "cell_type": "code",
   "execution_count": 34,
   "id": "ef2b7bd3",
   "metadata": {},
   "outputs": [
    {
     "name": "stdout",
     "output_type": "stream",
     "text": [
      "I am __str__ Method.\n",
      "Alec Walden was born in 1985\n",
      "38\n"
     ]
    }
   ],
   "source": [
    "alec=Person(\"Alec\",\"Walden\",1985)\n",
    "print(alec)\n",
    "print(alec.age())"
   ]
  },
  {
   "cell_type": "markdown",
   "id": "e3044e54",
   "metadata": {},
   "source": [
    "###### Bad Practices\n",
    "It is possible to create a class without **\"__  init __\"** method. but this is not a recomended style because classes should describe homogeneous entity"
   ]
  },
  {
   "cell_type": "code",
   "execution_count": 41,
   "id": "c80d642a",
   "metadata": {},
   "outputs": [],
   "source": [
    "class Person:\n",
    "    \n",
    "    def set_name(self,name):\n",
    "        self.name=name\n",
    "        \n",
    "    def set_surname(self,surname):\n",
    "        self.surname=surname\n",
    "        \n",
    "    def set_year_of_birth(self,year_of_birth):\n",
    "        self.year_of_birth=year_of_birth\n",
    "        \n",
    "    def age(self):\n",
    "        return (datetime.now().year-self.year_of_birth)\n",
    "    \n",
    "    def __str__(self): # This default function will automatically get called. When we try to print the object.\n",
    "        print(\"I am __str__ Method.\")\n",
    "        return \"%s %s was born in %d\"%(self.name,self.surname,self.year_of_birth)\n",
    "        \n",
    "        "
   ]
  },
  {
   "cell_type": "code",
   "execution_count": 42,
   "id": "0106ae71",
   "metadata": {},
   "outputs": [],
   "source": [
    "smith= Person()"
   ]
  },
  {
   "cell_type": "code",
   "execution_count": 43,
   "id": "c7c99d8d",
   "metadata": {},
   "outputs": [],
   "source": [
    "smith.set_name(\"Smith\")\n",
    "smith.set_surname(\"Dweyn\")\n",
    "smith.set_year_of_birth(1986)"
   ]
  },
  {
   "cell_type": "code",
   "execution_count": 44,
   "id": "70554852",
   "metadata": {},
   "outputs": [
    {
     "name": "stdout",
     "output_type": "stream",
     "text": [
      "I am __str__ Method.\n",
      "Smith Dweyn was born in 1986\n"
     ]
    }
   ],
   "source": [
    "print(smith)"
   ]
  },
  {
   "cell_type": "markdown",
   "id": "d667643a",
   "metadata": {},
   "source": [
    "###### Protect Your Abstraction\n"
   ]
  },
  {
   "cell_type": "code",
   "execution_count": 46,
   "id": "1a2b235a",
   "metadata": {},
   "outputs": [],
   "source": [
    "import datetime\n",
    "from datetime import datetime\n",
    "\n",
    "class Person:\n",
    "    def __init__(self,name ,surname,year_of_birth): # This default function will automatically get called. When we try to create the object.\n",
    "        self._name1=name\n",
    "        self.__surname=surname\n",
    "        self.year_of_birth=year_of_birth\n",
    "    def age(self):\n",
    "        return (datetime.now().year-self.year_of_birth)\n",
    "    def __str__(self): # This default function will automatically get called. When we try to print the object.\n",
    "        print(\"I am __str__ Method.\")\n",
    "        return \"%s %s was born in %d\"%(self._name1,self.__surname,self.year_of_birth)\n",
    "        \n",
    "    def welcome(self):\n",
    "        print(\"Hello \"+self._name1)"
   ]
  },
  {
   "cell_type": "code",
   "execution_count": 47,
   "id": "3a7c2cb2",
   "metadata": {},
   "outputs": [
    {
     "name": "stdout",
     "output_type": "stream",
     "text": [
      "I am __str__ Method.\n",
      "Alec Walden was born in 1985\n",
      "38\n"
     ]
    }
   ],
   "source": [
    "alec=Person(\"Alec\",\"Walden\",1985)\n",
    "print(alec)\n",
    "print(alec.age())"
   ]
  },
  {
   "cell_type": "code",
   "execution_count": 48,
   "id": "2aed750c",
   "metadata": {},
   "outputs": [
    {
     "data": {
      "text/plain": [
       "'Alec'"
      ]
     },
     "execution_count": 48,
     "metadata": {},
     "output_type": "execute_result"
    }
   ],
   "source": [
    "alec._name1"
   ]
  },
  {
   "cell_type": "code",
   "execution_count": 51,
   "id": "a6a585a5",
   "metadata": {},
   "outputs": [
    {
     "data": {
      "text/plain": [
       "'Walden'"
      ]
     },
     "execution_count": 51,
     "metadata": {},
     "output_type": "execute_result"
    }
   ],
   "source": [
    "alec._Person__surname"
   ]
  },
  {
   "cell_type": "code",
   "execution_count": 52,
   "id": "db623c93",
   "metadata": {},
   "outputs": [
    {
     "data": {
      "text/plain": [
       "['_Person__surname',\n",
       " '__class__',\n",
       " '__delattr__',\n",
       " '__dict__',\n",
       " '__dir__',\n",
       " '__doc__',\n",
       " '__eq__',\n",
       " '__format__',\n",
       " '__ge__',\n",
       " '__getattribute__',\n",
       " '__gt__',\n",
       " '__hash__',\n",
       " '__init__',\n",
       " '__init_subclass__',\n",
       " '__le__',\n",
       " '__lt__',\n",
       " '__module__',\n",
       " '__ne__',\n",
       " '__new__',\n",
       " '__reduce__',\n",
       " '__reduce_ex__',\n",
       " '__repr__',\n",
       " '__setattr__',\n",
       " '__sizeof__',\n",
       " '__str__',\n",
       " '__subclasshook__',\n",
       " '__weakref__',\n",
       " '_name1',\n",
       " 'age',\n",
       " 'welcome',\n",
       " 'year_of_birth']"
      ]
     },
     "execution_count": 52,
     "metadata": {},
     "output_type": "execute_result"
    }
   ],
   "source": [
    "dir(alec)"
   ]
  },
  {
   "cell_type": "markdown",
   "id": "74f4c995",
   "metadata": {},
   "source": [
    "###### 2. Inheritance\n",
    "Once a class is defined, it models a concept. It is useful to extend a class behaviour to model a less general concept. Say we need to model a Student, but we know that every student is also a Person, so we shouldn't model the person again but inherit from it instead. "
   ]
  },
  {
   "cell_type": "code",
   "execution_count": 57,
   "id": "858a781d",
   "metadata": {},
   "outputs": [],
   "source": [
    "class Student(Person):\n",
    "    def __init__(self,student_id,*args):\n",
    "        super(Student,self).__init__(*args) # Super is a key word, Which always points to the parent class.\n",
    "        self._student_id = student_id\n",
    "        \n",
    "    def age(self):\n",
    "        return (datetime.now().year-self.year_of_birth)"
   ]
  },
  {
   "cell_type": "code",
   "execution_count": 58,
   "id": "2200bde8",
   "metadata": {},
   "outputs": [
    {
     "name": "stdout",
     "output_type": "stream",
     "text": [
      "1\n",
      "<class '__main__.Student'>\n",
      "True\n",
      "True\n",
      "17\n"
     ]
    }
   ],
   "source": [
    "charle =Student(1,'Charle','Brown',2006)\n",
    "charlies=Student(2,'Charlies',\"White\",2004)\n",
    "print(charle._student_id)\n",
    "print(type(charle))\n",
    "print(isinstance(charle,Person))\n",
    "print(isinstance(charle,object))\n",
    "print(charle.age())"
   ]
  },
  {
   "cell_type": "markdown",
   "id": "7a445f28",
   "metadata": {},
   "source": [
    "###### 2.1 Overriding Methods\n",
    "Inheritance allows to add new methods to a subclass but oftern is useful to change the behaviour of a method defined in the superlass. To override a method just define it again."
   ]
  },
  {
   "cell_type": "code",
   "execution_count": 68,
   "id": "75bd9296",
   "metadata": {},
   "outputs": [],
   "source": [
    "# Basic Difference between Overloading and Overriding\n",
    "# Overloading alwasy happens in a single/same class\n",
    "# At the same Overriding always happens in different class. Whever we are implementing\n",
    "# Inheritance concept there only this overrriding concept will be coming because without\n",
    "# Parent child class architecture Overrriding is not possible.\n",
    "class Student(Person):\n",
    "    def __init__(self,student_id,*args,**kwargs):\n",
    "        super(Student,self).__init__(*args,**kwargs) # Super is a key word, Which always points to the parent class.\n",
    "        self._student_id = student_id\n",
    "        \n",
    "    def age(self):\n",
    "        print(\"Child Class\")\n",
    "        return (datetime.now().year-self.year_of_birth)\n",
    "    \n",
    "    def __str__(self):\n",
    "        return super(Student,self).__str__()+ \"And has ID: %d\" % self._student_id"
   ]
  },
  {
   "cell_type": "code",
   "execution_count": 69,
   "id": "797da1fc",
   "metadata": {},
   "outputs": [
    {
     "name": "stdout",
     "output_type": "stream",
     "text": [
      "I am __str__ Method.\n",
      "Charlie Brown was born in 2004And has ID: 1\n",
      "Child Class\n",
      "19\n"
     ]
    }
   ],
   "source": [
    "charlie = Student(1,'Charlie','Brown',2004)\n",
    "print(charlie)\n",
    "print(charlie.age())"
   ]
  },
  {
   "cell_type": "code",
   "execution_count": null,
   "id": "85ccd6f9",
   "metadata": {},
   "outputs": [],
   "source": []
  }
 ],
 "metadata": {
  "kernelspec": {
   "display_name": "Python 3 (ipykernel)",
   "language": "python",
   "name": "python3"
  },
  "language_info": {
   "codemirror_mode": {
    "name": "ipython",
    "version": 3
   },
   "file_extension": ".py",
   "mimetype": "text/x-python",
   "name": "python",
   "nbconvert_exporter": "python",
   "pygments_lexer": "ipython3",
   "version": "3.9.12"
  }
 },
 "nbformat": 4,
 "nbformat_minor": 5
}
