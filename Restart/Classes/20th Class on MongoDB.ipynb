{
 "cells": [
  {
   "cell_type": "code",
   "execution_count": 1,
   "id": "aaf68fd5",
   "metadata": {},
   "outputs": [],
   "source": [
    "# https://www.youtube.com/watch?v=jCnOLUl6jYc Do the installation of the mongo db.\n",
    "#https://www.youtube.com/watch?v=fRvcO4UGWNE"
   ]
  },
  {
   "cell_type": "code",
   "execution_count": null,
   "id": "86895ad9",
   "metadata": {},
   "outputs": [],
   "source": []
  }
 ],
 "metadata": {
  "kernelspec": {
   "display_name": "Python 3 (ipykernel)",
   "language": "python",
   "name": "python3"
  },
  "language_info": {
   "codemirror_mode": {
    "name": "ipython",
    "version": 3
   },
   "file_extension": ".py",
   "mimetype": "text/x-python",
   "name": "python",
   "nbconvert_exporter": "python",
   "pygments_lexer": "ipython3",
   "version": "3.9.12"
  }
 },
 "nbformat": 4,
 "nbformat_minor": 5
}
