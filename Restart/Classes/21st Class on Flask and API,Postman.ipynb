{
 "cells": [
  {
   "cell_type": "markdown",
   "id": "56826801",
   "metadata": {},
   "source": [
    "## Flask\n",
    "Flask is a micro `web application development framework` written in `Python`. Flask was created by `Armin Ronacher` of Pocoo."
   ]
  },
  {
   "cell_type": "markdown",
   "id": "86c7299c",
   "metadata": {},
   "source": [
    "## 17.3\tWhat is a web Framework?\n",
    "- A web framework is a collection of libraries which helps the web developers to create different web applications.\n",
    "\n",
    "**Flask internally uses two main components:**\n",
    "\n",
    "**Werkzeug:** Werkzeug is a comprehensive WSGI web application library. It began as a simple collection of various utilities for WSGI applications and has become one of the most advanced WSGI utility libraries.\n",
    "\n",
    "**Jinja:** Jinja is a modern and designer-friendly templating language for Python. It is fast, widely used and secure with the optional sandboxed template execution environment.\n",
    "\n",
    "**WSGI:** The Web Server Gateway Interface (WSGI, pronounced whiskey) is a simple calling convention for web servers to forward requests to web applications or frameworks written in the `Python programming language`. The current version of WSGI is version 1.0.1.\n"
   ]
  },
  {
   "cell_type": "markdown",
   "id": "22838f77",
   "metadata": {},
   "source": [
    "## 17.4\tFlask Installation\n",
    "Flask libraries can be easily installed using any the following commands:\n",
    "\n",
    "`pip install flask`\n",
    "\n",
    "`python -m pip install flask`\n",
    "\n",
    "`conda install flask`\n"
   ]
  },
  {
   "cell_type": "markdown",
   "id": "601a5e8a",
   "metadata": {},
   "source": [
    "## For More details kindly refere to the Flask Folder\n",
    "\n"
   ]
  },
  {
   "cell_type": "code",
   "execution_count": null,
   "id": "0ccce562",
   "metadata": {},
   "outputs": [],
   "source": []
  }
 ],
 "metadata": {
  "kernelspec": {
   "display_name": "Python 3 (ipykernel)",
   "language": "python",
   "name": "python3"
  },
  "language_info": {
   "codemirror_mode": {
    "name": "ipython",
    "version": 3
   },
   "file_extension": ".py",
   "mimetype": "text/x-python",
   "name": "python",
   "nbconvert_exporter": "python",
   "pygments_lexer": "ipython3",
   "version": "3.9.12"
  }
 },
 "nbformat": 4,
 "nbformat_minor": 5
}
