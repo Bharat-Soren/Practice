{
 "cells": [
  {
   "cell_type": "code",
   "execution_count": 1,
   "id": "03edd39a",
   "metadata": {},
   "outputs": [],
   "source": [
    "## Go through the downloaded file \"Data Visualisation with Pandas.ipynb\""
   ]
  },
  {
   "cell_type": "code",
   "execution_count": null,
   "id": "105b261d",
   "metadata": {},
   "outputs": [],
   "source": [
    "## https://www.youtube.com/watch?v=G1aAbbQ7tBM"
   ]
  }
 ],
 "metadata": {
  "kernelspec": {
   "display_name": "Python 3 (ipykernel)",
   "language": "python",
   "name": "python3"
  },
  "language_info": {
   "codemirror_mode": {
    "name": "ipython",
    "version": 3
   },
   "file_extension": ".py",
   "mimetype": "text/x-python",
   "name": "python",
   "nbconvert_exporter": "python",
   "pygments_lexer": "ipython3",
   "version": "3.9.12"
  }
 },
 "nbformat": 4,
 "nbformat_minor": 5
}
