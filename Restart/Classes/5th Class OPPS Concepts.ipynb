{
 "cells": [
  {
   "cell_type": "code",
   "execution_count": 1,
   "id": "12fc2006",
   "metadata": {},
   "outputs": [],
   "source": [
    "# Video link https://www.youtube.com/watch?v=vEWbVyoJBX4\n",
    "# 12th Dec Video\n",
    "# 1st Complete the Practice Question of 6th Dec Class"
   ]
  },
  {
   "cell_type": "markdown",
   "id": "0292d5ca",
   "metadata": {},
   "source": [
    "### Function Overloading and Function Overriding\n",
    "**Function Overloading** : In this function name will be same but the number of parameters will be different. Based on the number of parameters the function will be called."
   ]
  },
  {
   "cell_type": "code",
   "execution_count": 4,
   "id": "f193be40",
   "metadata": {},
   "outputs": [],
   "source": [
    "def calculate(var1:int,var2:int):\n",
    "    if operation== '+':\n",
    "        return var1 + var2\n",
    "    elif operation== '-':\n",
    "        return var1 - var2\n",
    "    else:\n",
    "        return var1* var2\n"
   ]
  },
  {
   "cell_type": "code",
   "execution_count": 20,
   "id": "6a537440",
   "metadata": {},
   "outputs": [],
   "source": [
    "# This way we can do the function overloading in other language.\n",
    "def calculate(var1:str,var2:str,var3:str): # Function overloading as the number of params are different in both the functions.\n",
    "    if operation == '+':\n",
    "        return var1 + var2\n",
    "    elif operation == '-':\n",
    "        return var1 - var2\n",
    "    else:\n",
    "        return var1 * var2"
   ]
  },
  {
   "cell_type": "code",
   "execution_count": 21,
   "id": "d4baf3db",
   "metadata": {},
   "outputs": [
    {
     "ename": "TypeError",
     "evalue": "calculate() missing 1 required positional argument: 'var3'",
     "output_type": "error",
     "traceback": [
      "\u001b[1;31m---------------------------------------------------------------------------\u001b[0m",
      "\u001b[1;31mTypeError\u001b[0m                                 Traceback (most recent call last)",
      "Input \u001b[1;32mIn [21]\u001b[0m, in \u001b[0;36m<cell line: 1>\u001b[1;34m()\u001b[0m\n\u001b[1;32m----> 1\u001b[0m \u001b[43mcalculate\u001b[49m\u001b[43m(\u001b[49m\u001b[38;5;241;43m5\u001b[39;49m\u001b[43m,\u001b[49m\u001b[38;5;241;43m3\u001b[39;49m\u001b[43m)\u001b[49m\n",
      "\u001b[1;31mTypeError\u001b[0m: calculate() missing 1 required positional argument: 'var3'"
     ]
    }
   ],
   "source": [
    "calculate(5,3) # As function overloading is not present in the python. So It is overriding the previous function."
   ]
  },
  {
   "cell_type": "code",
   "execution_count": 22,
   "id": "b6659c48",
   "metadata": {},
   "outputs": [],
   "source": [
    "#Function Overloading \n",
    "#With one function name we can have \n",
    "# Multiple functions defined in the same class\n",
    "\n",
    "# But in python function overloading is not directly supported\n",
    "# We have workaroud to achive it\n",
    "# Keyword argument is the solution for this one.\n",
    "# We can achive the function overloading in python using the Keyword arguments.\n",
    "\n",
    "def calculate(var1,var2,operation=\"+\"): #Keyword arguments.\n",
    "    if operation == '+':\n",
    "        return var1 + var2\n",
    "    elif operation == '-':\n",
    "        return var1 - var2\n",
    "    else:\n",
    "        return var1 * var2"
   ]
  },
  {
   "cell_type": "code",
   "execution_count": 23,
   "id": "a7a5cca8",
   "metadata": {},
   "outputs": [
    {
     "data": {
      "text/plain": [
       "8"
      ]
     },
     "execution_count": 23,
     "metadata": {},
     "output_type": "execute_result"
    }
   ],
   "source": [
    "calculate(5,3)"
   ]
  },
  {
   "cell_type": "code",
   "execution_count": 24,
   "id": "53bacdf5",
   "metadata": {},
   "outputs": [
    {
     "data": {
      "text/plain": [
       "2"
      ]
     },
     "execution_count": 24,
     "metadata": {},
     "output_type": "execute_result"
    }
   ],
   "source": [
    "calculate(5,3,\"-\")"
   ]
  },
  {
   "cell_type": "markdown",
   "id": "48d0f1c4",
   "metadata": {},
   "source": [
    "### OOPs Concept (Object Oriented Programming )\n",
    "Four pilar of the opps concept.\n",
    "1. Inheritance\n",
    "2. Polymorphism\n",
    "3. Encapsulation\n",
    "4. Abstraction\n",
    "\n",
    "Realtime object can be a class.\n",
    "The Feature of the object can be a attribute of the class."
   ]
  },
  {
   "cell_type": "markdown",
   "id": "759e5509",
   "metadata": {},
   "source": [
    "#### 1. Inheritance\n",
    "\n",
    "We are trying to get some feature from our parents or ansestors.\n",
    "\n",
    "#### 2. Polymorphism\n",
    "\n",
    "It consist of two word.\n",
    "Poly + Morphic \n",
    "    means \n",
    "multiple + behaviour\n",
    "\n",
    "In this we have two things \n",
    "1. Function overloading\n",
    "2. Function overriding\n",
    "\n",
    "#### 3. Encapsulatin\n",
    "\n",
    "We are tring to wrap all the things(variables,functions) inside a class.\n",
    "\n",
    "The wrapping flow of the programming.\n",
    "\n",
    "All the variables >>> All the function >>> All the class >>> all the packages >>> Project\n",
    "\n",
    "#### 4. Abstraction\n",
    "\n",
    "We are trying to hide the internal implemention of the code."
   ]
  },
  {
   "cell_type": "markdown",
   "id": "03b3bff8",
   "metadata": {},
   "source": [
    "### What is the Class in OPPs?\n",
    "class is an object which we can feel in realtime.\n",
    "\n",
    "**Syntax:** class Class_name:"
   ]
  },
  {
   "cell_type": "code",
   "execution_count": 32,
   "id": "41065a37",
   "metadata": {},
   "outputs": [],
   "source": [
    "class Person:\n",
    "    x=100\n",
    "    def __init__(self,name,surname,year_of_birth):\n",
    "        self.name1=name\n",
    "        self.surname=surname\n",
    "        self.year_of_birth=year_of_birth\n",
    "    def test(self):\n",
    "        print(\"Hey\")"
   ]
  },
  {
   "cell_type": "code",
   "execution_count": 35,
   "id": "9aaf3f95",
   "metadata": {},
   "outputs": [
    {
     "name": "stdout",
     "output_type": "stream",
     "text": [
      "<__main__.Person object at 0x000001BC0DBDDF40>\n",
      "Algether Baldwin was born in 1958.\n",
      "Hey\n",
      "100\n"
     ]
    }
   ],
   "source": [
    "alec=Person(\"Algether\",\"Baldwin\",1958)\n",
    "print(alec)\n",
    "print(\"%s %s was born in %d.\"% (alec.name1,alec.surname,alec.year_of_birth))\n",
    "alec.test()\n",
    "print(alec.x)"
   ]
  },
  {
   "cell_type": "code",
   "execution_count": null,
   "id": "c3c60e37",
   "metadata": {},
   "outputs": [],
   "source": []
  }
 ],
 "metadata": {
  "kernelspec": {
   "display_name": "Python 3 (ipykernel)",
   "language": "python",
   "name": "python3"
  },
  "language_info": {
   "codemirror_mode": {
    "name": "ipython",
    "version": 3
   },
   "file_extension": ".py",
   "mimetype": "text/x-python",
   "name": "python",
   "nbconvert_exporter": "python",
   "pygments_lexer": "ipython3",
   "version": "3.9.12"
  }
 },
 "nbformat": 4,
 "nbformat_minor": 5
}
