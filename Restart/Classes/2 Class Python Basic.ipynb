{
 "cells": [
  {
   "cell_type": "markdown",
   "id": "77783fd0",
   "metadata": {},
   "source": [
    "## 29th Video\n",
    "### Complex literals\n",
    "Complex literals can be created using the notation \"x + yj\" Where x is a real component and y is the imaginary component."
   ]
  },
  {
   "cell_type": "code",
   "execution_count": 2,
   "id": "3dd5a86d",
   "metadata": {},
   "outputs": [
    {
     "data": {
      "text/plain": [
       "(1-20j)"
      ]
     },
     "execution_count": 2,
     "metadata": {},
     "output_type": "execute_result"
    }
   ],
   "source": [
    "j= 1.0 - 20.0j\n",
    "j"
   ]
  },
  {
   "cell_type": "code",
   "execution_count": 5,
   "id": "d5e0c95e",
   "metadata": {},
   "outputs": [
    {
     "data": {
      "text/plain": [
       "(1-20j)"
      ]
     },
     "execution_count": 5,
     "metadata": {},
     "output_type": "execute_result"
    }
   ],
   "source": [
    "x = j\n",
    "x"
   ]
  },
  {
   "cell_type": "code",
   "execution_count": 6,
   "id": "bfbeaf4f",
   "metadata": {},
   "outputs": [
    {
     "name": "stdout",
     "output_type": "stream",
     "text": [
      "1.0 -20.0\n"
     ]
    }
   ],
   "source": [
    "print(x.real,x.imag)"
   ]
  },
  {
   "cell_type": "code",
   "execution_count": 7,
   "id": "dd44046a",
   "metadata": {},
   "outputs": [
    {
     "data": {
      "text/plain": [
       "[]"
      ]
     },
     "execution_count": 7,
     "metadata": {},
     "output_type": "execute_result"
    }
   ],
   "source": [
    "l = []\n",
    "l"
   ]
  },
  {
   "cell_type": "code",
   "execution_count": 9,
   "id": "889fbb67",
   "metadata": {},
   "outputs": [
    {
     "data": {
      "text/plain": [
       "[]"
      ]
     },
     "execution_count": 9,
     "metadata": {},
     "output_type": "execute_result"
    }
   ],
   "source": [
    "l = list()\n",
    "l"
   ]
  },
  {
   "cell_type": "code",
   "execution_count": 23,
   "id": "ba265101",
   "metadata": {},
   "outputs": [],
   "source": [
    "l1 = [1,2,3,\"Bharat\", \"Soren\"]\n",
    "l2 = [7,8,9,\"Sunil\",\"Soren\"]"
   ]
  },
  {
   "cell_type": "code",
   "execution_count": 24,
   "id": "4d5ab559",
   "metadata": {},
   "outputs": [
    {
     "data": {
      "text/plain": [
       "[1, 2, 3, 'Bharat', 'Soren']"
      ]
     },
     "execution_count": 24,
     "metadata": {},
     "output_type": "execute_result"
    }
   ],
   "source": [
    "l3 =l1\n",
    "l1"
   ]
  },
  {
   "cell_type": "code",
   "execution_count": 12,
   "id": "69b7e1e0",
   "metadata": {},
   "outputs": [
    {
     "data": {
      "text/plain": [
       "[7, 8, 9, 'Sunil', 'Soren']"
      ]
     },
     "execution_count": 12,
     "metadata": {},
     "output_type": "execute_result"
    }
   ],
   "source": [
    "l2"
   ]
  },
  {
   "cell_type": "code",
   "execution_count": 13,
   "id": "39a90890",
   "metadata": {},
   "outputs": [
    {
     "data": {
      "text/plain": [
       "[1, 2, 3, 'Bharat', 'Soren', 7, 8, 9, 'Sunil', 'Soren']"
      ]
     },
     "execution_count": 13,
     "metadata": {},
     "output_type": "execute_result"
    }
   ],
   "source": [
    "l1 + l2"
   ]
  },
  {
   "cell_type": "code",
   "execution_count": 18,
   "id": "48710ac9",
   "metadata": {},
   "outputs": [
    {
     "data": {
      "text/plain": [
       "[1, 2, 3, 'Bharat', 'Soren', [7, 8, 9, 'Sunil', 'Soren']]"
      ]
     },
     "execution_count": 18,
     "metadata": {},
     "output_type": "execute_result"
    }
   ],
   "source": [
    "l1.append(l2) # If we append another list with a list then it will take another list as one element and append it.\n",
    "l1"
   ]
  },
  {
   "cell_type": "code",
   "execution_count": 25,
   "id": "5e3f7d09",
   "metadata": {},
   "outputs": [
    {
     "data": {
      "text/plain": [
       "[1, 2, 3, 'Bharat', 'Soren', 7, 8, 9, 'Sunil', 'Soren']"
      ]
     },
     "execution_count": 25,
     "metadata": {},
     "output_type": "execute_result"
    }
   ],
   "source": [
    "l3.extend(l2) # It will merge both the list and store it in 1st list.\n",
    "l3"
   ]
  },
  {
   "cell_type": "code",
   "execution_count": 26,
   "id": "e6dfd2bc",
   "metadata": {},
   "outputs": [
    {
     "data": {
      "text/plain": [
       "['Bharat']"
      ]
     },
     "execution_count": 26,
     "metadata": {},
     "output_type": "execute_result"
    }
   ],
   "source": [
    "l4=[\"Bharat\"] # It is taking as a one element in the list.\n",
    "l4"
   ]
  },
  {
   "cell_type": "code",
   "execution_count": 27,
   "id": "c017fafb",
   "metadata": {},
   "outputs": [
    {
     "data": {
      "text/plain": [
       "['B', 'h', 'a', 'r', 'a', 't']"
      ]
     },
     "execution_count": 27,
     "metadata": {},
     "output_type": "execute_result"
    }
   ],
   "source": [
    "l5 = list(\"Bharat\") # It is converting the string into list by considering each charecter as a element in the list.\n",
    "l5"
   ]
  },
  {
   "cell_type": "markdown",
   "id": "3676def6",
   "metadata": {},
   "source": [
    "### LOOPS"
   ]
  },
  {
   "cell_type": "code",
   "execution_count": 28,
   "id": "a29e205c",
   "metadata": {},
   "outputs": [
    {
     "name": "stdout",
     "output_type": "stream",
     "text": [
      "96\n"
     ]
    }
   ],
   "source": [
    "### Sum of all the elements in the list\n",
    "## For Loops\n",
    "\n",
    "l6=[9,8,7,65,4,3]\n",
    "\n",
    "result=0\n",
    "\n",
    "for i in l6:\n",
    "    result+=i\n",
    "    \n",
    "print(result)\n",
    "    "
   ]
  },
  {
   "cell_type": "code",
   "execution_count": 34,
   "id": "c92fc23e",
   "metadata": {},
   "outputs": [
    {
     "name": "stdout",
     "output_type": "stream",
     "text": [
      "Sum of all the Odd Numbers in the list is: 28 \n",
      "Sum Of all the Even Number in the list is: 24\n",
      "CPU times: total: 0 ns\n",
      "Wall time: 0 ns\n"
     ]
    }
   ],
   "source": [
    "%%time\n",
    "## Program to find the sum of all the odd number and sum of all the even number from the below list.\n",
    "\n",
    "l7 = [1,3,4,6,7,8,9,2,3,4,5]\n",
    "\n",
    "sum_odd_num=0\n",
    "sum_even_num=0\n",
    "\n",
    "for i in l7:\n",
    "    if i%2==0:\n",
    "        sum_even_num+=i\n",
    "    else:\n",
    "        sum_odd_num+=i\n",
    "print(\"Sum of all the Odd Numbers in the list is: {odd_num} \\nSum Of all the Even Number in the list is: {even_num}\".format(odd_num=sum_odd_num,even_num=sum_even_num))"
   ]
  },
  {
   "cell_type": "code",
   "execution_count": 35,
   "id": "95f7a990",
   "metadata": {},
   "outputs": [
    {
     "name": "stdout",
     "output_type": "stream",
     "text": [
      "CPU times: total: 0 ns\n",
      "Wall time: 0 ns\n"
     ]
    }
   ],
   "source": [
    "%%time \n",
    "## We can use this \"%%time\" to track the time taken to execute the code. \n",
    "## And This code will be the 1st line in the programm."
   ]
  },
  {
   "cell_type": "markdown",
   "id": "9afb1322",
   "metadata": {},
   "source": [
    "### For Loop with Else\n",
    "If we want to execute a statement once the for loop is completed then we can use the \"For loop with else\""
   ]
  },
  {
   "cell_type": "code",
   "execution_count": 43,
   "id": "ab4b1b91",
   "metadata": {},
   "outputs": [
    {
     "name": "stdout",
     "output_type": "stream",
     "text": [
      "The for loop is completed\n",
      "The sum of all the element is:  63\n"
     ]
    }
   ],
   "source": [
    "l8 = [4,5,3,6,7,3,2,7,8,9,3,6]\n",
    "\n",
    "sum4=0\n",
    "for i in l8:\n",
    "    if i==1:\n",
    "        break\n",
    "    else:\n",
    "        sum4+=i\n",
    "else: # The else block code will gets executed only if for loop iteration is completed successfully.\n",
    "    print(\"The for loop is completed\") # If it breaks in between then else block won't get executed.\n",
    "    print(\"The sum of all the element is: \",sum4)"
   ]
  },
  {
   "cell_type": "markdown",
   "id": "16065b20",
   "metadata": {},
   "source": [
    "#### Break Statements\n",
    "Break statements will come out of the loop when it gets executed."
   ]
  },
  {
   "cell_type": "code",
   "execution_count": 44,
   "id": "7aa23336",
   "metadata": {},
   "outputs": [
    {
     "name": "stdout",
     "output_type": "stream",
     "text": [
      "60\n"
     ]
    }
   ],
   "source": [
    "l9 = [10,20,30,1,40,50]\n",
    "\n",
    "sum3=0\n",
    "for i in l9:\n",
    "    if i ==1:\n",
    "        break\n",
    "    else:\n",
    "        sum3+=i\n",
    "print(sum3)"
   ]
  },
  {
   "cell_type": "code",
   "execution_count": 46,
   "id": "b51c3550",
   "metadata": {},
   "outputs": [
    {
     "name": "stdout",
     "output_type": "stream",
     "text": [
      "Sum of all the Odd Numbers in the list is: 16 \n",
      "Sum Of all the Even Number in the list is: 12\n"
     ]
    }
   ],
   "source": [
    "## Find the sum of even and odd numbers. \n",
    "## If the even number sum or odd number sum is greater then 20 then implement the break condition..print(else block)\n",
    "\n",
    "l10 =[1,2,3,4,5,6,7]\n",
    "sum_even=0\n",
    "sum_odd=0\n",
    "for i in l10:\n",
    "    if sum_even >20 or sum_odd > 20:\n",
    "        break\n",
    "    elif i %2 ==0:\n",
    "        sum_even+=i\n",
    "    else:\n",
    "        sum_odd+=i\n",
    "else:\n",
    "    print(\"Sum of all the Odd Numbers in the list is: {odd_num} \\nSum Of all the Even Number in the list is: {even_num}\".format(odd_num=sum_odd,even_num=sum_even))"
   ]
  },
  {
   "cell_type": "markdown",
   "id": "f05a9253",
   "metadata": {},
   "source": [
    "### While Loop"
   ]
  },
  {
   "cell_type": "code",
   "execution_count": 52,
   "id": "922dc26f",
   "metadata": {},
   "outputs": [
    {
     "name": "stdout",
     "output_type": "stream",
     "text": [
      "Sum of 1 to nth Numbers: 55\n"
     ]
    }
   ],
   "source": [
    "## Sum of n elements(1,2,3,4,5,6,7,8,9,10)\n",
    "n=10\n",
    "i=1\n",
    "sum9=0\n",
    "while i<=n:\n",
    "    sum9+=i\n",
    "    i+=1\n",
    "print(\"Sum of 1 to nth Numbers:\",sum9)\n",
    "    \n"
   ]
  },
  {
   "cell_type": "code",
   "execution_count": 53,
   "id": "3f83bdaa",
   "metadata": {},
   "outputs": [
    {
     "name": "stdout",
     "output_type": "stream",
     "text": [
      "Even Number sum is: 30\n",
      "Odd Number sum is: 25\n"
     ]
    }
   ],
   "source": [
    "## Sum of n elements(1,2,3,4,5,6,7,8,9,10), Odd and Even Sum\n",
    "n=10\n",
    "i=1\n",
    "odd_sum=0\n",
    "even_sum=0\n",
    "while i<=n:\n",
    "    if i%2 ==0:\n",
    "        even_sum+=i\n",
    "    else:\n",
    "        odd_sum+=i\n",
    "    \n",
    "    i+=1\n",
    "print(\"Even Number sum is:\",even_sum)\n",
    "print(\"Odd Number sum is:\",odd_sum)"
   ]
  },
  {
   "cell_type": "markdown",
   "id": "bd1bdcbb",
   "metadata": {},
   "source": [
    "### Range Function\n",
    "Syntax: range(n)\n",
    "We can generate the sequence of number using the range()"
   ]
  },
  {
   "cell_type": "code",
   "execution_count": 54,
   "id": "85f22ff0",
   "metadata": {},
   "outputs": [
    {
     "data": {
      "text/plain": [
       "range(0, 10)"
      ]
     },
     "execution_count": 54,
     "metadata": {},
     "output_type": "execute_result"
    }
   ],
   "source": [
    "range(10)"
   ]
  },
  {
   "cell_type": "code",
   "execution_count": 57,
   "id": "ffe3e609",
   "metadata": {},
   "outputs": [
    {
     "data": {
      "text/plain": [
       "[0, 1, 2, 3, 4, 5, 6, 7, 8, 9]"
      ]
     },
     "execution_count": 57,
     "metadata": {},
     "output_type": "execute_result"
    }
   ],
   "source": [
    "l11=list(range(10))\n",
    "l11"
   ]
  },
  {
   "cell_type": "code",
   "execution_count": 58,
   "id": "490ea624",
   "metadata": {},
   "outputs": [
    {
     "data": {
      "text/plain": [
       "[4, 5, 6, 7, 8, 9]"
      ]
     },
     "execution_count": 58,
     "metadata": {},
     "output_type": "execute_result"
    }
   ],
   "source": [
    "l12=list(range(4,10))\n",
    "l12"
   ]
  },
  {
   "cell_type": "code",
   "execution_count": 59,
   "id": "d96d9278",
   "metadata": {},
   "outputs": [
    {
     "data": {
      "text/plain": [
       "[4, 6, 8, 10, 12, 14, 16, 18]"
      ]
     },
     "execution_count": 59,
     "metadata": {},
     "output_type": "execute_result"
    }
   ],
   "source": [
    "l13=list(range(4,20,2)) # 2 is the step size\n",
    "l13"
   ]
  },
  {
   "cell_type": "code",
   "execution_count": 60,
   "id": "236e8e1c",
   "metadata": {},
   "outputs": [
    {
     "data": {
      "text/plain": [
       "2500"
      ]
     },
     "execution_count": 60,
     "metadata": {},
     "output_type": "execute_result"
    }
   ],
   "source": [
    "sum(range(1,100,2)) # Sum of all the odd numbers until 100"
   ]
  },
  {
   "cell_type": "code",
   "execution_count": 61,
   "id": "0038c3b8",
   "metadata": {},
   "outputs": [
    {
     "data": {
      "text/plain": [
       "[100,\n",
       " 98,\n",
       " 96,\n",
       " 94,\n",
       " 92,\n",
       " 90,\n",
       " 88,\n",
       " 86,\n",
       " 84,\n",
       " 82,\n",
       " 80,\n",
       " 78,\n",
       " 76,\n",
       " 74,\n",
       " 72,\n",
       " 70,\n",
       " 68,\n",
       " 66,\n",
       " 64,\n",
       " 62,\n",
       " 60,\n",
       " 58,\n",
       " 56,\n",
       " 54,\n",
       " 52,\n",
       " 50,\n",
       " 48,\n",
       " 46,\n",
       " 44,\n",
       " 42,\n",
       " 40,\n",
       " 38,\n",
       " 36,\n",
       " 34,\n",
       " 32,\n",
       " 30,\n",
       " 28,\n",
       " 26,\n",
       " 24,\n",
       " 22,\n",
       " 20,\n",
       " 18,\n",
       " 16,\n",
       " 14,\n",
       " 12,\n",
       " 10,\n",
       " 8,\n",
       " 6,\n",
       " 4,\n",
       " 2]"
      ]
     },
     "execution_count": 61,
     "metadata": {},
     "output_type": "execute_result"
    }
   ],
   "source": [
    "list(range(100,0,-2))"
   ]
  },
  {
   "cell_type": "markdown",
   "id": "30b24bad",
   "metadata": {},
   "source": [
    "### Continue Statements\n",
    "The continue statement is used to skip the rest of the code inside the loop for the current iteration only. Loop doesn't terminate buy continue on with the next iteration."
   ]
  },
  {
   "cell_type": "code",
   "execution_count": 64,
   "id": "b4242111",
   "metadata": {},
   "outputs": [
    {
     "name": "stdout",
     "output_type": "stream",
     "text": [
      "S\n",
      "t\n",
      "r\n",
      "n\n",
      "g\n",
      "The End of 1st loop \n",
      "S\n",
      "t\n",
      "r\n",
      "The End of 2nd loop \n"
     ]
    }
   ],
   "source": [
    "# Program to show the use of \"Continue Statement\" inside the loop.\n",
    "\n",
    "for val in \"String\":\n",
    "    if val=='i':\n",
    "        continue\n",
    "    print(val)\n",
    "print(\"The End of 1st loop \")\n",
    "\n",
    "\n",
    "for val in \"String\":\n",
    "    if val=='i':\n",
    "        break\n",
    "    print(val)\n",
    "print(\"The End of 2nd loop \")"
   ]
  },
  {
   "cell_type": "markdown",
   "id": "42c0b757",
   "metadata": {},
   "source": [
    "### String Indexing"
   ]
  },
  {
   "cell_type": "code",
   "execution_count": 65,
   "id": "eb2a2831",
   "metadata": {},
   "outputs": [
    {
     "data": {
      "text/plain": [
       "'Hello World'"
      ]
     },
     "execution_count": 65,
     "metadata": {},
     "output_type": "execute_result"
    }
   ],
   "source": [
    "s = 'Hello World'\n",
    "s"
   ]
  },
  {
   "cell_type": "code",
   "execution_count": 66,
   "id": "f68c1f4b",
   "metadata": {},
   "outputs": [
    {
     "data": {
      "text/plain": [
       "'H'"
      ]
     },
     "execution_count": 66,
     "metadata": {},
     "output_type": "execute_result"
    }
   ],
   "source": [
    "s[0]"
   ]
  },
  {
   "cell_type": "code",
   "execution_count": 68,
   "id": "b14ec814",
   "metadata": {},
   "outputs": [
    {
     "data": {
      "text/plain": [
       "'o'"
      ]
     },
     "execution_count": 68,
     "metadata": {},
     "output_type": "execute_result"
    }
   ],
   "source": [
    "s[4]"
   ]
  },
  {
   "cell_type": "code",
   "execution_count": 70,
   "id": "919dd3e3",
   "metadata": {},
   "outputs": [
    {
     "data": {
      "text/plain": [
       "11"
      ]
     },
     "execution_count": 70,
     "metadata": {},
     "output_type": "execute_result"
    }
   ],
   "source": [
    "len(s)"
   ]
  },
  {
   "cell_type": "code",
   "execution_count": 76,
   "id": "217353ff",
   "metadata": {},
   "outputs": [
    {
     "data": {
      "text/plain": [
       "'Hello World'"
      ]
     },
     "execution_count": 76,
     "metadata": {},
     "output_type": "execute_result"
    }
   ],
   "source": [
    "s[:] # It will display the data from 0th index to end index of the string. As there is not data is provided in the before and after the colonr\n",
    "# Syntax s[start_Index(start with 0):end_index(start with 1)]"
   ]
  },
  {
   "cell_type": "code",
   "execution_count": 74,
   "id": "f7ed4715",
   "metadata": {},
   "outputs": [
    {
     "data": {
      "text/plain": [
       "'ello World'"
      ]
     },
     "execution_count": 74,
     "metadata": {},
     "output_type": "execute_result"
    }
   ],
   "source": [
    "s[1:]"
   ]
  },
  {
   "cell_type": "code",
   "execution_count": 75,
   "id": "ceb9ceea",
   "metadata": {},
   "outputs": [
    {
     "data": {
      "text/plain": [
       "'ello '"
      ]
     },
     "execution_count": 75,
     "metadata": {},
     "output_type": "execute_result"
    }
   ],
   "source": [
    "s[1:6]"
   ]
  },
  {
   "cell_type": "code",
   "execution_count": 77,
   "id": "04ffb6b4",
   "metadata": {},
   "outputs": [
    {
     "data": {
      "text/plain": [
       "'ello W'"
      ]
     },
     "execution_count": 77,
     "metadata": {},
     "output_type": "execute_result"
    }
   ],
   "source": [
    "s[1:7]"
   ]
  },
  {
   "cell_type": "code",
   "execution_count": 78,
   "id": "6fb9a9ca",
   "metadata": {},
   "outputs": [
    {
     "data": {
      "text/plain": [
       "'d'"
      ]
     },
     "execution_count": 78,
     "metadata": {},
     "output_type": "execute_result"
    }
   ],
   "source": [
    "s[-1] # To get the last element of the string"
   ]
  },
  {
   "cell_type": "code",
   "execution_count": 79,
   "id": "44c1d9f0",
   "metadata": {},
   "outputs": [
    {
     "data": {
      "text/plain": [
       "'Hello Worl'"
      ]
     },
     "execution_count": 79,
     "metadata": {},
     "output_type": "execute_result"
    }
   ],
   "source": [
    "s[:-1]"
   ]
  },
  {
   "cell_type": "code",
   "execution_count": 81,
   "id": "f7646cf7",
   "metadata": {},
   "outputs": [
    {
     "data": {
      "text/plain": [
       "'Hello Wor'"
      ]
     },
     "execution_count": 81,
     "metadata": {},
     "output_type": "execute_result"
    }
   ],
   "source": [
    "s[:-2]"
   ]
  },
  {
   "cell_type": "code",
   "execution_count": 82,
   "id": "5df0552c",
   "metadata": {},
   "outputs": [
    {
     "data": {
      "text/plain": [
       "'Hello World'"
      ]
     },
     "execution_count": 82,
     "metadata": {},
     "output_type": "execute_result"
    }
   ],
   "source": [
    "s[::]"
   ]
  },
  {
   "cell_type": "code",
   "execution_count": 85,
   "id": "72d5ef85",
   "metadata": {},
   "outputs": [
    {
     "data": {
      "text/plain": [
       "'drWolH'"
      ]
     },
     "execution_count": 85,
     "metadata": {},
     "output_type": "execute_result"
    }
   ],
   "source": [
    "s[::-2] # It is going to jump two times"
   ]
  },
  {
   "cell_type": "code",
   "execution_count": 84,
   "id": "398267a1",
   "metadata": {},
   "outputs": [
    {
     "data": {
      "text/plain": [
       "'dlroW olleH'"
      ]
     },
     "execution_count": 84,
     "metadata": {},
     "output_type": "execute_result"
    }
   ],
   "source": [
    "s[::-1] # To reverse the string"
   ]
  },
  {
   "cell_type": "markdown",
   "id": "5a8928a6",
   "metadata": {},
   "source": [
    "### String Inbuild Functions\n"
   ]
  },
  {
   "cell_type": "code",
   "execution_count": 95,
   "id": "68b06fb2",
   "metadata": {},
   "outputs": [
    {
     "data": {
      "text/plain": [
       "'Hello world Bharat'"
      ]
     },
     "execution_count": 95,
     "metadata": {},
     "output_type": "execute_result"
    }
   ],
   "source": [
    "s='Hello world Bharat'\n",
    "s"
   ]
  },
  {
   "cell_type": "code",
   "execution_count": 96,
   "id": "8b82012b",
   "metadata": {},
   "outputs": [
    {
     "data": {
      "text/plain": [
       "'HELLO WORLD BHARAT'"
      ]
     },
     "execution_count": 96,
     "metadata": {},
     "output_type": "execute_result"
    }
   ],
   "source": [
    "s.upper()"
   ]
  },
  {
   "cell_type": "code",
   "execution_count": 97,
   "id": "87d586ba",
   "metadata": {},
   "outputs": [
    {
     "data": {
      "text/plain": [
       "'hello world bharat'"
      ]
     },
     "execution_count": 97,
     "metadata": {},
     "output_type": "execute_result"
    }
   ],
   "source": [
    "s.lower()"
   ]
  },
  {
   "cell_type": "code",
   "execution_count": 98,
   "id": "f2e3905f",
   "metadata": {},
   "outputs": [
    {
     "data": {
      "text/plain": [
       "'Hello World Bharat'"
      ]
     },
     "execution_count": 98,
     "metadata": {},
     "output_type": "execute_result"
    }
   ],
   "source": [
    "s.title()"
   ]
  },
  {
   "cell_type": "code",
   "execution_count": 100,
   "id": "b253e4d4",
   "metadata": {},
   "outputs": [
    {
     "data": {
      "text/plain": [
       "['Hello', 'world', 'Bharat']"
      ]
     },
     "execution_count": 100,
     "metadata": {},
     "output_type": "execute_result"
    }
   ],
   "source": [
    "s.split() # Split the string based on the space"
   ]
  },
  {
   "cell_type": "code",
   "execution_count": 101,
   "id": "97814a7a",
   "metadata": {},
   "outputs": [
    {
     "data": {
      "text/plain": [
       "'Hello,World,Bharat'"
      ]
     },
     "execution_count": 101,
     "metadata": {},
     "output_type": "execute_result"
    }
   ],
   "source": [
    "s1='Hello,World,Bharat'\n",
    "s1"
   ]
  },
  {
   "cell_type": "code",
   "execution_count": 103,
   "id": "987708a1",
   "metadata": {},
   "outputs": [
    {
     "data": {
      "text/plain": [
       "['Hello', 'World', 'Bharat']"
      ]
     },
     "execution_count": 103,
     "metadata": {},
     "output_type": "execute_result"
    }
   ],
   "source": [
    "s1.split(sep=',')"
   ]
  },
  {
   "cell_type": "code",
   "execution_count": 104,
   "id": "f54ff8d2",
   "metadata": {},
   "outputs": [
    {
     "data": {
      "text/plain": [
       "['Hello,', 'orld,Bharat']"
      ]
     },
     "execution_count": 104,
     "metadata": {},
     "output_type": "execute_result"
    }
   ],
   "source": [
    "s1.split('W')"
   ]
  },
  {
   "cell_type": "markdown",
   "id": "77f3b007",
   "metadata": {},
   "source": [
    "### Location and Counting"
   ]
  },
  {
   "cell_type": "code",
   "execution_count": 107,
   "id": "cfc87dfd",
   "metadata": {},
   "outputs": [
    {
     "data": {
      "text/plain": [
       "'Bharat Soren'"
      ]
     },
     "execution_count": 107,
     "metadata": {},
     "output_type": "execute_result"
    }
   ],
   "source": [
    "s2='Bharat Soren'\n",
    "s2"
   ]
  },
  {
   "cell_type": "code",
   "execution_count": 108,
   "id": "30f39ae7",
   "metadata": {},
   "outputs": [
    {
     "data": {
      "text/plain": [
       "2"
      ]
     },
     "execution_count": 108,
     "metadata": {},
     "output_type": "execute_result"
    }
   ],
   "source": [
    "s2.count('a')"
   ]
  },
  {
   "cell_type": "code",
   "execution_count": 106,
   "id": "ba902711",
   "metadata": {},
   "outputs": [
    {
     "data": {
      "text/plain": [
       "2"
      ]
     },
     "execution_count": 106,
     "metadata": {},
     "output_type": "execute_result"
    }
   ],
   "source": [
    "s2.find('a')"
   ]
  },
  {
   "cell_type": "code",
   "execution_count": 109,
   "id": "a7432680",
   "metadata": {},
   "outputs": [
    {
     "data": {
      "text/plain": [
       "'****Bharat Soren****'"
      ]
     },
     "execution_count": 109,
     "metadata": {},
     "output_type": "execute_result"
    }
   ],
   "source": [
    "s2.center(20,'*')"
   ]
  },
  {
   "cell_type": "markdown",
   "id": "97c1395e",
   "metadata": {},
   "source": [
    "expandtabs() will expand tab notations \\t into spaces. lets see an example to understand the concept"
   ]
  },
  {
   "cell_type": "code",
   "execution_count": 115,
   "id": "d730eef5",
   "metadata": {},
   "outputs": [
    {
     "data": {
      "text/plain": [
       "'hello\\thi'"
      ]
     },
     "execution_count": 115,
     "metadata": {},
     "output_type": "execute_result"
    }
   ],
   "source": [
    "s3='hello\\thi'\n",
    "s3"
   ]
  },
  {
   "cell_type": "code",
   "execution_count": 116,
   "id": "bdac4f48",
   "metadata": {},
   "outputs": [
    {
     "data": {
      "text/plain": [
       "'hello   hi'"
      ]
     },
     "execution_count": 116,
     "metadata": {},
     "output_type": "execute_result"
    }
   ],
   "source": [
    "s3.expandtabs()"
   ]
  },
  {
   "cell_type": "markdown",
   "id": "26cecfc2",
   "metadata": {},
   "source": [
    "## Is Check Methods"
   ]
  },
  {
   "cell_type": "code",
   "execution_count": 118,
   "id": "36b51e16",
   "metadata": {},
   "outputs": [
    {
     "data": {
      "text/plain": [
       "'hello'"
      ]
     },
     "execution_count": 118,
     "metadata": {},
     "output_type": "execute_result"
    }
   ],
   "source": [
    "s4='hello'\n",
    "s4"
   ]
  },
  {
   "cell_type": "code",
   "execution_count": 120,
   "id": "eb07a496",
   "metadata": {},
   "outputs": [
    {
     "data": {
      "text/plain": [
       "True"
      ]
     },
     "execution_count": 120,
     "metadata": {},
     "output_type": "execute_result"
    }
   ],
   "source": [
    "s4.isalnum() # It check if a string is either sting or numeric or both"
   ]
  },
  {
   "cell_type": "code",
   "execution_count": 121,
   "id": "00e96943",
   "metadata": {},
   "outputs": [
    {
     "data": {
      "text/plain": [
       "True"
      ]
     },
     "execution_count": 121,
     "metadata": {},
     "output_type": "execute_result"
    }
   ],
   "source": [
    "s4.isalpha()"
   ]
  },
  {
   "cell_type": "code",
   "execution_count": 122,
   "id": "025d1257",
   "metadata": {},
   "outputs": [
    {
     "data": {
      "text/plain": [
       "False"
      ]
     },
     "execution_count": 122,
     "metadata": {},
     "output_type": "execute_result"
    }
   ],
   "source": [
    "'hello123'.isalpha()"
   ]
  },
  {
   "cell_type": "code",
   "execution_count": 123,
   "id": "0f9cb763",
   "metadata": {},
   "outputs": [
    {
     "data": {
      "text/plain": [
       "False"
      ]
     },
     "execution_count": 123,
     "metadata": {},
     "output_type": "execute_result"
    }
   ],
   "source": [
    "s4.isspace()"
   ]
  },
  {
   "cell_type": "code",
   "execution_count": 128,
   "id": "6d31790e",
   "metadata": {},
   "outputs": [
    {
     "data": {
      "text/plain": [
       "True"
      ]
     },
     "execution_count": 128,
     "metadata": {},
     "output_type": "execute_result"
    }
   ],
   "source": [
    "' '.isspace() # If it only contains the space."
   ]
  },
  {
   "cell_type": "code",
   "execution_count": 133,
   "id": "5f6e269e",
   "metadata": {},
   "outputs": [
    {
     "data": {
      "text/plain": [
       "True"
      ]
     },
     "execution_count": 133,
     "metadata": {},
     "output_type": "execute_result"
    }
   ],
   "source": [
    "s4.endswith('o')"
   ]
  },
  {
   "cell_type": "code",
   "execution_count": 134,
   "id": "1cae3ccc",
   "metadata": {},
   "outputs": [
    {
     "data": {
      "text/plain": [
       "'Bharat Soren'"
      ]
     },
     "execution_count": 134,
     "metadata": {},
     "output_type": "execute_result"
    }
   ],
   "source": [
    "s5='Bharat Soren'\n",
    "s5"
   ]
  },
  {
   "cell_type": "code",
   "execution_count": 135,
   "id": "c613c5b6",
   "metadata": {},
   "outputs": [
    {
     "data": {
      "text/plain": [
       "['Bh', 'r', 't Soren']"
      ]
     },
     "execution_count": 135,
     "metadata": {},
     "output_type": "execute_result"
    }
   ],
   "source": [
    "s5.split('a')"
   ]
  },
  {
   "cell_type": "code",
   "execution_count": 136,
   "id": "621584cc",
   "metadata": {},
   "outputs": [
    {
     "data": {
      "text/plain": [
       "['Bhara', ' Soren']"
      ]
     },
     "execution_count": 136,
     "metadata": {},
     "output_type": "execute_result"
    }
   ],
   "source": [
    "s5.split('t')  # Here 't' is getting removed from the output"
   ]
  },
  {
   "cell_type": "code",
   "execution_count": 137,
   "id": "8b273cce",
   "metadata": {},
   "outputs": [
    {
     "data": {
      "text/plain": [
       "('Bhara', 't', ' Soren')"
      ]
     },
     "execution_count": 137,
     "metadata": {},
     "output_type": "execute_result"
    }
   ],
   "source": [
    "s5.partition('t') # Here 't' won't is getting removed from the output"
   ]
  },
  {
   "cell_type": "code",
   "execution_count": null,
   "id": "2ce21a73",
   "metadata": {},
   "outputs": [],
   "source": []
  }
 ],
 "metadata": {
  "kernelspec": {
   "display_name": "Python 3 (ipykernel)",
   "language": "python",
   "name": "python3"
  },
  "language_info": {
   "codemirror_mode": {
    "name": "ipython",
    "version": 3
   },
   "file_extension": ".py",
   "mimetype": "text/x-python",
   "name": "python",
   "nbconvert_exporter": "python",
   "pygments_lexer": "ipython3",
   "version": "3.9.12"
  }
 },
 "nbformat": 4,
 "nbformat_minor": 5
}
