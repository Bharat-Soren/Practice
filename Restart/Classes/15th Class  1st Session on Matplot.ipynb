{
 "cells": [
  {
   "cell_type": "code",
   "execution_count": 1,
   "id": "432ef611",
   "metadata": {},
   "outputs": [],
   "source": [
    "# https://www.youtube.com/watch?v=wGCNYFqKBSg"
   ]
  },
  {
   "cell_type": "code",
   "execution_count": 2,
   "id": "b0c04777",
   "metadata": {},
   "outputs": [],
   "source": [
    "# Complete the Numpy Practice First"
   ]
  },
  {
   "cell_type": "code",
   "execution_count": null,
   "id": "73936093",
   "metadata": {},
   "outputs": [],
   "source": []
  }
 ],
 "metadata": {
  "kernelspec": {
   "display_name": "Python 3 (ipykernel)",
   "language": "python",
   "name": "python3"
  },
  "language_info": {
   "codemirror_mode": {
    "name": "ipython",
    "version": 3
   },
   "file_extension": ".py",
   "mimetype": "text/x-python",
   "name": "python",
   "nbconvert_exporter": "python",
   "pygments_lexer": "ipython3",
   "version": "3.9.12"
  }
 },
 "nbformat": 4,
 "nbformat_minor": 5
}
