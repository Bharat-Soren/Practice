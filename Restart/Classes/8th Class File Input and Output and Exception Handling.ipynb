{
 "cells": [
  {
   "cell_type": "code",
   "execution_count": 1,
   "id": "e2b879be",
   "metadata": {},
   "outputs": [],
   "source": [
    "# https://www.youtube.com/watch?v=_fVaPHrcGM8"
   ]
  },
  {
   "cell_type": "markdown",
   "id": "8a5e0730",
   "metadata": {},
   "source": [
    "#### StringIO\n",
    "The StringIO module implements an in-memory file like object. This Object can then be used as input or output to most functions that would expect a standard file object.\n",
    "\n",
    "It is a package which give you the capability to read, write and other file operations in a object."
   ]
  },
  {
   "cell_type": "code",
   "execution_count": 2,
   "id": "9c74f174",
   "metadata": {},
   "outputs": [
    {
     "ename": "AttributeError",
     "evalue": "'str' object has no attribute 'read'",
     "output_type": "error",
     "traceback": [
      "\u001b[1;31m---------------------------------------------------------------------------\u001b[0m",
      "\u001b[1;31mAttributeError\u001b[0m                            Traceback (most recent call last)",
      "Input \u001b[1;32mIn [2]\u001b[0m, in \u001b[0;36m<cell line: 2>\u001b[1;34m()\u001b[0m\n\u001b[0;32m      1\u001b[0m s \u001b[38;5;241m=\u001b[39m\u001b[38;5;124m\"\u001b[39m\u001b[38;5;124mIneuron\u001b[39m\u001b[38;5;124m\"\u001b[39m\n\u001b[1;32m----> 2\u001b[0m \u001b[43ms\u001b[49m\u001b[38;5;241;43m.\u001b[39;49m\u001b[43mread\u001b[49m()\n",
      "\u001b[1;31mAttributeError\u001b[0m: 'str' object has no attribute 'read'"
     ]
    }
   ],
   "source": [
    "s =\"Ineuron\"\n",
    "s.read()"
   ]
  },
  {
   "cell_type": "code",
   "execution_count": 3,
   "id": "c923dc2d",
   "metadata": {},
   "outputs": [],
   "source": [
    "from io import StringIO"
   ]
  },
  {
   "cell_type": "code",
   "execution_count": 12,
   "id": "656b553d",
   "metadata": {},
   "outputs": [
    {
     "data": {
      "text/plain": [
       "_io.StringIO"
      ]
     },
     "execution_count": 12,
     "metadata": {},
     "output_type": "execute_result"
    }
   ],
   "source": [
    "message='This is just a normal String'\n",
    "\n",
    "f=StringIO(message) # We have applied the type casting to convert the string to File like object\n",
    "type(f)"
   ]
  },
  {
   "cell_type": "code",
   "execution_count": 13,
   "id": "559d8ee5",
   "metadata": {},
   "outputs": [
    {
     "data": {
      "text/plain": [
       "'This is just a normal String'"
      ]
     },
     "execution_count": 13,
     "metadata": {},
     "output_type": "execute_result"
    }
   ],
   "source": [
    "f.read()"
   ]
  },
  {
   "cell_type": "code",
   "execution_count": 19,
   "id": "39164e03",
   "metadata": {},
   "outputs": [
    {
     "data": {
      "text/plain": [
       "23"
      ]
     },
     "execution_count": 19,
     "metadata": {},
     "output_type": "execute_result"
    }
   ],
   "source": [
    "# We can also write the to it\n",
    "\n",
    "f.write('This is the second line')"
   ]
  },
  {
   "cell_type": "code",
   "execution_count": 20,
   "id": "2ebc95ac",
   "metadata": {},
   "outputs": [
    {
     "data": {
      "text/plain": [
       "'This is just a normal StringThis is the second lineThis is the second line'"
      ]
     },
     "execution_count": 20,
     "metadata": {},
     "output_type": "execute_result"
    }
   ],
   "source": [
    "f.seek(0)\n",
    "f.read()"
   ]
  },
  {
   "cell_type": "markdown",
   "id": "011552c0",
   "metadata": {},
   "source": [
    "### Modules and Packages\n",
    "\n",
    "Modules in python are simply Python files with th \".py\" extension, which implement a set of functions. Modules are imported from other modules using the import command. Before you go ahead and import modules, check out the full list of built in modules in the Python Standard library.\n",
    "\n",
    "When a module is loaded into a running script for the first time, it is initialized by executing the code in the module once. If another module in your code imports the same module again, it will not be loaded twice but once only - so local variables inside the module act as a \"singleton\" - they are initialized only once.\n",
    "\n",
    "if we want to import moduel math, we simply imprt the module:"
   ]
  },
  {
   "cell_type": "code",
   "execution_count": 21,
   "id": "9031bd9a",
   "metadata": {},
   "outputs": [],
   "source": [
    "# import the library\n",
    "import math"
   ]
  },
  {
   "cell_type": "code",
   "execution_count": 22,
   "id": "35e4341d",
   "metadata": {},
   "outputs": [],
   "source": [
    "# For more details we will discuss, while working on Project."
   ]
  },
  {
   "cell_type": "markdown",
   "id": "724e50be",
   "metadata": {},
   "source": [
    "#### Error and Exception Handling\n",
    "\n",
    "Basically there are two type of error.\n",
    "\n",
    "1. Syntax error / Complie time error\n",
    "2. Run time error\n",
    "\n"
   ]
  },
  {
   "cell_type": "code",
   "execution_count": 23,
   "id": "cedc6630",
   "metadata": {},
   "outputs": [
    {
     "ename": "SyntaxError",
     "evalue": "EOL while scanning string literal (2006194720.py, line 2)",
     "output_type": "error",
     "traceback": [
      "\u001b[1;36m  Input \u001b[1;32mIn [23]\u001b[1;36m\u001b[0m\n\u001b[1;33m    print('Hello)\u001b[0m\n\u001b[1;37m                 ^\u001b[0m\n\u001b[1;31mSyntaxError\u001b[0m\u001b[1;31m:\u001b[0m EOL while scanning string literal\n"
     ]
    }
   ],
   "source": [
    "# Syntax error\n",
    "#### Missing closing Quote, If there is an error in standard syntax then it is call as syntax error.\n",
    "print('Hello) "
   ]
  },
  {
   "cell_type": "code",
   "execution_count": 25,
   "id": "c1a7e65c",
   "metadata": {},
   "outputs": [],
   "source": [
    "# Run time error.\n",
    "# While syntax wise code is fine, when we execute the code when it takes the input it will cause an error. \n",
    "#It is called as run time error"
   ]
  },
  {
   "cell_type": "code",
   "execution_count": 27,
   "id": "f8d9de89",
   "metadata": {},
   "outputs": [
    {
     "name": "stdout",
     "output_type": "stream",
     "text": [
      "Enter the Number:1\n",
      "Enter the Number:0\n"
     ]
    },
    {
     "ename": "ZeroDivisionError",
     "evalue": "division by zero",
     "output_type": "error",
     "traceback": [
      "\u001b[1;31m---------------------------------------------------------------------------\u001b[0m",
      "\u001b[1;31mZeroDivisionError\u001b[0m                         Traceback (most recent call last)",
      "Input \u001b[1;32mIn [27]\u001b[0m, in \u001b[0;36m<cell line: 5>\u001b[1;34m()\u001b[0m\n\u001b[0;32m      2\u001b[0m a\u001b[38;5;241m=\u001b[39m \u001b[38;5;28mint\u001b[39m(\u001b[38;5;28minput\u001b[39m(\u001b[38;5;124m\"\u001b[39m\u001b[38;5;124mEnter the Number:\u001b[39m\u001b[38;5;124m\"\u001b[39m))\n\u001b[0;32m      3\u001b[0m b \u001b[38;5;241m=\u001b[39m \u001b[38;5;28mint\u001b[39m(\u001b[38;5;28minput\u001b[39m(\u001b[38;5;124m\"\u001b[39m\u001b[38;5;124mEnter the Number:\u001b[39m\u001b[38;5;124m\"\u001b[39m))\n\u001b[1;32m----> 5\u001b[0m \u001b[43ma\u001b[49m\u001b[38;5;241;43m/\u001b[39;49m\u001b[43mb\u001b[49m\n",
      "\u001b[1;31mZeroDivisionError\u001b[0m: division by zero"
     ]
    }
   ],
   "source": [
    "# Runtime error\n",
    "a= int(input(\"Enter the Number:\"))\n",
    "b = int(input(\"Enter the Number:\"))\n",
    "\n",
    "a/b"
   ]
  },
  {
   "cell_type": "markdown",
   "id": "44ed9bb3",
   "metadata": {},
   "source": [
    "####  \"Try and Except\"\n",
    "To Handle the runtime error we use the \"Try and Except\""
   ]
  },
  {
   "cell_type": "raw",
   "id": "c7549394",
   "metadata": {},
   "source": [
    "try:\n",
    "    you do your operation here...\n",
    "    ...\n",
    "except Exception 1:\n",
    "    If there is a Exception 1, Then execute this block.\n",
    "    ...\n",
    "except Exception 2:\n",
    "    If there is a Exception 2, Then execure this block.\n",
    "    ...\n",
    "else:\n",
    "    If there is no Exception, then execute this block.\n"
   ]
  },
  {
   "cell_type": "code",
   "execution_count": 28,
   "id": "0abde978",
   "metadata": {},
   "outputs": [
    {
     "name": "stdout",
     "output_type": "stream",
     "text": [
      "Content written Successfully\n"
     ]
    }
   ],
   "source": [
    "# Example \n",
    "try:\n",
    "    f = open('testfile.txt','w+')\n",
    "    f.write('Testing writing the file')\n",
    "except IOError:\n",
    "    # THis will only check for an IOError exception and then execute this print statement\n",
    "    print('Error: could not find the file or read data')\n",
    "else:\n",
    "    print('Content written Successfully')\n",
    "    f.close()"
   ]
  },
  {
   "cell_type": "code",
   "execution_count": 29,
   "id": "7191fb25",
   "metadata": {},
   "outputs": [
    {
     "ename": "UnsupportedOperation",
     "evalue": "not writable",
     "output_type": "error",
     "traceback": [
      "\u001b[1;31m---------------------------------------------------------------------------\u001b[0m",
      "\u001b[1;31mUnsupportedOperation\u001b[0m                      Traceback (most recent call last)",
      "Input \u001b[1;32mIn [29]\u001b[0m, in \u001b[0;36m<cell line: 3>\u001b[1;34m()\u001b[0m\n\u001b[0;32m      1\u001b[0m \u001b[38;5;66;03m# If we don't have the write permission\u001b[39;00m\n\u001b[0;32m      2\u001b[0m f \u001b[38;5;241m=\u001b[39m \u001b[38;5;28mopen\u001b[39m(\u001b[38;5;124m'\u001b[39m\u001b[38;5;124mtestfile.txt\u001b[39m\u001b[38;5;124m'\u001b[39m,\u001b[38;5;124m'\u001b[39m\u001b[38;5;124mr\u001b[39m\u001b[38;5;124m'\u001b[39m)\n\u001b[1;32m----> 3\u001b[0m \u001b[43mf\u001b[49m\u001b[38;5;241;43m.\u001b[39;49m\u001b[43mwrite\u001b[49m\u001b[43m(\u001b[49m\u001b[38;5;124;43m\"\u001b[39;49m\u001b[38;5;124;43mTest write this\u001b[39;49m\u001b[38;5;124;43m\"\u001b[39;49m\u001b[43m)\u001b[49m\n\u001b[0;32m      4\u001b[0m \u001b[38;5;28mprint\u001b[39m(\u001b[38;5;124m\"\u001b[39m\u001b[38;5;124mWorked fine\u001b[39m\u001b[38;5;124m\"\u001b[39m)\n",
      "\u001b[1;31mUnsupportedOperation\u001b[0m: not writable"
     ]
    }
   ],
   "source": [
    "# If we don't have the write permission\n",
    "f = open('testfile.txt','r')\n",
    "f.write(\"Test write this\")\n",
    "print(\"Worked fine\")"
   ]
  },
  {
   "cell_type": "code",
   "execution_count": 30,
   "id": "859b5ffc",
   "metadata": {},
   "outputs": [
    {
     "ename": "FileNotFoundError",
     "evalue": "[Errno 2] No such file or directory: 'testfile2'",
     "output_type": "error",
     "traceback": [
      "\u001b[1;31m---------------------------------------------------------------------------\u001b[0m",
      "\u001b[1;31mFileNotFoundError\u001b[0m                         Traceback (most recent call last)",
      "Input \u001b[1;32mIn [30]\u001b[0m, in \u001b[0;36m<cell line: 1>\u001b[1;34m()\u001b[0m\n\u001b[1;32m----> 1\u001b[0m f \u001b[38;5;241m=\u001b[39m \u001b[38;5;28;43mopen\u001b[39;49m\u001b[43m(\u001b[49m\u001b[38;5;124;43m'\u001b[39;49m\u001b[38;5;124;43mtestfile2\u001b[39;49m\u001b[38;5;124;43m'\u001b[39;49m\u001b[43m)\u001b[49m\n\u001b[0;32m      2\u001b[0m f\u001b[38;5;241m.\u001b[39mread()\n",
      "\u001b[1;31mFileNotFoundError\u001b[0m: [Errno 2] No such file or directory: 'testfile2'"
     ]
    }
   ],
   "source": [
    "f = open('testfile2')\n",
    "f.read()"
   ]
  },
  {
   "cell_type": "code",
   "execution_count": 31,
   "id": "e47b9d6d",
   "metadata": {},
   "outputs": [
    {
     "name": "stdout",
     "output_type": "stream",
     "text": [
      "Please check your file path\n",
      "[Errno 2] No such file or directory: 'testfile2'\n"
     ]
    }
   ],
   "source": [
    "try:\n",
    "    f = open('testfile2')\n",
    "    f.read()\n",
    "except FileNotFoundError as fn:\n",
    "    print(\"Please check your file path\")\n",
    "    print(fn)\n",
    "except IOError as io:\n",
    "    print(\"Inside the IO Error Block\")\n",
    "    print(io)"
   ]
  },
  {
   "cell_type": "code",
   "execution_count": 35,
   "id": "32e745f0",
   "metadata": {},
   "outputs": [
    {
     "name": "stdout",
     "output_type": "stream",
     "text": [
      "Inside the IO Error Block\n",
      "not writable\n"
     ]
    }
   ],
   "source": [
    "try:\n",
    "    f = open('testfile.txt')\n",
    "    f.write(\"Trying to write to the file\")\n",
    "except FileNotFoundError as fn:\n",
    "    print(\"Please check your file path\")\n",
    "    print(fn)\n",
    "except IOError as io:\n",
    "    print(\"Inside the IO Error Block\")\n",
    "    print(io)"
   ]
  },
  {
   "cell_type": "code",
   "execution_count": 37,
   "id": "e4d314dc",
   "metadata": {},
   "outputs": [
    {
     "name": "stdout",
     "output_type": "stream",
     "text": [
      "Inside the IO Error Block\n"
     ]
    }
   ],
   "source": [
    "try:\n",
    "    f = open('testfile.txt')\n",
    "    f.write(\"Trying to write to the file\")\n",
    "except: # Any exception the crusor will come to this block by default\n",
    "    print(\"Inside the IO Error Block\")"
   ]
  },
  {
   "cell_type": "markdown",
   "id": "322a0b83",
   "metadata": {},
   "source": [
    "### Finally Block\n",
    "\n",
    "This block code is always gets executed wheather try or except block gets executed."
   ]
  },
  {
   "cell_type": "code",
   "execution_count": 44,
   "id": "ffb56dae",
   "metadata": {},
   "outputs": [
    {
     "name": "stdout",
     "output_type": "stream",
     "text": [
      "File Opened\n",
      "Operation on the file is not allowed : not writable\n",
      "This block will always get executed\n",
      "File Closed, As it is Opened\n"
     ]
    }
   ],
   "source": [
    "try:\n",
    "    f = open('testfile.txt')\n",
    "    print('File Opened')\n",
    "    f.write('Trying to write')\n",
    "except FileNotFoundError as fn:\n",
    "    print(\"Check your file path: \")\n",
    "    print(fn)\n",
    "except IOError as io:\n",
    "    print(\"Operation on the file is not allowed :\",io)\n",
    "finally:\n",
    "    print(\"This block will always get executed\")\n",
    "    f.close()\n",
    "    print('File Closed, As it is Opened')"
   ]
  },
  {
   "cell_type": "code",
   "execution_count": 39,
   "id": "575f9052",
   "metadata": {},
   "outputs": [],
   "source": [
    "# Combination Possible\n",
    "# 1.  try & except\n",
    "# 2. try, except,except (Multiple Except)\n",
    "# 3. try, except and else \n",
    "# 4. try, except and finally\n",
    "# 5. try & finally\n",
    "# 6. try ,except,else and finally -- THis should be the order & Finally should be last block in order."
   ]
  },
  {
   "cell_type": "code",
   "execution_count": 54,
   "id": "04cacc21",
   "metadata": {},
   "outputs": [],
   "source": [
    "def askint():\n",
    "    try:\n",
    "        val= int(input(\"Enter the Integer Number:\"))\n",
    "    except:\n",
    "        print(\"Looks like you didn't enter the Integer value\")\n",
    "    else:\n",
    "        print(\"Else block is executed\")\n",
    "        print(val)\n",
    "    finally:\n",
    "        print(\"Finally, I executed\")   "
   ]
  },
  {
   "cell_type": "code",
   "execution_count": 55,
   "id": "97777ebb",
   "metadata": {},
   "outputs": [
    {
     "name": "stdout",
     "output_type": "stream",
     "text": [
      "Enter the Integer Number:100\n",
      "Else block is executed\n",
      "100\n",
      "Finally, I executed\n"
     ]
    }
   ],
   "source": [
    "askint()"
   ]
  },
  {
   "cell_type": "code",
   "execution_count": 5,
   "id": "04cae5f3",
   "metadata": {},
   "outputs": [],
   "source": [
    "# Keep asking the integer value until you get the Integer value.\n",
    "def keepaskint():\n",
    "    while True:\n",
    "        try:\n",
    "            val= int(input(\"Enter the Integer Number:\"))\n",
    "        except:\n",
    "            print(\"Looks like you didn't enter the Integer value\")\n",
    "        else:\n",
    "            print(\"Yep Thats a Integer:\",val)\n",
    "            break\n",
    "        finally:\n",
    "            print(\"Finally, I executed\")   \n",
    "            "
   ]
  },
  {
   "cell_type": "code",
   "execution_count": 6,
   "id": "591cd50b",
   "metadata": {},
   "outputs": [
    {
     "name": "stdout",
     "output_type": "stream",
     "text": [
      "Enter the Integer Number:hjkh\n",
      "Looks like you didn't enter the Integer value\n",
      "Finally, I executed\n",
      "Enter the Integer Number:klkjdf\n",
      "Looks like you didn't enter the Integer value\n",
      "Finally, I executed\n",
      "Enter the Integer Number:100\n",
      "Yep Thats a Integer: 100\n",
      "Finally, I executed\n"
     ]
    }
   ],
   "source": [
    "keepaskint()"
   ]
  },
  {
   "cell_type": "markdown",
   "id": "2ef84a5b",
   "metadata": {},
   "source": [
    "##### Database Connectivity and Operations using Python.\n",
    "For Example, the following is the example of connecting with MySQL database \"my_database1\" and creating table grades1 and inserting values inside it."
   ]
  },
  {
   "cell_type": "code",
   "execution_count": 7,
   "id": "b056ff4a",
   "metadata": {},
   "outputs": [
    {
     "data": {
      "text/plain": [
       "<sqlite3.Cursor at 0x215d6ae2340>"
      ]
     },
     "execution_count": 7,
     "metadata": {},
     "output_type": "execute_result"
    }
   ],
   "source": [
    "#!/usr/bin/python\n",
    "\n",
    "import sqlite3\n",
    "#connecting with the database.\n",
    "db = sqlite3.connect(\"my_database3.db\")\n",
    "# Drop table if it already exist using execute() method.\n",
    "db.execute(\"drop table if exists grades1\")\n",
    "# Create table as per requirement\n",
    "db.execute(\"create table grades1(id int, name text, score int)\")\n",
    "#inserting values inside the created table\n",
    "db.execute(\"insert into grades1(id, name, score) values(101, 'John',99 )\")\n",
    "db.execute(\"insert into grades1(id, name, score) values(102, 'Gary',90 )\")\n",
    "db.execute(\"insert into grades1(id, name, score) values(103, 'James', 80 )\")\n",
    "db.execute(\"insert into grades1(id, name, score) values(104, 'Cathy', 85 )\")\n",
    "db.execute(\"insert into grades1(id, name, score) values(105, 'Kris',95 )\")"
   ]
  },
  {
   "cell_type": "code",
   "execution_count": 8,
   "id": "08e069c1",
   "metadata": {},
   "outputs": [],
   "source": [
    "db.commit()"
   ]
  },
  {
   "cell_type": "code",
   "execution_count": 9,
   "id": "a1839e05",
   "metadata": {},
   "outputs": [
    {
     "name": "stdout",
     "output_type": "stream",
     "text": [
      "(101, 'John', 99)\n",
      "(102, 'Gary', 90)\n",
      "(103, 'James', 80)\n",
      "(104, 'Cathy', 85)\n",
      "(105, 'Kris', 95)\n",
      "------------------------------------------------------------\n"
     ]
    }
   ],
   "source": [
    "results = db.execute(\"select * from grades1 order by id\")\n",
    "for row in results:\n",
    "    print(row)\n",
    "print(\"-\" * 60 )"
   ]
  },
  {
   "cell_type": "code",
   "execution_count": 10,
   "id": "d5d58383",
   "metadata": {},
   "outputs": [
    {
     "name": "stdout",
     "output_type": "stream",
     "text": [
      "(102, 'Gary', 90)\n",
      "------------------------------------------------------------\n"
     ]
    }
   ],
   "source": [
    "results = db.execute(\"select * from grades1 where name = 'Gary' \")\n",
    "for row in results: \n",
    "    print(row)\n",
    "print(\"-\" * 60 )"
   ]
  },
  {
   "cell_type": "code",
   "execution_count": 11,
   "id": "f703d15d",
   "metadata": {},
   "outputs": [
    {
     "name": "stdout",
     "output_type": "stream",
     "text": [
      "(101, 'John', 99)\n",
      "(102, 'Gary', 90)\n",
      "(105, 'Kris', 95)\n",
      "------------------------------------------------------------\n"
     ]
    }
   ],
   "source": [
    "results = db.execute(\"select * from grades1 where score >= 90 \")\n",
    "for row in results:\n",
    "    print(row)\n",
    "print(\"-\" * 60 )"
   ]
  },
  {
   "cell_type": "code",
   "execution_count": 12,
   "id": "01557f78",
   "metadata": {},
   "outputs": [
    {
     "name": "stdout",
     "output_type": "stream",
     "text": [
      "('John', 99)\n",
      "('Kris', 95)\n",
      "('Gary', 90)\n",
      "('Cathy', 85)\n",
      "('James', 80)\n",
      "------------------------------------------------------------\n"
     ]
    }
   ],
   "source": [
    "results = db.execute(\"select name, score from grades1 order by score desc \")\n",
    "for row in results:\n",
    "    print(row)\n",
    "print(\"-\" * 60 )"
   ]
  },
  {
   "cell_type": "code",
   "execution_count": 14,
   "id": "7712a693",
   "metadata": {},
   "outputs": [
    {
     "name": "stdout",
     "output_type": "stream",
     "text": [
      "('James', 80)\n",
      "('Cathy', 85)\n",
      "('Gary', 90)\n",
      "('Kris', 95)\n",
      "('John', 99)\n",
      "------------------------------------------------------------\n"
     ]
    }
   ],
   "source": [
    "results = db.execute(\"select name, score from grades1 order by score\")\n",
    "for row in results:\n",
    "    print(row)\n",
    "print(\"-\" * 60 )"
   ]
  },
  {
   "cell_type": "code",
   "execution_count": 15,
   "id": "79c141a7",
   "metadata": {},
   "outputs": [
    {
     "name": "stdout",
     "output_type": "stream",
     "text": [
      "('James', 80)\n",
      "('Cathy', 85)\n",
      "('Gary', 90)\n",
      "('Kris', 95)\n",
      "('John', 99)\n"
     ]
    }
   ],
   "source": [
    "results = db.execute(\"select name, score from grades1 order by score\")\n",
    "for row in results:\n",
    "    print(row)"
   ]
  },
  {
   "cell_type": "code",
   "execution_count": null,
   "id": "a19a8d2f",
   "metadata": {},
   "outputs": [],
   "source": [
    "s"
   ]
  }
 ],
 "metadata": {
  "kernelspec": {
   "display_name": "Python 3 (ipykernel)",
   "language": "python",
   "name": "python3"
  },
  "language_info": {
   "codemirror_mode": {
    "name": "ipython",
    "version": 3
   },
   "file_extension": ".py",
   "mimetype": "text/x-python",
   "name": "python",
   "nbconvert_exporter": "python",
   "pygments_lexer": "ipython3",
   "version": "3.9.12"
  }
 },
 "nbformat": 4,
 "nbformat_minor": 5
}
