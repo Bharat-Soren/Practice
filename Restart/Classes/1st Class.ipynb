{
 "cells": [
  {
   "cell_type": "markdown",
   "id": "1a754043",
   "metadata": {},
   "source": [
    "#### Python Basic"
   ]
  },
  {
   "cell_type": "code",
   "execution_count": 15,
   "id": "757628ee",
   "metadata": {},
   "outputs": [
    {
     "data": {
      "text/plain": [
       "3"
      ]
     },
     "execution_count": 15,
     "metadata": {},
     "output_type": "execute_result"
    }
   ],
   "source": [
    "1+2"
   ]
  },
  {
   "cell_type": "code",
   "execution_count": 17,
   "id": "8c11f66b",
   "metadata": {},
   "outputs": [
    {
     "data": {
      "text/plain": [
       "0"
      ]
     },
     "execution_count": 17,
     "metadata": {},
     "output_type": "execute_result"
    }
   ],
   "source": [
    "4%2 #It is the reminver value "
   ]
  },
  {
   "cell_type": "code",
   "execution_count": 18,
   "id": "5c399212",
   "metadata": {},
   "outputs": [
    {
     "data": {
      "text/plain": [
       "2.0"
      ]
     },
     "execution_count": 18,
     "metadata": {},
     "output_type": "execute_result"
    }
   ],
   "source": [
    "4/2 # quotient Value"
   ]
  },
  {
   "cell_type": "code",
   "execution_count": 20,
   "id": "d53de07b",
   "metadata": {},
   "outputs": [
    {
     "data": {
      "text/plain": [
       "2"
      ]
     },
     "execution_count": 20,
     "metadata": {},
     "output_type": "execute_result"
    }
   ],
   "source": [
    "5//2 # It is going to give the whole number and not going to consider the decimal number"
   ]
  },
  {
   "cell_type": "code",
   "execution_count": 21,
   "id": "8e299057",
   "metadata": {},
   "outputs": [
    {
     "data": {
      "text/plain": [
       "2.5"
      ]
     },
     "execution_count": 21,
     "metadata": {},
     "output_type": "execute_result"
    }
   ],
   "source": [
    "5/2 # Basic Operations"
   ]
  },
  {
   "cell_type": "code",
   "execution_count": 22,
   "id": "38991fb0",
   "metadata": {},
   "outputs": [
    {
     "data": {
      "text/plain": [
       "17"
      ]
     },
     "execution_count": 22,
     "metadata": {},
     "output_type": "execute_result"
    }
   ],
   "source": [
    "2+3*5   #BODMAS-- Bracket, off, Division, Multiplication, Addition, Substraction"
   ]
  },
  {
   "cell_type": "code",
   "execution_count": 23,
   "id": "5473dd28",
   "metadata": {},
   "outputs": [
    {
     "data": {
      "text/plain": [
       "25"
      ]
     },
     "execution_count": 23,
     "metadata": {},
     "output_type": "execute_result"
    }
   ],
   "source": [
    "(2+3)*5"
   ]
  },
  {
   "cell_type": "code",
   "execution_count": 24,
   "id": "cfa56a43",
   "metadata": {},
   "outputs": [
    {
     "data": {
      "text/plain": [
       "int"
      ]
     },
     "execution_count": 24,
     "metadata": {},
     "output_type": "execute_result"
    }
   ],
   "source": [
    "type(5)"
   ]
  },
  {
   "cell_type": "code",
   "execution_count": 25,
   "id": "efca85a1",
   "metadata": {},
   "outputs": [
    {
     "data": {
      "text/plain": [
       "str"
      ]
     },
     "execution_count": 25,
     "metadata": {},
     "output_type": "execute_result"
    }
   ],
   "source": [
    "type(\"Bharat\")"
   ]
  },
  {
   "cell_type": "code",
   "execution_count": 26,
   "id": "e6e2609d",
   "metadata": {},
   "outputs": [
    {
     "data": {
      "text/plain": [
       "bool"
      ]
     },
     "execution_count": 26,
     "metadata": {},
     "output_type": "execute_result"
    }
   ],
   "source": [
    "## Boolian Operations\n",
    "type(True)"
   ]
  },
  {
   "cell_type": "code",
   "execution_count": 27,
   "id": "bfcbae79",
   "metadata": {},
   "outputs": [],
   "source": [
    "## What is the difference between the \"OR\" and \"|\" Operation\n",
    "\n",
    "# \"OR\" is the Logical Operator\n",
    "# \"|\" is the Bitwise Operator"
   ]
  },
  {
   "cell_type": "code",
   "execution_count": 29,
   "id": "8731eb76",
   "metadata": {},
   "outputs": [
    {
     "data": {
      "text/plain": [
       "'Bharat is good Boy'"
      ]
     },
     "execution_count": 29,
     "metadata": {},
     "output_type": "execute_result"
    }
   ],
   "source": [
    "### Strings\n",
    "# Double and single qoute is having the same meaning.\n",
    "# Never use the Reserver keyward as a variable because it will overrite the reserver key word functionality\n",
    "\n",
    "str1=\"Bharat is good Boy\"\n",
    "str1"
   ]
  },
  {
   "cell_type": "code",
   "execution_count": 31,
   "id": "11540623",
   "metadata": {},
   "outputs": [
    {
     "data": {
      "text/plain": [
       "'1'"
      ]
     },
     "execution_count": 31,
     "metadata": {},
     "output_type": "execute_result"
    }
   ],
   "source": [
    "str(1) # To view the inbuild function definition details use the \"Shift key\" and \"TAB key\""
   ]
  },
  {
   "cell_type": "code",
   "execution_count": 32,
   "id": "8f7025ab",
   "metadata": {},
   "outputs": [],
   "source": [
    "# To view the output in the console use the \"Print\" function. It will always provide the output type as string"
   ]
  },
  {
   "cell_type": "code",
   "execution_count": 33,
   "id": "02a3f13e",
   "metadata": {},
   "outputs": [],
   "source": [
    "str1=\"A good Boy\"\n",
    "str2=\"A bad Boy\""
   ]
  },
  {
   "cell_type": "code",
   "execution_count": 34,
   "id": "c6cba030",
   "metadata": {},
   "outputs": [
    {
     "name": "stdout",
     "output_type": "stream",
     "text": [
      "A good Boy\n",
      "A bad Boy\n"
     ]
    }
   ],
   "source": [
    "print(str1)\n",
    "print(str2)"
   ]
  },
  {
   "cell_type": "code",
   "execution_count": 38,
   "id": "f9a56ec4",
   "metadata": {},
   "outputs": [
    {
     "data": {
      "text/plain": [
       "'A good Boy A bad Boy'"
      ]
     },
     "execution_count": 38,
     "metadata": {},
     "output_type": "execute_result"
    }
   ],
   "source": [
    "str1+\" \"+str2"
   ]
  },
  {
   "cell_type": "code",
   "execution_count": 40,
   "id": "9c3f1403",
   "metadata": {},
   "outputs": [
    {
     "name": "stdout",
     "output_type": "stream",
     "text": [
      "Enter your Name: Bharat\n",
      "Hello Bharat\n"
     ]
    }
   ],
   "source": [
    "# Provide the input at the runtime .\n",
    "name = input(\"Enter your Name: \")\n",
    "print(\"Hello \"+name)"
   ]
  },
  {
   "cell_type": "code",
   "execution_count": 45,
   "id": "06720f6b",
   "metadata": {},
   "outputs": [
    {
     "name": "stdout",
     "output_type": "stream",
     "text": [
      "Enter a 1st Number :12\n",
      "Enter a 2nd Number :23\n",
      "The output is: 35.0\n"
     ]
    }
   ],
   "source": [
    "## Add two numbers\n",
    "a = float(input(\"Enter a 1st Number :\"))\n",
    "b = float(input(\"Enter a 2nd Number :\"))\n",
    "c = a+b\n",
    "print(\"The output is:\",c)"
   ]
  },
  {
   "cell_type": "code",
   "execution_count": 1,
   "id": "3de3da14",
   "metadata": {},
   "outputs": [
    {
     "name": "stdout",
     "output_type": "stream",
     "text": [
      "Enter your first nameBharat\n",
      "Enter your last nameSoren\n",
      "Welcome Bharat Soren\n",
      "My first name is: Bharat, My last name is: Soren\n",
      "My first name is: Bharat, My last name is: Soren\n"
     ]
    }
   ],
   "source": [
    "### String Formating\n",
    "first_name=input(\"Enter your first name\")\n",
    "last_name=input(\"Enter your last name\")\n",
    "print(\"Welcome\",first_name,last_name)\n",
    "print(\"My first name is: {}, My last name is: {}\".format(first_name,last_name))\n",
    "\n",
    "print(\"My first name is: {firstname}, My last name is: {lastname}\".format(lastname=last_name,firstname=first_name))\n",
    "#If we use the variable in the placeholder then we can change the order of the data inside the format.\n",
    "\n"
   ]
  },
  {
   "cell_type": "markdown",
   "id": "2a29115c",
   "metadata": {},
   "source": [
    "### Variable Dynamic Typing "
   ]
  },
  {
   "cell_type": "markdown",
   "id": "8f932e01",
   "metadata": {},
   "source": [
    " The python compiler automaticall know the type of the variable when value is assigned to the variable. \n",
    " We don't have to mentions the type explicitly. This is called as **\"Dynamic Typing in the Python\"**"
   ]
  },
  {
   "cell_type": "code",
   "execution_count": 2,
   "id": "22954aed",
   "metadata": {},
   "outputs": [
    {
     "data": {
      "text/plain": [
       "int"
      ]
     },
     "execution_count": 2,
     "metadata": {},
     "output_type": "execute_result"
    }
   ],
   "source": [
    "a= 10\n",
    "type(a)"
   ]
  },
  {
   "cell_type": "code",
   "execution_count": 3,
   "id": "74528d76",
   "metadata": {},
   "outputs": [
    {
     "data": {
      "text/plain": [
       "float"
      ]
     },
     "execution_count": 3,
     "metadata": {},
     "output_type": "execute_result"
    }
   ],
   "source": [
    "a=10.0\n",
    "type(a)"
   ]
  },
  {
   "cell_type": "markdown",
   "id": "b261b842",
   "metadata": {},
   "source": [
    "## Strong Typing"
   ]
  },
  {
   "cell_type": "markdown",
   "id": "890952b4",
   "metadata": {},
   "source": [
    "Strong typing is a process of force fully changing the type of the ***Value**. Then it is called as the strong typing.\n",
    "e.g In below example it is showing the error because both the values are not in the same **data type**. So we need to convert the **Integer value** to the **\"String\"** so that we can perform the concatenation operation."
   ]
  },
  {
   "cell_type": "code",
   "execution_count": 5,
   "id": "b78f55ac",
   "metadata": {},
   "outputs": [
    {
     "ename": "TypeError",
     "evalue": "can only concatenate str (not \"int\") to str",
     "output_type": "error",
     "traceback": [
      "\u001b[1;31m---------------------------------------------------------------------------\u001b[0m",
      "\u001b[1;31mTypeError\u001b[0m                                 Traceback (most recent call last)",
      "Input \u001b[1;32mIn [5]\u001b[0m, in \u001b[0;36m<cell line: 1>\u001b[1;34m()\u001b[0m\n\u001b[1;32m----> 1\u001b[0m \u001b[38;5;124;43m\"\u001b[39;49m\u001b[38;5;124;43mBharat\u001b[39;49m\u001b[38;5;124;43m\"\u001b[39;49m\u001b[43m \u001b[49m\u001b[38;5;241;43m+\u001b[39;49m\u001b[43m \u001b[49m\u001b[38;5;241;43m1\u001b[39;49m\n",
      "\u001b[1;31mTypeError\u001b[0m: can only concatenate str (not \"int\") to str"
     ]
    }
   ],
   "source": [
    "\"Bharat\" + 1"
   ]
  },
  {
   "cell_type": "code",
   "execution_count": 9,
   "id": "5d992008",
   "metadata": {},
   "outputs": [
    {
     "data": {
      "text/plain": [
       "'Bharat 1'"
      ]
     },
     "execution_count": 9,
     "metadata": {},
     "output_type": "execute_result"
    }
   ],
   "source": [
    "\"Bharat \" + str(1)"
   ]
  },
  {
   "cell_type": "code",
   "execution_count": 10,
   "id": "c85384ce",
   "metadata": {},
   "outputs": [
    {
     "data": {
      "text/plain": [
       "3"
      ]
     },
     "execution_count": 10,
     "metadata": {},
     "output_type": "execute_result"
    }
   ],
   "source": [
    "1 + int(\"2\")"
   ]
  },
  {
   "cell_type": "markdown",
   "id": "ca2d89c9",
   "metadata": {},
   "source": [
    "### Conditional Statements\n"
   ]
  },
  {
   "cell_type": "code",
   "execution_count": 18,
   "id": "5d3e2f40",
   "metadata": {},
   "outputs": [
    {
     "name": "stdout",
     "output_type": "stream",
     "text": [
      "Enter the Number 1: 10\n",
      "Enter the Number 2: 10\n",
      "10.0 is equal to 10.0\n"
     ]
    }
   ],
   "source": [
    "## If and elif\n",
    "a=float(input(\"Enter the Number 1: \"))\n",
    "b=float(input(\"Enter the Number 2: \"))\n",
    "c = a - b\n",
    "if c < 0:\n",
    "    print(\"{a_} is smaller than the {b_}\".format(a_=a,b_=b))\n",
    "elif c==0:\n",
    "    print(\"{a_} is equal to {b_}\".format(a_=a,b_=b))\n",
    "else:\n",
    "    print(\"{a_} is bigger than the {b_}\".format(a_=a,b_=b))"
   ]
  },
  {
   "cell_type": "markdown",
   "id": "fbb9462b",
   "metadata": {},
   "source": [
    "### Data Structures\n",
    "1. List\n",
    "2. Tuples\n",
    "3. String\n",
    "4. Dictionary\n",
    "5. Set"
   ]
  },
  {
   "cell_type": "code",
   "execution_count": 30,
   "id": "07440fca",
   "metadata": {},
   "outputs": [
    {
     "data": {
      "text/plain": [
       "[1, 2, 3, 'Bharat', 'Soren']"
      ]
     },
     "execution_count": 30,
     "metadata": {},
     "output_type": "execute_result"
    }
   ],
   "source": [
    "## List\n",
    "## It is a collection of  of homogeneous, heterogeneous elements\n",
    "\n",
    "lst=[1,2,3,'Bharat','Soren']\n",
    "lst"
   ]
  },
  {
   "cell_type": "code",
   "execution_count": 25,
   "id": "94d60016",
   "metadata": {},
   "outputs": [
    {
     "data": {
      "text/plain": [
       "'Bharat'"
      ]
     },
     "execution_count": 25,
     "metadata": {},
     "output_type": "execute_result"
    }
   ],
   "source": [
    "lst[3]\n",
    "# Another way to define the list is \"Using the List()\" function.\n",
    "# list((1,2,3,'BHarat','Soren'))"
   ]
  },
  {
   "cell_type": "code",
   "execution_count": 26,
   "id": "345dacc7",
   "metadata": {},
   "outputs": [
    {
     "name": "stdout",
     "output_type": "stream",
     "text": [
      "<class 'str'>\n",
      "<class 'int'>\n"
     ]
    }
   ],
   "source": [
    "print(type(lst[3]))\n",
    "print(type(lst[0]))"
   ]
  },
  {
   "cell_type": "code",
   "execution_count": 27,
   "id": "8d64cb4a",
   "metadata": {},
   "outputs": [
    {
     "data": {
      "text/plain": [
       "[1, 2, 3, 'BHarat', 'Soren']"
      ]
     },
     "execution_count": 27,
     "metadata": {},
     "output_type": "execute_result"
    }
   ],
   "source": [
    "list((1,2,3,'BHarat','Soren'))"
   ]
  },
  {
   "cell_type": "code",
   "execution_count": 31,
   "id": "9d11cc74",
   "metadata": {},
   "outputs": [
    {
     "data": {
      "text/plain": [
       "[1, 2, 3, 'Bharat', 'Soren']"
      ]
     },
     "execution_count": 31,
     "metadata": {},
     "output_type": "execute_result"
    }
   ],
   "source": [
    "lst"
   ]
  },
  {
   "cell_type": "code",
   "execution_count": 32,
   "id": "572087a4",
   "metadata": {},
   "outputs": [],
   "source": [
    "lst.append(\"Home\")"
   ]
  },
  {
   "cell_type": "code",
   "execution_count": 33,
   "id": "3cb0c4e4",
   "metadata": {},
   "outputs": [
    {
     "data": {
      "text/plain": [
       "[1, 2, 3, 'Bharat', 'Soren', 'Home']"
      ]
     },
     "execution_count": 33,
     "metadata": {},
     "output_type": "execute_result"
    }
   ],
   "source": [
    "lst"
   ]
  },
  {
   "cell_type": "code",
   "execution_count": 38,
   "id": "2ec2eebe",
   "metadata": {},
   "outputs": [],
   "source": [
    "# replace the \"3\" with \"Some\"\n",
    "lst[2]='Data Science'"
   ]
  },
  {
   "cell_type": "code",
   "execution_count": 39,
   "id": "680965d1",
   "metadata": {},
   "outputs": [
    {
     "data": {
      "text/plain": [
       "[1, 2, 'Data Science', 'Bharat', 'Soren', 'Home']"
      ]
     },
     "execution_count": 39,
     "metadata": {},
     "output_type": "execute_result"
    }
   ],
   "source": [
    "lst"
   ]
  },
  {
   "cell_type": "code",
   "execution_count": 40,
   "id": "e84d8f2b",
   "metadata": {},
   "outputs": [
    {
     "data": {
      "text/plain": [
       "[1, 2, 'Data Science', 'Bharat', 'Soren', 'Home', 'Bharat', 'Bharat']"
      ]
     },
     "execution_count": 40,
     "metadata": {},
     "output_type": "execute_result"
    }
   ],
   "source": [
    "lst.append(\"Bharat\")\n",
    "lst.append(\"Bharat\")\n",
    "lst"
   ]
  },
  {
   "cell_type": "code",
   "execution_count": 41,
   "id": "3ca72ac1",
   "metadata": {},
   "outputs": [
    {
     "data": {
      "text/plain": [
       "3"
      ]
     },
     "execution_count": 41,
     "metadata": {},
     "output_type": "execute_result"
    }
   ],
   "source": [
    "lst.count('Bharat')"
   ]
  },
  {
   "cell_type": "code",
   "execution_count": 42,
   "id": "85841f1c",
   "metadata": {},
   "outputs": [
    {
     "data": {
      "text/plain": [
       "0"
      ]
     },
     "execution_count": 42,
     "metadata": {},
     "output_type": "execute_result"
    }
   ],
   "source": [
    "lst.count('Bh')"
   ]
  },
  {
   "cell_type": "markdown",
   "id": "e9869872",
   "metadata": {},
   "source": [
    "### Indexing "
   ]
  },
  {
   "cell_type": "code",
   "execution_count": 43,
   "id": "adfa5e48",
   "metadata": {},
   "outputs": [
    {
     "data": {
      "text/plain": [
       "'r'"
      ]
     },
     "execution_count": 43,
     "metadata": {},
     "output_type": "execute_result"
    }
   ],
   "source": [
    "str1='Bharat' # String is \"Immutable\"\n",
    "str1[3]"
   ]
  },
  {
   "cell_type": "code",
   "execution_count": 45,
   "id": "552051ea",
   "metadata": {},
   "outputs": [
    {
     "ename": "TypeError",
     "evalue": "'str' object does not support item assignment",
     "output_type": "error",
     "traceback": [
      "\u001b[1;31m---------------------------------------------------------------------------\u001b[0m",
      "\u001b[1;31mTypeError\u001b[0m                                 Traceback (most recent call last)",
      "Input \u001b[1;32mIn [45]\u001b[0m, in \u001b[0;36m<cell line: 1>\u001b[1;34m()\u001b[0m\n\u001b[1;32m----> 1\u001b[0m str1[\u001b[38;5;241m3\u001b[39m]\u001b[38;5;241m=\u001b[39m\u001b[38;5;124m'\u001b[39m\u001b[38;5;124mi\u001b[39m\u001b[38;5;124m'\u001b[39m\n",
      "\u001b[1;31mTypeError\u001b[0m: 'str' object does not support item assignment"
     ]
    }
   ],
   "source": [
    "str1[3]='i' # String doesn't support the item assignment. \n",
    "# But you can replace whole string but you won't be able to replace the item of the string."
   ]
  },
  {
   "cell_type": "code",
   "execution_count": null,
   "id": "a2e76812",
   "metadata": {},
   "outputs": [],
   "source": []
  }
 ],
 "metadata": {
  "kernelspec": {
   "display_name": "Python 3 (ipykernel)",
   "language": "python",
   "name": "python3"
  },
  "language_info": {
   "codemirror_mode": {
    "name": "ipython",
    "version": 3
   },
   "file_extension": ".py",
   "mimetype": "text/x-python",
   "name": "python",
   "nbconvert_exporter": "python",
   "pygments_lexer": "ipython3",
   "version": "3.9.12"
  }
 },
 "nbformat": 4,
 "nbformat_minor": 5
}
