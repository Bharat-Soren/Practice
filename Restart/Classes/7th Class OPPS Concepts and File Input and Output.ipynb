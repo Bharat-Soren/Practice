{
 "cells": [
  {
   "cell_type": "code",
   "execution_count": null,
   "id": "a95dec48",
   "metadata": {},
   "outputs": [],
   "source": [
    "# Start with 19th December video\n",
    "# https://www.youtube.com/watch?v=GHOfkrAGfR8\n",
    "\n",
    "# For Future Reference of Watch the 13th Video\n",
    "# https://www.youtube.com/watch?v=X1tMQlfswXQ"
   ]
  }
 ],
 "metadata": {
  "kernelspec": {
   "display_name": "Python 3 (ipykernel)",
   "language": "python",
   "name": "python3"
  },
  "language_info": {
   "codemirror_mode": {
    "name": "ipython",
    "version": 3
   },
   "file_extension": ".py",
   "mimetype": "text/x-python",
   "name": "python",
   "nbconvert_exporter": "python",
   "pygments_lexer": "ipython3",
   "version": "3.9.12"
  }
 },
 "nbformat": 4,
 "nbformat_minor": 5
}
