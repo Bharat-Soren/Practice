{
 "cells": [
  {
   "cell_type": "code",
   "execution_count": 1,
   "id": "a95dec48",
   "metadata": {},
   "outputs": [],
   "source": [
    "# Start with 19th December video\n",
    "# https://www.youtube.com/watch?v=GHOfkrAGfR8\n",
    "\n",
    "# For Future Reference of Watch the 13th Video\n",
    "# https://www.youtube.com/watch?v=X1tMQlfswXQ"
   ]
  },
  {
   "cell_type": "markdown",
   "id": "ac434bb6",
   "metadata": {},
   "source": [
    "###### Encapsulation\n",
    "Encapsulation is the another powerful way to extend a class which consists on wrapping an object with a second one.\n",
    "There are two main reason to use the encapsulation.\n",
    "\n",
    "- Composition\n",
    "- Dynamic Extension\n",
    "\n"
   ]
  },
  {
   "cell_type": "markdown",
   "id": "dd5c172b",
   "metadata": {},
   "source": [
    "###### Composition"
   ]
  },
  {
   "cell_type": "code",
   "execution_count": 34,
   "id": "5afee0d6",
   "metadata": {},
   "outputs": [],
   "source": [
    "class Tyres:\n",
    "    def __init__(self, branch, belted_bias, opt_pressure):\n",
    "        self.branch=branch\n",
    "        self.belted_bias=belted_bias\n",
    "        self.opt_pressure=opt_pressure\n",
    "        \n",
    "    def __str__(self):\n",
    "        return (\"Tyre: \\n \\t \\t Branch:\"+self.branch+\n",
    "               \"\\n \\t \\t Belted-Bias:\"+str(self.belted_bias)+\n",
    "               \"\\n \\t \\t Optimal Pressure:\"+str(self.opt_pressure))\n",
    "\n",
    "class Engine:\n",
    "    def __init__(self,fuel_type,noise_level):\n",
    "        self.fuel_type=fuel_type\n",
    "        self.noise_level=noise_level\n",
    "        \n",
    "    def __str__(self):\n",
    "        return (\"Engine: \\n \\t \\t Fuel Type:\"+ self.fuel_type +\n",
    "               \"\\n \\t \\t Noise Level:\"+ str(self.noise_level))\n",
    "    \n",
    "class Body:\n",
    "    def __init__(self,size):\n",
    "        self.size = size\n",
    "        \n",
    "    def __str__(self):\n",
    "        return (\"Body: \\n \\t \\t Size:\"+self.size)\n",
    "    \n",
    "class Car:\n",
    "    def __init__(self,tyres,engine,body):\n",
    "        self.tyres=tyres\n",
    "        self.engine=engine\n",
    "        self.body=body\n",
    "        \n",
    "    def __str__(self):\n",
    "        return str(self.tyres) + \"\\n \" + str(self.engine) + \" \\n\" + str(self.body)"
   ]
  },
  {
   "cell_type": "code",
   "execution_count": 35,
   "id": "b0f0bef1",
   "metadata": {},
   "outputs": [],
   "source": [
    "t = Tyres('Pireli',True,2.0)\n",
    "e = Engine('Diesel',3)\n",
    "b = Body('Medium')\n",
    "c = Car(t,e,b)"
   ]
  },
  {
   "cell_type": "code",
   "execution_count": 36,
   "id": "59a90411",
   "metadata": {},
   "outputs": [
    {
     "name": "stdout",
     "output_type": "stream",
     "text": [
      "Tyre: \n",
      " \t \t Branch:Pireli\n",
      " \t \t Belted-Bias:True\n",
      " \t \t Optimal Pressure:2.0\n",
      " Engine: \n",
      " \t \t Fuel Type:Diesel\n",
      " \t \t Noise Level:3 \n",
      "Body: \n",
      " \t \t Size:Medium\n"
     ]
    }
   ],
   "source": [
    "print(c)"
   ]
  },
  {
   "cell_type": "markdown",
   "id": "4b2a7d27",
   "metadata": {},
   "source": [
    "###### Dynamic Extension\n",
    "Sometime it's necessary to model a concept that may be a subclass of another one, but it isn't possible to know which class should be it's superclass until runtime."
   ]
  },
  {
   "cell_type": "markdown",
   "id": "5021ea03",
   "metadata": {},
   "source": [
    "###### Example :\n",
    "Suppose we want to model a simple dog school that also trains instructors too. It will be nice to re-use the Person and Student but student can be dog or people. So we can remodel below way."
   ]
  },
  {
   "cell_type": "code",
   "execution_count": 37,
   "id": "9e203c55",
   "metadata": {},
   "outputs": [
    {
     "name": "stdout",
     "output_type": "stream",
     "text": [
      "kuderjavka is a Laika born in 1954.\n"
     ]
    }
   ],
   "source": [
    "class Dog:\n",
    "    def __init__(self,name,year_of_birth,bread):\n",
    "        self._name=name\n",
    "        self._year_of_birth=year_of_birth\n",
    "        self._bread=bread\n",
    "        \n",
    "    def __str__(self):\n",
    "        return \"%s is a %s born in %d.\"%(self._name,self._bread,self._year_of_birth)\n",
    "    \n",
    "kuderjavka = Dog(\"kuderjavka\",1954, \"Laika\")\n",
    "print(kuderjavka)"
   ]
  },
  {
   "cell_type": "code",
   "execution_count": 38,
   "id": "5f0b8f40",
   "metadata": {},
   "outputs": [],
   "source": [
    "class Student:\n",
    "    def __init__(self, anagraphic, student_id):\n",
    "        self._anagraphic=anagraphic\n",
    "        self._student_id =student_id\n",
    "        \n",
    "    def __str__(self):\n",
    "        return str(self._anagraphic) + \" Student ID: %d\" % self._student_id"
   ]
  },
  {
   "cell_type": "code",
   "execution_count": 40,
   "id": "4df6f0c6",
   "metadata": {},
   "outputs": [
    {
     "name": "stdout",
     "output_type": "stream",
     "text": [
      "Alec Student ID: 1\n",
      "kuderjavka is a Laika born in 1954. Student ID: 2\n"
     ]
    }
   ],
   "source": [
    "alec_student= Student(\"Alec\",1)\n",
    "kuderjavka_student = Student(kuderjavka,2)\n",
    "\n",
    "print(alec_student)\n",
    "print(kuderjavka_student)"
   ]
  },
  {
   "cell_type": "markdown",
   "id": "559cb968",
   "metadata": {},
   "source": [
    "##### What is the Ideal length of the class in a Programming\n",
    "\n",
    "There is an Object Oriented Programming(OOP) principle called Single Responsibility Principle(SRP). It States \"A class should have one single responsibility\" or \"A class should have only one reason to change\"\n",
    "\n",
    "If you come across a class which doesn't follow the SRP principle. You should split it. You will be greateful to SRP during your software maintance."
   ]
  },
  {
   "cell_type": "markdown",
   "id": "47574176",
   "metadata": {},
   "source": [
    "###### Task\n",
    "\n",
    "Create a Student class and inside the class values like name,surname,year_of_birth,the class student study, Also we need to implement the str function.\n",
    "\n",
    "Create a School class and it should inherite the student class . School name variable should be there in the school class.\n",
    "\n",
    "you  should to ask the user for there details and assign the details into the class.\n",
    "\n",
    "You will create a object of the School. Then your programm should ask the how many students you wanted to enter then it will take each student and create a object of the student.\n",
    "\n"
   ]
  },
  {
   "cell_type": "code",
   "execution_count": 10,
   "id": "6649e893",
   "metadata": {},
   "outputs": [
    {
     "name": "stdout",
     "output_type": "stream",
     "text": [
      "Enter the School Name:New School\n",
      "Enter the Number of Student's details you wanted to input:2\n",
      "Enter the 1 Student's First_name:Bharat\n",
      "Enter the 1 Student's Surname:Soren\n",
      "Enter the 1 Student's Year Of Birth:1990\n",
      "Enter the 2 Student's First_name:Sunil\n",
      "Enter the 2 Student's Surname:Soren\n",
      "Enter the 2 Student's Year Of Birth:1991\n",
      "Do you want to Enter more student's details ?(y/n)y\n",
      "Enter the School Name:New School\n",
      "Enter the Number of Student's details you wanted to input:1\n",
      "Enter the 3 Student's First_name:Beta\n",
      "Enter the 3 Student's Surname:Soren\n",
      "Enter the 3 Student's Year Of Birth:1993\n",
      "Do you want to Enter more student's details ?(y/n)n\n",
      "Ids\t \t School Name\t \t First_Name\t \t Last_Name\t \t Year Of Birth\n",
      "\n",
      "1\t \t New School\t \t Bharat\t \t Soren\t \t 1990\n",
      "2\t \t New School\t \t Sunil\t \t Soren\t \t 1991\n",
      "3\t \t New School\t \t Beta\t \t Soren\t \t 1993\n"
     ]
    }
   ],
   "source": [
    "class Student:\n",
    "    def __init__(self,first_name,surname,year_of_birth):\n",
    "        self.first_name=first_name\n",
    "        self.surname=surname\n",
    "        self.year_of_birth=year_of_birth\n",
    "        \n",
    "    def __str__(self):\n",
    "        return (self.first_name +\"\\t \\t \"+self.surname+\"\\t \\t \"+ str(self.year_of_birth))\n",
    "    \n",
    "class School(Student):\n",
    "    first_name=\"dsf\"\n",
    "    surname=\"\"\n",
    "    year_of_birth=0\n",
    "    def __init__(self,school_name,cnt):\n",
    "        self.school_name=school_name\n",
    "        self.cnt=cnt\n",
    "        first_name=input(\"Enter the %d Student's First_name:\"%self.cnt)\n",
    "        surname=input(\"Enter the %d Student's Surname:\"% self.cnt)\n",
    "        year_of_birth=int(input(\"Enter the %d Student's Year Of Birth:\"% self.cnt))\n",
    "\n",
    "        super(School,self).__init__(first_name,surname,year_of_birth)\n",
    "            \n",
    "            \n",
    "    def __str__(self):\n",
    "        return str(self.cnt) +\"\\t \\t \"+self.school_name +\"\\t \\t \"+ super(School,self).__str__()\n",
    "    \n",
    "stu_data=[]    \n",
    "\n",
    "def stu_data_input():\n",
    "    school_name=input(\"Enter the School Name:\")\n",
    "    no_of_students=int(input(\"Enter the Number of Student's details you wanted to input:\"))\n",
    "    \n",
    "    for i in range(no_of_students):\n",
    "        stu_data.append(School(school_name,len(stu_data)+1))\n",
    "        \n",
    "    ch=input(\"Do you want to Enter more student's details ?(y/n)\")\n",
    "    \n",
    "    if ch=='y':\n",
    "        stu_data_input()\n",
    "    else:\n",
    "        stu_date_show()\n",
    "        \n",
    "def stu_date_show():\n",
    "    print(\"Ids\\t \\t School Name\\t \\t First_Name\\t \\t Last_Name\\t \\t Year Of Birth\\n\")\n",
    "    \n",
    "    for i in stu_data:\n",
    "        print(i)\n",
    "        \n",
    "stu_data_input()"
   ]
  },
  {
   "cell_type": "markdown",
   "id": "af52789b",
   "metadata": {},
   "source": [
    "#### Files \n",
    "Python uses file objects to interact with the external files on your conputer. These file objects can be of any file format on your computer i.e. can be any audio file, a text file, emails, excel documents, etc. Note that You will probably need to install certrain libraries or modules to interact with those various file types, but they are easily available."
   ]
  },
  {
   "cell_type": "markdown",
   "id": "7233fdd3",
   "metadata": {},
   "source": [
    "###### IPython Write a File"
   ]
  },
  {
   "cell_type": "code",
   "execution_count": 13,
   "id": "9ea07f5d",
   "metadata": {},
   "outputs": [
    {
     "name": "stdout",
     "output_type": "stream",
     "text": [
      "Writing test.txt\n"
     ]
    }
   ],
   "source": [
    "%%writefile test.txt \n",
    "Hello, this is a quick test file."
   ]
  },
  {
   "cell_type": "code",
   "execution_count": 28,
   "id": "22ba7888",
   "metadata": {},
   "outputs": [],
   "source": [
    "# Syntax will contain the \"%%\" in start then\"writefile\" command\n",
    "#Also you will be able to provide the relative file path.i.e D:\\\\Data Science\\\\Practice\\\\Restart\\\\Classes\\\\test.txt"
   ]
  },
  {
   "cell_type": "code",
   "execution_count": 29,
   "id": "8398c576",
   "metadata": {},
   "outputs": [
    {
     "name": "stdout",
     "output_type": "stream",
     "text": [
      "Overwriting test.txt\n"
     ]
    }
   ],
   "source": [
    "%%writefile test.txt\n",
    "Hello, this is a quick test file."
   ]
  },
  {
   "cell_type": "code",
   "execution_count": 30,
   "id": "131930f7",
   "metadata": {},
   "outputs": [
    {
     "data": {
      "text/plain": [
       "'D:\\\\Data Science\\\\Practice\\\\Restart\\\\Classes'"
      ]
     },
     "execution_count": 30,
     "metadata": {},
     "output_type": "execute_result"
    }
   ],
   "source": [
    "pwd()"
   ]
  },
  {
   "cell_type": "markdown",
   "id": "8d409e64",
   "metadata": {},
   "source": [
    "### Python Opening a File\n",
    "We can open a file with a open() function. This function also takes in arguments(also parameters)."
   ]
  },
  {
   "cell_type": "code",
   "execution_count": 31,
   "id": "ca085dee",
   "metadata": {},
   "outputs": [],
   "source": [
    "# Open the text file\n",
    "my_file=open('test.txt')"
   ]
  },
  {
   "cell_type": "code",
   "execution_count": 32,
   "id": "dc5745e3",
   "metadata": {},
   "outputs": [
    {
     "data": {
      "text/plain": [
       "'Hello, this is a quick test file.\\n'"
      ]
     },
     "execution_count": 32,
     "metadata": {},
     "output_type": "execute_result"
    }
   ],
   "source": [
    "# Read the file.\n",
    "my_file.read()"
   ]
  },
  {
   "cell_type": "code",
   "execution_count": 34,
   "id": "2def99b0",
   "metadata": {},
   "outputs": [
    {
     "data": {
      "text/plain": [
       "''"
      ]
     },
     "execution_count": 34,
     "metadata": {},
     "output_type": "execute_result"
    }
   ],
   "source": [
    "# But what happens when we try to read again\n",
    "my_file.read() # The cursor is present in the end of the file so if we try to read again\n",
    "#  it won't show any details. As end of file there is nothing"
   ]
  },
  {
   "cell_type": "code",
   "execution_count": 43,
   "id": "97aacfa1",
   "metadata": {},
   "outputs": [
    {
     "data": {
      "text/plain": [
       "0"
      ]
     },
     "execution_count": 43,
     "metadata": {},
     "output_type": "execute_result"
    }
   ],
   "source": [
    "# Seek function to reset the cursor to the specified index location of the file(index(0))\n",
    "my_file.seek(0)"
   ]
  },
  {
   "cell_type": "code",
   "execution_count": 40,
   "id": "59801b52",
   "metadata": {},
   "outputs": [
    {
     "data": {
      "text/plain": [
       "'Hello, this is a quick test file.\\n'"
      ]
     },
     "execution_count": 40,
     "metadata": {},
     "output_type": "execute_result"
    }
   ],
   "source": [
    "my_file.read()"
   ]
  },
  {
   "cell_type": "code",
   "execution_count": 41,
   "id": "8762d2df",
   "metadata": {},
   "outputs": [
    {
     "data": {
      "text/plain": [
       "'ck test file.\\n'"
      ]
     },
     "execution_count": 41,
     "metadata": {},
     "output_type": "execute_result"
    }
   ],
   "source": [
    "my_file.seek(20)\n",
    "my_file.read()"
   ]
  },
  {
   "cell_type": "code",
   "execution_count": 44,
   "id": "92d95323",
   "metadata": {},
   "outputs": [
    {
     "data": {
      "text/plain": [
       "['Hello, this is a quick test file.\\n']"
      ]
     },
     "execution_count": 44,
     "metadata": {},
     "output_type": "execute_result"
    }
   ],
   "source": [
    "# Readlines returns a list of the lines in the file.\n",
    "my_file.readlines()"
   ]
  },
  {
   "cell_type": "markdown",
   "id": "db00c2e4",
   "metadata": {},
   "source": [
    "#### Writing to a File\n",
    "By default , using the open() function will only allow us to read the file, we need to pass the argument 'w' to write over the file. "
   ]
  },
  {
   "cell_type": "code",
   "execution_count": 46,
   "id": "86b4c5e2",
   "metadata": {},
   "outputs": [],
   "source": [
    "# Add the second argument to the function, 'w' which stands for write\n",
    "my_files=open('test.txt','w+')"
   ]
  },
  {
   "cell_type": "code",
   "execution_count": 48,
   "id": "a88f7f46",
   "metadata": {},
   "outputs": [
    {
     "data": {
      "text/plain": [
       "18"
      ]
     },
     "execution_count": 48,
     "metadata": {},
     "output_type": "execute_result"
    }
   ],
   "source": [
    "# Write to a file.\n",
    "my_files.write('This is a new line')"
   ]
  },
  {
   "cell_type": "code",
   "execution_count": 49,
   "id": "cf44ddc1",
   "metadata": {},
   "outputs": [
    {
     "data": {
      "text/plain": [
       "0"
      ]
     },
     "execution_count": 49,
     "metadata": {},
     "output_type": "execute_result"
    }
   ],
   "source": [
    "my_files.seek(0)"
   ]
  },
  {
   "cell_type": "code",
   "execution_count": 51,
   "id": "c6fc4a66",
   "metadata": {},
   "outputs": [
    {
     "data": {
      "text/plain": [
       "'This is a new line'"
      ]
     },
     "execution_count": 51,
     "metadata": {},
     "output_type": "execute_result"
    }
   ],
   "source": [
    "my_files.read()"
   ]
  },
  {
   "cell_type": "markdown",
   "id": "ffe11db7",
   "metadata": {},
   "source": [
    "**Mode**\t**Description**\n",
    "\n",
    "**r**\t---> Open a file for reading. (default)\n",
    "\n",
    "**w**\t---> Open a file for writing. Creates a new file if it does not exist or truncates the file if it exists.\n",
    "\n",
    "**x**\t---> Open a file for exclusive creation. If the file already exists, the operation fails.\n",
    "\n",
    "**a**\t---> Open a file for appending at the end of the file without truncating it. Creates a new file if it does not exist.\n",
    "\n",
    "**t**\t---> Open in text mode. (default)\n",
    "\n",
    "**b**\t---> Open in binary mode.\n",
    "\n",
    "**'+'**\t---> Open a file for updating (reading and writing)"
   ]
  },
  {
   "cell_type": "code",
   "execution_count": 52,
   "id": "1aba9223",
   "metadata": {},
   "outputs": [
    {
     "name": "stdout",
     "output_type": "stream",
     "text": [
      "This is a new line\n"
     ]
    }
   ],
   "source": [
    "# open a file\n",
    "file1 = open(\"test.txt\", \"r\")\n",
    "\n",
    "# read the file\n",
    "read_content = file1.read()\n",
    "print(read_content)\n",
    "\n",
    "# close the file\n",
    "file1.close()"
   ]
  },
  {
   "cell_type": "code",
   "execution_count": 67,
   "id": "67ea6605",
   "metadata": {},
   "outputs": [
    {
     "name": "stdout",
     "output_type": "stream",
     "text": [
      "Hello WOrking Hello WOrking \n"
     ]
    }
   ],
   "source": [
    "# open a file\n",
    "file1 = open(\"test.txt\", \"a+\")\n",
    "\n",
    "# write the file\n",
    "file1.write(\"Hello WOrking \")\n",
    "\n",
    "file1.seek(0)\n",
    "# read the file\n",
    "read_content = file1.read()\n",
    "print(read_content)\n",
    "\n",
    "# close the file\n",
    "file1.close()"
   ]
  },
  {
   "cell_type": "markdown",
   "id": "91add8b5",
   "metadata": {},
   "source": [
    "#### StringIO\n",
    "The StringIO module implements an in-memory file like object. This Object can then be used as input or output to most functions that would expect a standard file object.\n",
    "\n",
    "It is a package which give you the capability to read, write and other file operations in a object."
   ]
  },
  {
   "cell_type": "code",
   "execution_count": 68,
   "id": "b6d3c24c",
   "metadata": {},
   "outputs": [],
   "source": [
    "from io import StringIO"
   ]
  },
  {
   "cell_type": "code",
   "execution_count": 69,
   "id": "c00eb228",
   "metadata": {},
   "outputs": [],
   "source": [
    "message='this is just a normal string'"
   ]
  },
  {
   "cell_type": "code",
   "execution_count": 70,
   "id": "29221197",
   "metadata": {},
   "outputs": [],
   "source": [
    "f=StringIO(message)\n",
    "# Now we have a object f that we will be able to treat just like file."
   ]
  },
  {
   "cell_type": "code",
   "execution_count": 71,
   "id": "415c7c81",
   "metadata": {},
   "outputs": [
    {
     "data": {
      "text/plain": [
       "'this is just a normal string'"
      ]
     },
     "execution_count": 71,
     "metadata": {},
     "output_type": "execute_result"
    }
   ],
   "source": [
    "f.read()"
   ]
  },
  {
   "cell_type": "code",
   "execution_count": 76,
   "id": "bad9909b",
   "metadata": {},
   "outputs": [
    {
     "data": {
      "text/plain": [
       "42"
      ]
     },
     "execution_count": 76,
     "metadata": {},
     "output_type": "execute_result"
    }
   ],
   "source": [
    "f.write(' Second line written to file like object ')"
   ]
  },
  {
   "cell_type": "code",
   "execution_count": 77,
   "id": "a7e619e7",
   "metadata": {},
   "outputs": [
    {
     "data": {
      "text/plain": [
       "'this is just a normal string Second line written to file like object  \\nSecond line written to file like object '"
      ]
     },
     "execution_count": 77,
     "metadata": {},
     "output_type": "execute_result"
    }
   ],
   "source": [
    "f.seek(0)\n",
    "f.read()"
   ]
  },
  {
   "cell_type": "code",
   "execution_count": null,
   "id": "85074b25",
   "metadata": {},
   "outputs": [],
   "source": []
  }
 ],
 "metadata": {
  "kernelspec": {
   "display_name": "Python 3 (ipykernel)",
   "language": "python",
   "name": "python3"
  },
  "language_info": {
   "codemirror_mode": {
    "name": "ipython",
    "version": 3
   },
   "file_extension": ".py",
   "mimetype": "text/x-python",
   "name": "python",
   "nbconvert_exporter": "python",
   "pygments_lexer": "ipython3",
   "version": "3.9.12"
  }
 },
 "nbformat": 4,
 "nbformat_minor": 5
}
