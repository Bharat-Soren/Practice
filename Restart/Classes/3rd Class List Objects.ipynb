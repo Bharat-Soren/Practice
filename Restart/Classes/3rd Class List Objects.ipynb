{
 "cells": [
  {
   "cell_type": "code",
   "execution_count": null,
   "id": "f5734baf",
   "metadata": {},
   "outputs": [],
   "source": [
    "# Watch \"5th Dec Live Class Containers and Functions Links to an external site.\"\n",
    "# Do the \"Python Practice \""
   ]
  },
  {
   "cell_type": "code",
   "execution_count": 1,
   "id": "bcdfbd55",
   "metadata": {},
   "outputs": [
    {
     "name": "stdout",
     "output_type": "stream",
     "text": [
      "1\n",
      "4\n",
      "9\n",
      "16\n"
     ]
    }
   ],
   "source": [
    "## List Comprehension\n",
    "lst1=[1,2,3,4]\n",
    "for i in lst1:\n",
    "    print(i**2)"
   ]
  },
  {
   "cell_type": "code",
   "execution_count": 2,
   "id": "ab361b3b",
   "metadata": {},
   "outputs": [
    {
     "name": "stdout",
     "output_type": "stream",
     "text": [
      "[1, 4, 9, 16]\n"
     ]
    }
   ],
   "source": [
    "lst2=[1,2,3,4]\n",
    "lst3=[]\n",
    "for i in lst1:\n",
    "    lst3.append(i**2)\n",
    "print(lst3)"
   ]
  },
  {
   "cell_type": "code",
   "execution_count": 3,
   "id": "2dfe8f52",
   "metadata": {},
   "outputs": [
    {
     "data": {
      "text/plain": [
       "[1, 4, 9, 16]"
      ]
     },
     "execution_count": 3,
     "metadata": {},
     "output_type": "execute_result"
    }
   ],
   "source": [
    "lst4=[1,2,3,4]\n",
    "\n",
    "[i**2 for i in lst4]"
   ]
  },
  {
   "cell_type": "code",
   "execution_count": 5,
   "id": "6dd1fb66",
   "metadata": {},
   "outputs": [
    {
     "name": "stdout",
     "output_type": "stream",
     "text": [
      "[2, 4, 6, 8, 10]\n"
     ]
    },
    {
     "data": {
      "text/plain": [
       "30"
      ]
     },
     "execution_count": 5,
     "metadata": {},
     "output_type": "execute_result"
    }
   ],
   "source": [
    "# If condition in the list compreshension\n",
    "# Sum of all the even number in a collection\n",
    "\n",
    "lst5=[1,2,3,4,5,6,7,8,9,10]\n",
    "\n",
    "lst6=[i for i in lst5 if i%2==0]\n",
    "print(lst6)\n",
    "lst7=sum(lst6)\n",
    "lst7"
   ]
  },
  {
   "cell_type": "markdown",
   "id": "77facbc7",
   "metadata": {},
   "source": [
    "## Tuples\n",
    "Tuples are same as the list and it can store the homogeneous and heterogeneous elements with additional properties that tuples is **\"Immutable\"**.\n",
    "\n",
    "The tuples can't be changed. We should use the tuples to present the data that shouldn't be changed.\n",
    "Such as Days of the week or dates on a calender.\n"
   ]
  },
  {
   "cell_type": "code",
   "execution_count": 6,
   "id": "57c50694",
   "metadata": {},
   "outputs": [
    {
     "data": {
      "text/plain": [
       "(1, 2, 3, 4, 5, 6)"
      ]
     },
     "execution_count": 6,
     "metadata": {},
     "output_type": "execute_result"
    }
   ],
   "source": [
    "tup1=(1,2,3,4,5,6)\n",
    "tup1"
   ]
  },
  {
   "cell_type": "code",
   "execution_count": 7,
   "id": "e6250c52",
   "metadata": {},
   "outputs": [
    {
     "data": {
      "text/plain": [
       "tuple"
      ]
     },
     "execution_count": 7,
     "metadata": {},
     "output_type": "execute_result"
    }
   ],
   "source": [
    "type(tup1)"
   ]
  },
  {
   "cell_type": "code",
   "execution_count": 12,
   "id": "54fdf4c6",
   "metadata": {},
   "outputs": [
    {
     "name": "stdout",
     "output_type": "stream",
     "text": [
      "[1, 2, 3, 4, 5, 6]\n",
      "<class 'list'>\n"
     ]
    },
    {
     "data": {
      "text/plain": [
       "tuple"
      ]
     },
     "execution_count": 12,
     "metadata": {},
     "output_type": "execute_result"
    }
   ],
   "source": [
    "# Conversion of list to tuples\n",
    "lst10=[1,2,3,4,5,6]\n",
    "print(lst10)\n",
    "tup2=tuple(lst10)\n",
    "print(type(lst10))\n",
    "type(tup2)"
   ]
  },
  {
   "cell_type": "code",
   "execution_count": 13,
   "id": "6138dc5d",
   "metadata": {},
   "outputs": [
    {
     "data": {
      "text/plain": [
       "(1, 2, 3, 4, 5, 6)"
      ]
     },
     "execution_count": 13,
     "metadata": {},
     "output_type": "execute_result"
    }
   ],
   "source": [
    "tup2"
   ]
  },
  {
   "cell_type": "code",
   "execution_count": 19,
   "id": "fb80f777",
   "metadata": {},
   "outputs": [
    {
     "data": {
      "text/plain": [
       "4"
      ]
     },
     "execution_count": 19,
     "metadata": {},
     "output_type": "execute_result"
    }
   ],
   "source": [
    "tup2[3]"
   ]
  },
  {
   "cell_type": "code",
   "execution_count": 20,
   "id": "e914d9ce",
   "metadata": {},
   "outputs": [],
   "source": [
    "tup4=('Bharat','Soren','Sonu')"
   ]
  },
  {
   "cell_type": "code",
   "execution_count": 24,
   "id": "bd36e508",
   "metadata": {},
   "outputs": [
    {
     "data": {
      "text/plain": [
       "['tarahB', 'neroS', 'unoS']"
      ]
     },
     "execution_count": 24,
     "metadata": {},
     "output_type": "execute_result"
    }
   ],
   "source": [
    "# want to reverse the elements from the tuples\n",
    "\n",
    "[i[::-1] for i in tup4]\n"
   ]
  },
  {
   "cell_type": "code",
   "execution_count": 25,
   "id": "62ce6c49",
   "metadata": {},
   "outputs": [
    {
     "data": {
      "text/plain": [
       "['unoS', 'neroS', 'tarahB']"
      ]
     },
     "execution_count": 25,
     "metadata": {},
     "output_type": "execute_result"
    }
   ],
   "source": [
    "[i[::-1] for i in tup4][::-1]"
   ]
  },
  {
   "cell_type": "markdown",
   "id": "a9098420",
   "metadata": {},
   "source": [
    "### Sets\n",
    "Sets are the unordered collection of unique elements which can be constructed usin the set() function. \n",
    "\n",
    "It not **subscriptable**\n",
    "\n"
   ]
  },
  {
   "cell_type": "code",
   "execution_count": 26,
   "id": "7e390701",
   "metadata": {},
   "outputs": [],
   "source": [
    "x=set()\n",
    "y={}"
   ]
  },
  {
   "cell_type": "code",
   "execution_count": 27,
   "id": "860d3fcc",
   "metadata": {},
   "outputs": [
    {
     "data": {
      "text/plain": [
       "{1, 2, 3, 4, 5, 6}"
      ]
     },
     "execution_count": 27,
     "metadata": {},
     "output_type": "execute_result"
    }
   ],
   "source": [
    "s1=set([1,2,3,4,5,6])\n",
    "s1"
   ]
  },
  {
   "cell_type": "code",
   "execution_count": 29,
   "id": "d82b380c",
   "metadata": {},
   "outputs": [
    {
     "data": {
      "text/plain": [
       "{4, 5, 6, 7, 8, 9}"
      ]
     },
     "execution_count": 29,
     "metadata": {},
     "output_type": "execute_result"
    }
   ],
   "source": [
    "s2=set((4,5,6,7,8,9))\n",
    "s2"
   ]
  },
  {
   "cell_type": "code",
   "execution_count": 30,
   "id": "3dd718ae",
   "metadata": {},
   "outputs": [
    {
     "data": {
      "text/plain": [
       "set"
      ]
     },
     "execution_count": 30,
     "metadata": {},
     "output_type": "execute_result"
    }
   ],
   "source": [
    "s3={8,7,5,2,3,4}\n",
    "type(s3)"
   ]
  },
  {
   "cell_type": "code",
   "execution_count": 33,
   "id": "4eb0f82b",
   "metadata": {},
   "outputs": [
    {
     "data": {
      "text/plain": [
       "{1, 2, 3, 4, 5, 6, 7, 8, 9, 10}"
      ]
     },
     "execution_count": 33,
     "metadata": {},
     "output_type": "execute_result"
    }
   ],
   "source": [
    "s4={2,3,5,5,5,6,7,4,4,3,2,7,8,1,8,9,10,1,1} \n",
    "s4 #Collection of unique elements"
   ]
  },
  {
   "cell_type": "code",
   "execution_count": 34,
   "id": "ce9635a4",
   "metadata": {},
   "outputs": [
    {
     "data": {
      "text/plain": [
       "{1, 2, 3, 6, 7, 8, 9}"
      ]
     },
     "execution_count": 34,
     "metadata": {},
     "output_type": "execute_result"
    }
   ],
   "source": [
    "x1={1,2,3,6,7,8}\n",
    "x2={3,4,5,6}\n",
    "x1.add(9)\n",
    "x1"
   ]
  },
  {
   "cell_type": "code",
   "execution_count": 35,
   "id": "45a8c99c",
   "metadata": {},
   "outputs": [
    {
     "data": {
      "text/plain": [
       "{1, 2, 3, 4, 5, 6, 7, 8, 9}"
      ]
     },
     "execution_count": 35,
     "metadata": {},
     "output_type": "execute_result"
    }
   ],
   "source": [
    "x1.union(x2)"
   ]
  },
  {
   "cell_type": "code",
   "execution_count": 37,
   "id": "115fd993",
   "metadata": {},
   "outputs": [
    {
     "data": {
      "text/plain": [
       "{3, 6}"
      ]
     },
     "execution_count": 37,
     "metadata": {},
     "output_type": "execute_result"
    }
   ],
   "source": [
    "x1.intersection(x2)"
   ]
  },
  {
   "cell_type": "code",
   "execution_count": 38,
   "id": "47d6cd06",
   "metadata": {},
   "outputs": [
    {
     "ename": "TypeError",
     "evalue": "'set' object is not subscriptable",
     "output_type": "error",
     "traceback": [
      "\u001b[1;31m---------------------------------------------------------------------------\u001b[0m",
      "\u001b[1;31mTypeError\u001b[0m                                 Traceback (most recent call last)",
      "Input \u001b[1;32mIn [38]\u001b[0m, in \u001b[0;36m<cell line: 1>\u001b[1;34m()\u001b[0m\n\u001b[1;32m----> 1\u001b[0m \u001b[43mx1\u001b[49m\u001b[43m[\u001b[49m\u001b[38;5;241;43m5\u001b[39;49m\u001b[43m]\u001b[49m\n",
      "\u001b[1;31mTypeError\u001b[0m: 'set' object is not subscriptable"
     ]
    }
   ],
   "source": [
    "x1[5]"
   ]
  },
  {
   "cell_type": "code",
   "execution_count": 39,
   "id": "bd65c194",
   "metadata": {},
   "outputs": [
    {
     "data": {
      "text/plain": [
       "False"
      ]
     },
     "execution_count": 39,
     "metadata": {},
     "output_type": "execute_result"
    }
   ],
   "source": [
    "x2.isdisjoint(x1)"
   ]
  },
  {
   "cell_type": "code",
   "execution_count": 40,
   "id": "5d7ffa01",
   "metadata": {},
   "outputs": [
    {
     "data": {
      "text/plain": [
       "True"
      ]
     },
     "execution_count": 40,
     "metadata": {},
     "output_type": "execute_result"
    }
   ],
   "source": [
    "x3={2,3,4,5}\n",
    "x4={6,7,8,9}\n",
    "x3.isdisjoint(x4)"
   ]
  },
  {
   "cell_type": "markdown",
   "id": "5aa348f3",
   "metadata": {},
   "source": [
    "### Dictionary\n",
    "It is a combination of \"key\" \"value\" paires. It not **subscriptable**"
   ]
  },
  {
   "cell_type": "code",
   "execution_count": 42,
   "id": "9dec4698",
   "metadata": {},
   "outputs": [
    {
     "data": {
      "text/plain": [
       "{1: 'Bharat', 2: 678, 3: 'Soren', 'Sonu': 'Sunil'}"
      ]
     },
     "execution_count": 42,
     "metadata": {},
     "output_type": "execute_result"
    }
   ],
   "source": [
    "dic1={1:\"Bharat\",2:678,3:'Soren',\"Sonu\":'Sunil'}\n",
    "dic1"
   ]
  },
  {
   "cell_type": "code",
   "execution_count": 45,
   "id": "779c4592",
   "metadata": {},
   "outputs": [
    {
     "data": {
      "text/plain": [
       "{4: 8900, 8: 'Soren', 3: '678', 2: 234}"
      ]
     },
     "execution_count": 45,
     "metadata": {},
     "output_type": "execute_result"
    }
   ],
   "source": [
    "d2={4:'Bharat',8:'Soren',3:'678',2:234,4:8900}\n",
    "d2"
   ]
  },
  {
   "cell_type": "code",
   "execution_count": 46,
   "id": "eb62dee5",
   "metadata": {},
   "outputs": [
    {
     "data": {
      "text/plain": [
       "dict_items([(4, 8900), (8, 'Soren'), (3, '678'), (2, 234)])"
      ]
     },
     "execution_count": 46,
     "metadata": {},
     "output_type": "execute_result"
    }
   ],
   "source": [
    "### Indexing\n",
    "d2.items()"
   ]
  },
  {
   "cell_type": "code",
   "execution_count": 47,
   "id": "b39e3114",
   "metadata": {},
   "outputs": [
    {
     "data": {
      "text/plain": [
       "dict_keys([4, 8, 3, 2])"
      ]
     },
     "execution_count": 47,
     "metadata": {},
     "output_type": "execute_result"
    }
   ],
   "source": [
    "d2.keys()"
   ]
  },
  {
   "cell_type": "code",
   "execution_count": 48,
   "id": "d1a18301",
   "metadata": {},
   "outputs": [
    {
     "data": {
      "text/plain": [
       "dict_values([8900, 'Soren', '678', 234])"
      ]
     },
     "execution_count": 48,
     "metadata": {},
     "output_type": "execute_result"
    }
   ],
   "source": [
    "d2.values()"
   ]
  },
  {
   "cell_type": "code",
   "execution_count": 49,
   "id": "ab4dab70",
   "metadata": {},
   "outputs": [
    {
     "ename": "KeyError",
     "evalue": "1",
     "output_type": "error",
     "traceback": [
      "\u001b[1;31m---------------------------------------------------------------------------\u001b[0m",
      "\u001b[1;31mKeyError\u001b[0m                                  Traceback (most recent call last)",
      "Input \u001b[1;32mIn [49]\u001b[0m, in \u001b[0;36m<cell line: 1>\u001b[1;34m()\u001b[0m\n\u001b[1;32m----> 1\u001b[0m \u001b[43md2\u001b[49m\u001b[43m[\u001b[49m\u001b[38;5;241;43m1\u001b[39;49m\u001b[43m]\u001b[49m\n",
      "\u001b[1;31mKeyError\u001b[0m: 1"
     ]
    }
   ],
   "source": [
    "d2[1]"
   ]
  },
  {
   "cell_type": "code",
   "execution_count": 50,
   "id": "3b815556",
   "metadata": {},
   "outputs": [
    {
     "data": {
      "text/plain": [
       "234"
      ]
     },
     "execution_count": 50,
     "metadata": {},
     "output_type": "execute_result"
    }
   ],
   "source": [
    "d2[2]"
   ]
  },
  {
   "cell_type": "code",
   "execution_count": 52,
   "id": "1f56a8c8",
   "metadata": {},
   "outputs": [
    {
     "data": {
      "text/plain": [
       "{'key1': 123, 'key2': [12, 23, 33], 'key3': ['item01', 'item02', 'item03']}"
      ]
     },
     "execution_count": 52,
     "metadata": {},
     "output_type": "execute_result"
    }
   ],
   "source": [
    "d4={'key1':123,'key2':[12,23,33],'key3':['item01','item02','item03']}\n",
    "d4"
   ]
  },
  {
   "cell_type": "code",
   "execution_count": 53,
   "id": "1765068f",
   "metadata": {},
   "outputs": [
    {
     "data": {
      "text/plain": [
       "123"
      ]
     },
     "execution_count": 53,
     "metadata": {},
     "output_type": "execute_result"
    }
   ],
   "source": [
    "d4['key1']"
   ]
  },
  {
   "cell_type": "code",
   "execution_count": 54,
   "id": "3ac13d58",
   "metadata": {},
   "outputs": [
    {
     "ename": "KeyError",
     "evalue": "'Key1'",
     "output_type": "error",
     "traceback": [
      "\u001b[1;31m---------------------------------------------------------------------------\u001b[0m",
      "\u001b[1;31mKeyError\u001b[0m                                  Traceback (most recent call last)",
      "Input \u001b[1;32mIn [54]\u001b[0m, in \u001b[0;36m<cell line: 1>\u001b[1;34m()\u001b[0m\n\u001b[1;32m----> 1\u001b[0m \u001b[43md4\u001b[49m\u001b[43m[\u001b[49m\u001b[38;5;124;43m'\u001b[39;49m\u001b[38;5;124;43mKey1\u001b[39;49m\u001b[38;5;124;43m'\u001b[39;49m\u001b[43m]\u001b[49m\n",
      "\u001b[1;31mKeyError\u001b[0m: 'Key1'"
     ]
    }
   ],
   "source": [
    "d4['Key1'] # Case sensitive"
   ]
  },
  {
   "cell_type": "code",
   "execution_count": 55,
   "id": "d407d539",
   "metadata": {},
   "outputs": [
    {
     "data": {
      "text/plain": [
       "33"
      ]
     },
     "execution_count": 55,
     "metadata": {},
     "output_type": "execute_result"
    }
   ],
   "source": [
    "d4['key2'][2]"
   ]
  },
  {
   "cell_type": "code",
   "execution_count": 56,
   "id": "50fe07f8",
   "metadata": {},
   "outputs": [
    {
     "data": {
      "text/plain": [
       "'item03'"
      ]
     },
     "execution_count": 56,
     "metadata": {},
     "output_type": "execute_result"
    }
   ],
   "source": [
    "d4['key3'][-1]"
   ]
  },
  {
   "cell_type": "code",
   "execution_count": 57,
   "id": "73b7d483",
   "metadata": {},
   "outputs": [
    {
     "data": {
      "text/plain": [
       "{'key1': 123,\n",
       " 'key2': [12, 23, 33],\n",
       " 'key3': ['item01', 'item02', 'item03'],\n",
       " 'key4': 145}"
      ]
     },
     "execution_count": 57,
     "metadata": {},
     "output_type": "execute_result"
    }
   ],
   "source": [
    "d4['key4']=145\n",
    "d4"
   ]
  },
  {
   "cell_type": "markdown",
   "id": "2b795d67",
   "metadata": {},
   "source": [
    "### Nesting With Dictionary\n",
    "\n",
    "\n"
   ]
  },
  {
   "cell_type": "code",
   "execution_count": 2,
   "id": "acd390cc",
   "metadata": {},
   "outputs": [
    {
     "data": {
      "text/plain": [
       "{'key1': {'nestkey': {'subnestkey': 'value'}}}"
      ]
     },
     "execution_count": 2,
     "metadata": {},
     "output_type": "execute_result"
    }
   ],
   "source": [
    "# Dictionary nested inside a dictionary nested inside a dictionary\n",
    "\n",
    "d5={'key1':{'nestkey':{'subnestkey':'value'}}}\n",
    "d5"
   ]
  },
  {
   "cell_type": "code",
   "execution_count": 3,
   "id": "42291df3",
   "metadata": {},
   "outputs": [
    {
     "data": {
      "text/plain": [
       "'value'"
      ]
     },
     "execution_count": 3,
     "metadata": {},
     "output_type": "execute_result"
    }
   ],
   "source": [
    "# Keep calling the keys\n",
    "d5['key1']['nestkey']['subnestkey']"
   ]
  },
  {
   "cell_type": "code",
   "execution_count": 4,
   "id": "df55f220",
   "metadata": {},
   "outputs": [
    {
     "data": {
      "text/plain": [
       "dict_values([{'nestkey': {'subnestkey': 'value'}}])"
      ]
     },
     "execution_count": 4,
     "metadata": {},
     "output_type": "execute_result"
    }
   ],
   "source": [
    "d5.values()"
   ]
  },
  {
   "cell_type": "code",
   "execution_count": 5,
   "id": "d8977cac",
   "metadata": {},
   "outputs": [
    {
     "data": {
      "text/plain": [
       "dict_keys(['key1'])"
      ]
     },
     "execution_count": 5,
     "metadata": {},
     "output_type": "execute_result"
    }
   ],
   "source": [
    "d5.keys()"
   ]
  },
  {
   "cell_type": "code",
   "execution_count": 6,
   "id": "bc2cd08f",
   "metadata": {},
   "outputs": [
    {
     "data": {
      "text/plain": [
       "dict_values([{'subnestkey': 'value'}])"
      ]
     },
     "execution_count": 6,
     "metadata": {},
     "output_type": "execute_result"
    }
   ],
   "source": [
    "d5['key1'].values()"
   ]
  },
  {
   "cell_type": "markdown",
   "id": "26e874f9",
   "metadata": {},
   "source": [
    "## Dictionary Comprehension\n",
    "syntax is:"
   ]
  },
  {
   "cell_type": "code",
   "execution_count": 7,
   "id": "7803c64f",
   "metadata": {},
   "outputs": [
    {
     "data": {
      "text/plain": [
       "{0: 0, 1: 2, 2: 4, 3: 6, 4: 8, 5: 10, 6: 12, 7: 14, 8: 16, 9: 18}"
      ]
     },
     "execution_count": 7,
     "metadata": {},
     "output_type": "execute_result"
    }
   ],
   "source": [
    "{x:x*2 for x in range(10)}"
   ]
  },
  {
   "cell_type": "markdown",
   "id": "ce241fc7",
   "metadata": {},
   "source": [
    "# Functions\n",
    "A function groups a set of statements together to run the statements more than once. It allows us to specify parameters that can serve as inputs to the function."
   ]
  },
  {
   "cell_type": "code",
   "execution_count": 9,
   "id": "fe6d3988",
   "metadata": {},
   "outputs": [
    {
     "name": "stdout",
     "output_type": "stream",
     "text": [
      "Hello. Welcome to the Ineuron\n",
      "Hello. Welcome to the Ineuron\n",
      "Hello. Welcome to the Ineuron\n",
      "Hello. Welcome to the Ineuron\n",
      "Hello. Welcome to the Ineuron\n"
     ]
    }
   ],
   "source": [
    "##  Greet People\n",
    "print(\"Hello. Welcome to the Ineuron\")\n",
    "print(\"Hello. Welcome to the Ineuron\")\n",
    "print(\"Hello. Welcome to the Ineuron\")\n",
    "print(\"Hello. Welcome to the Ineuron\")\n",
    "print(\"Hello. Welcome to the Ineuron\")"
   ]
  },
  {
   "cell_type": "code",
   "execution_count": 10,
   "id": "c15b9dd5",
   "metadata": {},
   "outputs": [
    {
     "name": "stdout",
     "output_type": "stream",
     "text": [
      "Hello. Welcome to the Ineuron\n",
      "Hello. Welcome to the Ineuron\n",
      "Hello. Welcome to the Ineuron\n",
      "Hello. Welcome to the Ineuron\n",
      "Hello. Welcome to the Ineuron\n"
     ]
    }
   ],
   "source": [
    "## Function\n",
    "def greeting():\n",
    "    print(\"Hello. Welcome to the Ineuron\")\n",
    "\n",
    "greeting()\n",
    "greeting()\n",
    "greeting()\n",
    "greeting()\n",
    "greeting()\n",
    "     "
   ]
  },
  {
   "cell_type": "code",
   "execution_count": 12,
   "id": "001a1058",
   "metadata": {},
   "outputs": [],
   "source": [
    "### How to define a function\n",
    "# To define a function you need to use the **def** Keyword and then **function_name*\n",
    "# Syntax :\n",
    "# def func_name(parameters1,parameters2,...):\n",
    "#   function_body  "
   ]
  },
  {
   "cell_type": "code",
   "execution_count": 13,
   "id": "5bb96e94",
   "metadata": {},
   "outputs": [
    {
     "name": "stdout",
     "output_type": "stream",
     "text": [
      "70\n"
     ]
    }
   ],
   "source": [
    "## Sum of all even numbers and odd numbers with different out put\n",
    "def even_sum(lst):\n",
    "    result=0\n",
    "    for i in lst:\n",
    "        if i%2==0:\n",
    "            result+=i\n",
    "    return result\n",
    "\n",
    "l56=[20,45,30,20]\n",
    "print(even_sum(l56))\n",
    "        \n",
    "    "
   ]
  },
  {
   "cell_type": "code",
   "execution_count": 18,
   "id": "12f8616c",
   "metadata": {},
   "outputs": [],
   "source": [
    "## Sum of all even numbers and odd numbers with different output\n",
    "def even_odd_sum(lst):\n",
    "    sum_even=0\n",
    "    sum_odd=0\n",
    "    for i in lst:\n",
    "        if i%2==0:\n",
    "            sum_even+=i\n",
    "        else:\n",
    "            sum_odd+=i\n",
    "    return sum_even,sum_odd"
   ]
  },
  {
   "cell_type": "code",
   "execution_count": 19,
   "id": "d7e2f97e",
   "metadata": {},
   "outputs": [
    {
     "name": "stdout",
     "output_type": "stream",
     "text": [
      "Even sum is: 70\n",
      "Odd sum is: 45\n"
     ]
    }
   ],
   "source": [
    "l66=[20,45,30,20]\n",
    "out1=even_odd_sum(l66)\n",
    "print(\"Even sum is:\",out1[0])\n",
    "print(\"Odd sum is:\",out1[1])"
   ]
  },
  {
   "cell_type": "code",
   "execution_count": 20,
   "id": "95c08656",
   "metadata": {},
   "outputs": [
    {
     "name": "stdout",
     "output_type": "stream",
     "text": [
      "Even sum is: 70\n",
      "Odd sum is: 45\n"
     ]
    }
   ],
   "source": [
    "## Another way to store the multiple return values\n",
    "\n",
    "l67=[20,45,30,20]\n",
    "out1,out2=even_odd_sum(l66)\n",
    "print(\"Even sum is:\",out1)\n",
    "print(\"Odd sum is:\",out2)"
   ]
  },
  {
   "cell_type": "code",
   "execution_count": 31,
   "id": "acf3ba60",
   "metadata": {},
   "outputs": [],
   "source": [
    "## Add to list and print the output using function\n",
    "lst1=[2,3,4,5,6,7]\n",
    "lst2=[6,7,8,9,3,4]\n",
    "\n",
    "output=[8,10,12,14,9,11]\n",
    "\n",
    "def add_lists(lst1,lst2):\n",
    "    output=[]\n",
    "    mx_ln=0\n",
    "    ln_lst1=len(lst1)\n",
    "    ln_lst2=len(lst2)\n",
    "    print(\"Length of List 1 is\",ln_lst1)\n",
    "    print(\"Length of List 2 is\",ln_lst2)\n",
    "    if ln_lst1 == ln_lst2 :\n",
    "        mx_ln=ln_lst1\n",
    "    else:\n",
    "        print(\"The length of the list should be equal for both the list\")\n",
    "      \n",
    "    for i in range(mx_ln):\n",
    "        output.append(lst1[i]+lst2[i])\n",
    "    return output"
   ]
  },
  {
   "cell_type": "code",
   "execution_count": 32,
   "id": "31f06370",
   "metadata": {},
   "outputs": [
    {
     "name": "stdout",
     "output_type": "stream",
     "text": [
      "Length of List 1 is 6\n",
      "Length of List 2 is 6\n"
     ]
    },
    {
     "data": {
      "text/plain": [
       "[8, 10, 12, 14, 9, 11]"
      ]
     },
     "execution_count": 32,
     "metadata": {},
     "output_type": "execute_result"
    }
   ],
   "source": [
    "add_lists(lst1,lst2)"
   ]
  },
  {
   "cell_type": "code",
   "execution_count": 33,
   "id": "0c1c15e6",
   "metadata": {},
   "outputs": [
    {
     "name": "stdout",
     "output_type": "stream",
     "text": [
      "Length of List 1 is 6\n",
      "Length of List 2 is 5\n",
      "The length of the list should be equal for both the list\n"
     ]
    },
    {
     "data": {
      "text/plain": [
       "[]"
      ]
     },
     "execution_count": 33,
     "metadata": {},
     "output_type": "execute_result"
    }
   ],
   "source": [
    "lst55=[2,3,4,5,6,7]\n",
    "lst56=[6,7,8,9,3]\n",
    "add_lists(lst55,lst56)"
   ]
  },
  {
   "cell_type": "code",
   "execution_count": null,
   "id": "180fdd27",
   "metadata": {},
   "outputs": [],
   "source": []
  }
 ],
 "metadata": {
  "kernelspec": {
   "display_name": "Python 3 (ipykernel)",
   "language": "python",
   "name": "python3"
  },
  "language_info": {
   "codemirror_mode": {
    "name": "ipython",
    "version": 3
   },
   "file_extension": ".py",
   "mimetype": "text/x-python",
   "name": "python",
   "nbconvert_exporter": "python",
   "pygments_lexer": "ipython3",
   "version": "3.9.12"
  }
 },
 "nbformat": 4,
 "nbformat_minor": 5
}
