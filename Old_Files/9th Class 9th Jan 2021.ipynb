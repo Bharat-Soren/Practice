{
 "cells": [
  {
   "cell_type": "code",
   "execution_count": null,
   "id": "7b21c823",
   "metadata": {},
   "outputs": [],
   "source": [
    " We need to go through the Pandas data manipulation.ipynb"
   ]
  },
  {
   "cell_type": "code",
   "execution_count": null,
   "id": "f9748b18",
   "metadata": {},
   "outputs": [],
   "source": [
    "Gothrough this video in Next Class https://www.youtube.com/watch?v=Ea_KAcdv1vs\n",
    "    \n",
    "Then Go through the video : https://www.youtube.com/watch?v=ioN1jcWxbv8&list=PLZoTAELRMXVPQyArDHyQVjQxjj_YmEuO9\n",
    "        https://www.youtube.com/watch?v=Ie4-AOpPxBg&list=PLZoTAELRMXVPUyxuK8AphGMuIJHTyuWna"
   ]
  }
 ],
 "metadata": {
  "kernelspec": {
   "display_name": "Python 3 (ipykernel)",
   "language": "python",
   "name": "python3"
  },
  "language_info": {
   "codemirror_mode": {
    "name": "ipython",
    "version": 3
   },
   "file_extension": ".py",
   "mimetype": "text/x-python",
   "name": "python",
   "nbconvert_exporter": "python",
   "pygments_lexer": "ipython3",
   "version": "3.9.12"
  }
 },
 "nbformat": 4,
 "nbformat_minor": 5
}
