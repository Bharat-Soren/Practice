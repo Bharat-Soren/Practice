{
 "cells": [
  {
   "cell_type": "markdown",
   "id": "0967d80f",
   "metadata": {},
   "source": [
    "### Date 28th Nov 2022 Python Basic\n"
   ]
  },
  {
   "cell_type": "code",
   "execution_count": 6,
   "id": "b05f9658",
   "metadata": {},
   "outputs": [
    {
     "data": {
      "text/plain": [
       "(2+3j)"
      ]
     },
     "execution_count": 6,
     "metadata": {},
     "output_type": "execute_result"
    }
   ],
   "source": [
    "i=2+3j\n",
    "i"
   ]
  },
  {
   "cell_type": "code",
   "execution_count": 7,
   "id": "c822f33b",
   "metadata": {},
   "outputs": [
    {
     "data": {
      "text/plain": [
       "complex"
      ]
     },
     "execution_count": 7,
     "metadata": {},
     "output_type": "execute_result"
    }
   ],
   "source": [
    "#Complex number note that 'J' is used to mention the immaginary number.\n",
    "# x+yj\n",
    "\n",
    "cm= 2.0+ 4.0j\n",
    "\n",
    "type(cm)"
   ]
  },
  {
   "cell_type": "code",
   "execution_count": 8,
   "id": "af033086",
   "metadata": {},
   "outputs": [
    {
     "name": "stdout",
     "output_type": "stream",
     "text": [
      "2.0 4.0\n"
     ]
    }
   ],
   "source": [
    "print(cm.real,cm.imag)"
   ]
  },
  {
   "cell_type": "code",
   "execution_count": 2,
   "id": "e102f633",
   "metadata": {},
   "outputs": [
    {
     "name": "stdout",
     "output_type": "stream",
     "text": [
      "2.0 3.0\n"
     ]
    }
   ],
   "source": [
    "print(i.real,i.imag)"
   ]
  },
  {
   "cell_type": "code",
   "execution_count": 5,
   "id": "c9581a6b",
   "metadata": {},
   "outputs": [
    {
     "data": {
      "text/plain": [
       "0"
      ]
     },
     "execution_count": 5,
     "metadata": {},
     "output_type": "execute_result"
    }
   ],
   "source": [
    "# Remainder Value\n",
    "4%2"
   ]
  },
  {
   "cell_type": "code",
   "execution_count": 6,
   "id": "9f0fd6b5",
   "metadata": {},
   "outputs": [
    {
     "data": {
      "text/plain": [
       "2.0"
      ]
     },
     "execution_count": 6,
     "metadata": {},
     "output_type": "execute_result"
    }
   ],
   "source": [
    "# Quotient Value\n",
    "4/2"
   ]
  },
  {
   "cell_type": "code",
   "execution_count": 9,
   "id": "115bfbd4",
   "metadata": {},
   "outputs": [
    {
     "data": {
      "text/plain": [
       "2"
      ]
     },
     "execution_count": 9,
     "metadata": {},
     "output_type": "execute_result"
    }
   ],
   "source": [
    "# It will give the whole number\n",
    "5//2"
   ]
  },
  {
   "cell_type": "code",
   "execution_count": 10,
   "id": "7e486904",
   "metadata": {},
   "outputs": [
    {
     "data": {
      "text/plain": [
       "11"
      ]
     },
     "execution_count": 10,
     "metadata": {},
     "output_type": "execute_result"
    }
   ],
   "source": [
    "#BODMAS -- Bracket, off, Division, Multiplication, Addition, Substraction\n",
    "5+3*2\n"
   ]
  },
  {
   "cell_type": "code",
   "execution_count": 14,
   "id": "7ad89e58",
   "metadata": {},
   "outputs": [
    {
     "name": "stdout",
     "output_type": "stream",
     "text": [
      "<class 'int'>\n",
      "<class 'str'>\n"
     ]
    }
   ],
   "source": [
    "# type operator provide the data of the \"value\" or \"variable\"\n",
    "print(type(2))\n",
    "print(type('Bharat'))"
   ]
  },
  {
   "cell_type": "code",
   "execution_count": 17,
   "id": "6201c5a4",
   "metadata": {},
   "outputs": [
    {
     "name": "stdout",
     "output_type": "stream",
     "text": [
      "True\n",
      "False\n"
     ]
    },
    {
     "data": {
      "text/plain": [
       "bool"
      ]
     },
     "execution_count": 17,
     "metadata": {},
     "output_type": "execute_result"
    }
   ],
   "source": [
    "# Boolean Operation\n",
    "print(True and True)\n",
    "print(True and False)\n",
    "\n",
    "type(True and True)"
   ]
  },
  {
   "cell_type": "code",
   "execution_count": null,
   "id": "33419ef1",
   "metadata": {},
   "outputs": [],
   "source": [
    "# Assignment : what is the difference between \"OR\" and \"|\"\n",
    "\n",
    "\"OR\" : Logical Operator\n",
    "\"|\"  : Bitwise Operator"
   ]
  },
  {
   "cell_type": "markdown",
   "id": "976f4d22",
   "metadata": {},
   "source": [
    "### string"
   ]
  },
  {
   "cell_type": "code",
   "execution_count": 28,
   "id": "2f8c1273",
   "metadata": {},
   "outputs": [
    {
     "data": {
      "text/plain": [
       "'1'"
      ]
     },
     "execution_count": 28,
     "metadata": {},
     "output_type": "execute_result"
    }
   ],
   "source": [
    "# Never user the reserved Keyword. The functionality of the reservered key word will be altered and it will give the error.\n",
    "\n",
    "name='Bharat'\n",
    "name\n",
    "\n",
    "str(1)\n",
    "\n",
    "# use the shift tab to get he details of the inbuild functation"
   ]
  },
  {
   "cell_type": "code",
   "execution_count": 23,
   "id": "f3b2990c",
   "metadata": {},
   "outputs": [],
   "source": [
    "Home='Hi'"
   ]
  },
  {
   "cell_type": "code",
   "execution_count": 27,
   "id": "9ae5b86c",
   "metadata": {},
   "outputs": [
    {
     "data": {
      "text/plain": [
       "'Hi'"
      ]
     },
     "execution_count": 27,
     "metadata": {},
     "output_type": "execute_result"
    }
   ],
   "source": [
    "Home"
   ]
  },
  {
   "cell_type": "code",
   "execution_count": 2,
   "id": "f7ef66f9",
   "metadata": {},
   "outputs": [
    {
     "data": {
      "text/plain": [
       "'A Good Boy A bad Boy'"
      ]
     },
     "execution_count": 2,
     "metadata": {},
     "output_type": "execute_result"
    }
   ],
   "source": [
    "str1='A Good Boy'\n",
    "str2='A bad Boy'\n",
    "str1+\" \"+str2"
   ]
  },
  {
   "cell_type": "code",
   "execution_count": 1,
   "id": "4d97c464",
   "metadata": {},
   "outputs": [
    {
     "name": "stdout",
     "output_type": "stream",
     "text": [
      "Enter your Name:Bharat\n",
      "Hello Bharat, Hope you are doing Good.\n"
     ]
    }
   ],
   "source": [
    "# get a Input then print the name\n",
    "name = input(\"Enter your Name:\")\n",
    "\n",
    "print(\"Hello {}, Hope you are doing Good.\".format(name))"
   ]
  },
  {
   "cell_type": "markdown",
   "id": "39fa88cf",
   "metadata": {},
   "source": [
    "### Add 2 Number"
   ]
  },
  {
   "cell_type": "code",
   "execution_count": 7,
   "id": "3eb0a57a",
   "metadata": {},
   "outputs": [
    {
     "name": "stdout",
     "output_type": "stream",
     "text": [
      "Enter number 1st number: 23\n",
      "Enter Second Number: 34\n",
      "out put is: 57.0\n"
     ]
    }
   ],
   "source": [
    "a= float(input(\"Enter number 1st number: \"))\n",
    "b= input (\"Enter Second Number: \")\n",
    "c = a + float(b)\n",
    "print(\"out put is:\",c)"
   ]
  },
  {
   "cell_type": "code",
   "execution_count": 11,
   "id": "8660796a",
   "metadata": {},
   "outputs": [
    {
     "name": "stdout",
     "output_type": "stream",
     "text": [
      "What is your first Name: Bharat\n",
      "What is your last name: Soren\n",
      "My first name is Bharat, Last name is Soren\n",
      "My first name is Bharat, Last name is Soren\n"
     ]
    }
   ],
   "source": [
    "### string formating\n",
    "first_name=input(\"What is your first Name: \")\n",
    "last_name = input(\"What is your last name: \")\n",
    "\n",
    "print(\"My first name is {}, Last name is {}\".format(first_name,last_name))\n",
    "print(\"My first name is {firstname}, Last name is {lastname}\".format(lastname=last_name,firstname=first_name))\n"
   ]
  },
  {
   "cell_type": "markdown",
   "id": "7e8b95b5",
   "metadata": {},
   "source": [
    "### Variable Dynamic Typing\n"
   ]
  },
  {
   "cell_type": "code",
   "execution_count": 13,
   "id": "2a6c4eed",
   "metadata": {},
   "outputs": [
    {
     "name": "stdout",
     "output_type": "stream",
     "text": [
      "<class 'int'>\n",
      "<class 'float'>\n",
      "<class 'str'>\n"
     ]
    }
   ],
   "source": [
    "## We don't have to manually specify the data type of the variable. before assigning the value to the variable\n",
    "a=10\n",
    "print(type(a))\n",
    "b=10.0\n",
    "print(type(b))\n",
    "c=\"Stingss\"\n",
    "print(type(c))"
   ]
  },
  {
   "cell_type": "markdown",
   "id": "e887c774",
   "metadata": {},
   "source": [
    "### Strong Typing"
   ]
  },
  {
   "cell_type": "code",
   "execution_count": 18,
   "id": "c2089f8a",
   "metadata": {},
   "outputs": [
    {
     "data": {
      "text/plain": [
       "3"
      ]
     },
     "execution_count": 18,
     "metadata": {},
     "output_type": "execute_result"
    }
   ],
   "source": [
    "### Manually type casting the value to do the required operation\n",
    "\n",
    "\"Bharat\" + str(1)\n",
    "1 + int(\"2\")"
   ]
  },
  {
   "cell_type": "markdown",
   "id": "29f36fec",
   "metadata": {},
   "source": [
    "### Conditional Statements"
   ]
  },
  {
   "cell_type": "code",
   "execution_count": 21,
   "id": "e183d7f1",
   "metadata": {},
   "outputs": [
    {
     "name": "stdout",
     "output_type": "stream",
     "text": [
      "Enter the 1st number34\n",
      "Enter the 2nd number45\n",
      "Number is negative: -11\n"
     ]
    }
   ],
   "source": [
    "## If and else\n",
    "a = int(input(\"Enter the 1st number\"))\n",
    "b = int(input(\"Enter the 2nd number\"))\n",
    "c = a-b\n",
    "if c<0:\n",
    "    print(\"Number is negative: {}\". format(c))\n",
    "elif c>40:\n",
    "    print(\"Number is Huge\")\n",
    "else:\n",
    "    print(\"Number is positive: {}\".format(c))\n",
    "\n",
    "    "
   ]
  },
  {
   "cell_type": "markdown",
   "id": "64041811",
   "metadata": {},
   "source": [
    "### Data Structure"
   ]
  },
  {
   "cell_type": "markdown",
   "id": "d0fa7a6a",
   "metadata": {},
   "source": [
    "1. Tuple\n",
    "2. Dictionary\n",
    "3. String\n",
    "4. Sets\n",
    "5. List"
   ]
  },
  {
   "cell_type": "markdown",
   "id": "a783686a",
   "metadata": {},
   "source": [
    "## List\n",
    "It is a collection of homogeneous, heterogeneous elements. it can contains any things. The values will be closed in the square bracket\n"
   ]
  },
  {
   "cell_type": "code",
   "execution_count": 2,
   "id": "21800015",
   "metadata": {},
   "outputs": [],
   "source": [
    "lst=[1,2,3,4,\"Bharat\",'Soren']"
   ]
  },
  {
   "cell_type": "code",
   "execution_count": 3,
   "id": "e505559c",
   "metadata": {},
   "outputs": [
    {
     "data": {
      "text/plain": [
       "[1, 2, 3, 4, 'Bharat', 'Soren']"
      ]
     },
     "execution_count": 3,
     "metadata": {},
     "output_type": "execute_result"
    }
   ],
   "source": [
    "lst"
   ]
  },
  {
   "cell_type": "code",
   "execution_count": 4,
   "id": "a9bc1f9b",
   "metadata": {},
   "outputs": [
    {
     "data": {
      "text/plain": [
       "list"
      ]
     },
     "execution_count": 4,
     "metadata": {},
     "output_type": "execute_result"
    }
   ],
   "source": [
    "type(lst)"
   ]
  },
  {
   "cell_type": "code",
   "execution_count": 6,
   "id": "587eb63a",
   "metadata": {},
   "outputs": [
    {
     "data": {
      "text/plain": [
       "'Bharat'"
      ]
     },
     "execution_count": 6,
     "metadata": {},
     "output_type": "execute_result"
    }
   ],
   "source": [
    "lst[4]"
   ]
  },
  {
   "cell_type": "code",
   "execution_count": 7,
   "id": "d68b4055",
   "metadata": {},
   "outputs": [
    {
     "data": {
      "text/plain": [
       "str"
      ]
     },
     "execution_count": 7,
     "metadata": {},
     "output_type": "execute_result"
    }
   ],
   "source": [
    "type(lst[4])"
   ]
  },
  {
   "cell_type": "code",
   "execution_count": 11,
   "id": "2cce70ea",
   "metadata": {},
   "outputs": [
    {
     "name": "stdout",
     "output_type": "stream",
     "text": [
      "[1, 2, 3, 4, 'Bharat', 'Soren', 'Chandra', 'Chandra']\n"
     ]
    }
   ],
   "source": [
    "print(lst)\n",
    "lst.append(\"Chandra\")"
   ]
  },
  {
   "cell_type": "code",
   "execution_count": 14,
   "id": "c41a0eea",
   "metadata": {},
   "outputs": [
    {
     "data": {
      "text/plain": [
       "[1, 2, 3, 4, 'Bharat', 'Soren', 'Chandra', 'Chandra', 'Chandra']"
      ]
     },
     "execution_count": 14,
     "metadata": {},
     "output_type": "execute_result"
    }
   ],
   "source": [
    "lst"
   ]
  },
  {
   "cell_type": "code",
   "execution_count": 15,
   "id": "13ae2a6c",
   "metadata": {},
   "outputs": [],
   "source": [
    "lst[2]='Home'"
   ]
  },
  {
   "cell_type": "code",
   "execution_count": 16,
   "id": "9600b41e",
   "metadata": {},
   "outputs": [
    {
     "name": "stdout",
     "output_type": "stream",
     "text": [
      "[1, 2, 'Home', 4, 'Bharat', 'Soren', 'Chandra', 'Chandra', 'Chandra']\n"
     ]
    }
   ],
   "source": [
    "print(lst)"
   ]
  },
  {
   "cell_type": "code",
   "execution_count": 17,
   "id": "c8103b8b",
   "metadata": {},
   "outputs": [
    {
     "data": {
      "text/plain": [
       "'a'"
      ]
     },
     "execution_count": 17,
     "metadata": {},
     "output_type": "execute_result"
    }
   ],
   "source": [
    "### Indexing\n",
    "str1='Bharat'\n",
    "str1[4]"
   ]
  },
  {
   "cell_type": "code",
   "execution_count": 18,
   "id": "694c86aa",
   "metadata": {},
   "outputs": [
    {
     "ename": "TypeError",
     "evalue": "'str' object does not support item assignment",
     "output_type": "error",
     "traceback": [
      "\u001b[1;31m---------------------------------------------------------------------------\u001b[0m",
      "\u001b[1;31mTypeError\u001b[0m                                 Traceback (most recent call last)",
      "Input \u001b[1;32mIn [18]\u001b[0m, in \u001b[0;36m<cell line: 1>\u001b[1;34m()\u001b[0m\n\u001b[1;32m----> 1\u001b[0m str1[\u001b[38;5;241m4\u001b[39m]\u001b[38;5;241m=\u001b[39m\u001b[38;5;124m'\u001b[39m\u001b[38;5;124mG\u001b[39m\u001b[38;5;124m'\u001b[39m\n",
      "\u001b[1;31mTypeError\u001b[0m: 'str' object does not support item assignment"
     ]
    }
   ],
   "source": [
    "str1[4]='G'"
   ]
  },
  {
   "cell_type": "code",
   "execution_count": 1,
   "id": "6398c9d9",
   "metadata": {},
   "outputs": [],
   "source": [
    "## As string does not support item assignment So string is a immutable\n"
   ]
  },
  {
   "cell_type": "markdown",
   "id": "0bec9f80",
   "metadata": {},
   "source": [
    "### Date 29th Nov 2021"
   ]
  },
  {
   "cell_type": "markdown",
   "id": "62200693",
   "metadata": {},
   "source": [
    "### Loops"
   ]
  },
  {
   "cell_type": "code",
   "execution_count": 10,
   "id": "a41a5e35",
   "metadata": {},
   "outputs": [
    {
     "data": {
      "text/plain": [
       "9"
      ]
     },
     "execution_count": 10,
     "metadata": {},
     "output_type": "execute_result"
    }
   ],
   "source": [
    "# For Loop\n",
    "lst=[34,56,43,23,76,45,98,345,9]\n",
    "len(lst)"
   ]
  },
  {
   "cell_type": "code",
   "execution_count": 16,
   "id": "351cc731",
   "metadata": {},
   "outputs": [
    {
     "name": "stdout",
     "output_type": "stream",
     "text": [
      "0 34\n",
      "34 56\n",
      "90 43\n",
      "133 23\n",
      "156 76\n",
      "232 45\n",
      "277 98\n",
      "375 345\n",
      "720 9\n",
      "Total value is:  729\n"
     ]
    }
   ],
   "source": [
    "## Sum of all elements in list\n",
    "sum1=0\n",
    "for i in lst:\n",
    "    print(sum1,i)\n",
    "    sum1=sum1+i\n",
    "print(\"Total value is: \",sum1)"
   ]
  },
  {
   "cell_type": "code",
   "execution_count": 18,
   "id": "90ebc874",
   "metadata": {},
   "outputs": [
    {
     "name": "stdout",
     "output_type": "stream",
     "text": [
      "20 25\n",
      "CPU times: total: 0 ns\n",
      "Wall time: 0 ns\n"
     ]
    }
   ],
   "source": [
    "%%time\n",
    "lst1=[1,2,3,4,5,6,7,8,9]\n",
    "evensum=0\n",
    "oddsum=0\n",
    "for i in lst1:\n",
    "    if i%2==0:\n",
    "        evensum+=i\n",
    "    else:\n",
    "        oddsum+=i\n",
    "print(evensum,oddsum)\n",
    "    \n",
    "        "
   ]
  },
  {
   "cell_type": "markdown",
   "id": "27e3cf06",
   "metadata": {},
   "source": [
    "## (For Else Block) For Loop With Else"
   ]
  },
  {
   "cell_type": "code",
   "execution_count": 22,
   "id": "34aede67",
   "metadata": {},
   "outputs": [
    {
     "name": "stdout",
     "output_type": "stream",
     "text": [
      "Sum is:  10\n"
     ]
    }
   ],
   "source": [
    "# Else block will be executed once the for loop is completed with out any break\n",
    "\n",
    "lst34=[1,2,3,4,10,5,6,7,7,8,9]\n",
    "sum2=0\n",
    "for i in lst34:\n",
    "    if i==10:\n",
    "        break\n",
    "    sum2+=i\n",
    "else:\n",
    "    print(\"The list iteration is completed\")\n",
    "print(\"Sum is: \",sum2)"
   ]
  },
  {
   "cell_type": "code",
   "execution_count": 30,
   "id": "47d9f4b1",
   "metadata": {},
   "outputs": [
    {
     "name": "stdout",
     "output_type": "stream",
     "text": [
      "Even Sum is:20 and Odd Sum is: 25\n"
     ]
    }
   ],
   "source": [
    "# Find the sum of even and odd numbers. If even or odd sum is greater then 20 then implement the break statement.\n",
    "# else print the completion statements\n",
    "\n",
    "lst=[1,2,3,4,5,6,7,8,9,7]\n",
    "even_sum=0\n",
    "odd_sum=0\n",
    "for i in lst:\n",
    "    if i%2==0:\n",
    "        even_sum+=i\n",
    "    else:\n",
    "        odd_sum+=i\n",
    "    if(even_sum > 20 or odd_sum > 20):\n",
    "        break\n",
    "else:\n",
    "    print(\"The list iteration is completed\")\n",
    "print(\"Even Sum is:{} and Odd Sum is: {}\".format(even_sum,odd_sum))"
   ]
  },
  {
   "cell_type": "markdown",
   "id": "e7daa26c",
   "metadata": {},
   "source": [
    "### While Loop"
   ]
  },
  {
   "cell_type": "code",
   "execution_count": 1,
   "id": "54aea6e0",
   "metadata": {},
   "outputs": [
    {
     "name": "stdout",
     "output_type": "stream",
     "text": [
      "55\n"
     ]
    }
   ],
   "source": [
    "## sum of n elements(1,2,3,4,5,6,7,8,9,10)\n",
    "n=10\n",
    "i=1\n",
    "sum1=0\n",
    "\n",
    "while i<=n:\n",
    "    sum1+=i\n",
    "    i+=1\n",
    "print(sum1)\n"
   ]
  },
  {
   "cell_type": "code",
   "execution_count": 4,
   "id": "ef9bf062",
   "metadata": {},
   "outputs": [
    {
     "name": "stdout",
     "output_type": "stream",
     "text": [
      "Enter the Elements number: 10\n",
      "Even number sum is: 30 and Odd number sum is: 25\n"
     ]
    }
   ],
   "source": [
    "## sum of odd and even number for n elements using while loop\n",
    "n= float(input(\"Enter the Elements number: \"))\n",
    "i=1\n",
    "even_sum=0\n",
    "odd_sum=0\n",
    "while i<=n:\n",
    "    if i%2==0:\n",
    "        even_sum+=i\n",
    "    else:\n",
    "        odd_sum+=i\n",
    "    i+=1\n",
    "print(\"Even number sum is: {even_sum1} and Odd number sum is: {odd_sum1}\".format(even_sum1=even_sum,odd_sum1=odd_sum))\n"
   ]
  },
  {
   "cell_type": "markdown",
   "id": "911ee51e",
   "metadata": {},
   "source": [
    "### The range() Funtion"
   ]
  },
  {
   "cell_type": "code",
   "execution_count": 5,
   "id": "f86b2ccb",
   "metadata": {},
   "outputs": [
    {
     "data": {
      "text/plain": [
       "range(0, 10)"
      ]
     },
     "execution_count": 5,
     "metadata": {},
     "output_type": "execute_result"
    }
   ],
   "source": [
    "#Range function is the inbulid funtion in python\n",
    "range(10)"
   ]
  },
  {
   "cell_type": "code",
   "execution_count": 6,
   "id": "a1bf60e0",
   "metadata": {},
   "outputs": [
    {
     "data": {
      "text/plain": [
       "[0, 1, 2, 3, 4, 5, 6, 7, 8, 9]"
      ]
     },
     "execution_count": 6,
     "metadata": {},
     "output_type": "execute_result"
    }
   ],
   "source": [
    "#The sequence is start from 0 to n-1\n",
    "\n",
    "list(range(10))"
   ]
  },
  {
   "cell_type": "code",
   "execution_count": 7,
   "id": "5ef08ebe",
   "metadata": {},
   "outputs": [
    {
     "data": {
      "text/plain": [
       "[4, 5, 6, 7, 8, 9]"
      ]
     },
     "execution_count": 7,
     "metadata": {},
     "output_type": "execute_result"
    }
   ],
   "source": [
    "list(range(4,10))"
   ]
  },
  {
   "cell_type": "code",
   "execution_count": 8,
   "id": "d14aaeb7",
   "metadata": {},
   "outputs": [
    {
     "data": {
      "text/plain": [
       "[4, 6, 8, 10, 12, 14, 16, 18]"
      ]
     },
     "execution_count": 8,
     "metadata": {},
     "output_type": "execute_result"
    }
   ],
   "source": [
    "list(range(4,20,2))"
   ]
  },
  {
   "cell_type": "code",
   "execution_count": 9,
   "id": "4dd0c08f",
   "metadata": {},
   "outputs": [
    {
     "data": {
      "text/plain": [
       "2450"
      ]
     },
     "execution_count": 9,
     "metadata": {},
     "output_type": "execute_result"
    }
   ],
   "source": [
    "sum(range(0,100,2)) # all even numbers sum from 0 to 100"
   ]
  },
  {
   "cell_type": "code",
   "execution_count": 10,
   "id": "eba265ba",
   "metadata": {},
   "outputs": [
    {
     "data": {
      "text/plain": [
       "[100,\n",
       " 98,\n",
       " 96,\n",
       " 94,\n",
       " 92,\n",
       " 90,\n",
       " 88,\n",
       " 86,\n",
       " 84,\n",
       " 82,\n",
       " 80,\n",
       " 78,\n",
       " 76,\n",
       " 74,\n",
       " 72,\n",
       " 70,\n",
       " 68,\n",
       " 66,\n",
       " 64,\n",
       " 62,\n",
       " 60,\n",
       " 58,\n",
       " 56,\n",
       " 54,\n",
       " 52,\n",
       " 50,\n",
       " 48,\n",
       " 46,\n",
       " 44,\n",
       " 42,\n",
       " 40,\n",
       " 38,\n",
       " 36,\n",
       " 34,\n",
       " 32,\n",
       " 30,\n",
       " 28,\n",
       " 26,\n",
       " 24,\n",
       " 22,\n",
       " 20,\n",
       " 18,\n",
       " 16,\n",
       " 14,\n",
       " 12,\n",
       " 10,\n",
       " 8,\n",
       " 6,\n",
       " 4,\n",
       " 2]"
      ]
     },
     "execution_count": 10,
     "metadata": {},
     "output_type": "execute_result"
    }
   ],
   "source": [
    "list(range(100,0,-2))"
   ]
  },
  {
   "cell_type": "markdown",
   "id": "5f671ebd",
   "metadata": {},
   "source": [
    "### Continue "
   ]
  },
  {
   "cell_type": "code",
   "execution_count": 11,
   "id": "58b0ba70",
   "metadata": {},
   "outputs": [
    {
     "name": "stdout",
     "output_type": "stream",
     "text": [
      "s\n",
      "t\n",
      "r\n",
      "n\n",
      "g\n"
     ]
    }
   ],
   "source": [
    "for ch in \"string\":\n",
    "    if ch=='i':\n",
    "        continue\n",
    "    print(ch)\n"
   ]
  },
  {
   "cell_type": "markdown",
   "id": "f82db1db",
   "metadata": {},
   "source": [
    "### String"
   ]
  },
  {
   "cell_type": "code",
   "execution_count": 9,
   "id": "89a1fa72",
   "metadata": {},
   "outputs": [
    {
     "name": "stdout",
     "output_type": "stream",
     "text": [
      "capitalize function:  Bharat chandra soren\n",
      "casefold function:  bharat chandra soren\n",
      "center functions:  *****Bharat Chandra Soren*****\n",
      "count function:  4\n",
      "Encode function:  b'Bharat Chandra Soren'\n",
      "endswith fuction:  True\n",
      "expandtabs function:  Bharat  Chandra Soren\n",
      "find function: 2\n",
      "format function: Out put is:Bharat Chandra Soren,Bharat\tChandra\tSoren\n",
      "format map function: \n",
      "John's last name is Wick\n",
      "Index Functions:  15\n",
      "Isalnum Functions:  False\n"
     ]
    }
   ],
   "source": [
    "## String can be defined useing the single quotes or double quotes\n",
    "str1=\"Bharat Chandra Soren\"\n",
    "str2=\"Bharat\\tChandra\\tSoren\"\n",
    "print(\"capitalize function: \",str1.capitalize()) # Converts the first character of the string to a capital (uppercase) letter\n",
    "print(\"casefold function: \",str1.casefold()) # Implements caseless string matching\n",
    "\n",
    "print(\"center functions: \",str1.center(30,\"*\")) #Pad the string with the specified character.\n",
    "print(\"count function: \",str1.count('a')) #Returns the number of occurrences of a substring in the string.\n",
    "\n",
    "print(\"Encode function: \",str1.encode('utf8','ignore')) #Encodes strings with the specified encoded scheme\n",
    "print(\"endswith fuction: \",str1.endswith('n') ) #Returns “True” if a string ends with the given suffix\n",
    "\n",
    "print(\"expandtabs function: \",str2.expandtabs()) #Specifies the amount of space to be substituted with the “\\t” symbol in the string\n",
    "print(\"find function:\",str1.find(\"a\")) #Returns the lowest index of the substring if it is found\n",
    "\n",
    "\n",
    "# input stored in variable a.\n",
    "a = {'x':'John', 'y':'Wick'}\n",
    "\n",
    "print(\"format function: Out put is:{},{}\".format(str1,str2))#Formats the string for printing it to console\n",
    "print(\"format map function: \") #Formats specified values in a string using a dictionary\n",
    "\n",
    "# Use of format_map() function\n",
    "print(\"{x}'s last name is {y}\".format_map(a))\n",
    "\n",
    "print(\"Index Functions: \", str1.index('S')) #Returns the position of the first occurrence of a substring in a string\n",
    "print(\"Isalnum Functions: \",str1.isalnum()) #Checks whether all the characters in a given string is alphanumeric or not\n"
   ]
  },
  {
   "cell_type": "markdown",
   "id": "6f34b578",
   "metadata": {},
   "source": [
    "### Difference Between \"casefold\" and \"lower\" functions\n",
    "**casefold()** is suited for caseless matching for **\"unicode\"** characters while str. **lower()** is suited for caseless matching of **\"ASCII\"** characters."
   ]
  },
  {
   "cell_type": "markdown",
   "id": "a0e5f4fe",
   "metadata": {},
   "source": [
    "### Difference Between the Unicode and ANSCII Charecters\n",
    "**Unicode:** is the universal character encoding used to process, store and facilitate the interchange of text data in any language                       \n",
    "\n",
    "**ASCII:** (American Standard Code for Information Interchange(ASCII))  is used for the representation of text such as symbols, letters, digits, etc. in computers.  It is a character encoding standard for electronic communication\n",
    "\n",
    "For more details please refer to below link\n",
    "https://www.geeksforgeeks.org/ascii-vs-unicode/"
   ]
  },
  {
   "cell_type": "code",
   "execution_count": null,
   "id": "c7249f2e",
   "metadata": {},
   "outputs": [],
   "source": []
  }
 ],
 "metadata": {
  "kernelspec": {
   "display_name": "Python 3 (ipykernel)",
   "language": "python",
   "name": "python3"
  },
  "language_info": {
   "codemirror_mode": {
    "name": "ipython",
    "version": 3
   },
   "file_extension": ".py",
   "mimetype": "text/x-python",
   "name": "python",
   "nbconvert_exporter": "python",
   "pygments_lexer": "ipython3",
   "version": "3.9.12"
  }
 },
 "nbformat": 4,
 "nbformat_minor": 5
}
