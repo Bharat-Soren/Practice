{
 "cells": [
  {
   "cell_type": "code",
   "execution_count": 1,
   "id": "3660c736",
   "metadata": {},
   "outputs": [],
   "source": [
    "# Function Overloading\n",
    "# with one function name we can have multiple function defined within single class.\n",
    "\n",
    "# But in python function overloading is not dirctly supported.\n",
    "# we have workaround to achive it.\n",
    "# Keyword arguments is the solution for this.(Default Arguments)\n",
    "\n",
    "def calculation(var1,var2,operation='+'):\n",
    "    if operation=='+':\n",
    "        return var1+var2\n",
    "    elif operation=='-':\n",
    "        return var1-var2\n",
    "    else:\n",
    "        return var1*var2"
   ]
  },
  {
   "cell_type": "code",
   "execution_count": 4,
   "id": "5d414822",
   "metadata": {},
   "outputs": [
    {
     "name": "stdout",
     "output_type": "stream",
     "text": [
      "-1\n"
     ]
    }
   ],
   "source": [
    "print(calculation(2,3,'-'))"
   ]
  },
  {
   "cell_type": "markdown",
   "id": "3dcc2837",
   "metadata": {},
   "source": [
    "# OPPS Concept (Object Oriented Programing)\n",
    "\n",
    "It is having four basic pilar of the OPPS concept.\n",
    "\n",
    "1. Inheritance\n",
    "2. Polymorphisim\n",
    "3. Encapsulation\n",
    "4. Abstraction"
   ]
  },
  {
   "cell_type": "code",
   "execution_count": 5,
   "id": "0a651f19",
   "metadata": {},
   "outputs": [],
   "source": [
    "# Inheritance\n",
    "\n",
    "# Plymorphisim\n",
    "    # Poly + Morphic --> Single thing with multiple behaviour\n",
    "    \n",
    "# Encapsulation\n",
    "# All the variables should be wrapped inside the functions.\n",
    "# All the functions should be wrapped inside the class.\n",
    "# All the classes should be wrapped inside the package\n",
    "# All the packages should be wrapped inside the Project.\n",
    "\n",
    "# Abstraction\n",
    " # It is to provide the security. LIke cashior in the bank"
   ]
  },
  {
   "cell_type": "markdown",
   "id": "eae0f576",
   "metadata": {},
   "source": [
    "# Class\n"
   ]
  },
  {
   "cell_type": "code",
   "execution_count": 6,
   "id": "44376eef",
   "metadata": {},
   "outputs": [],
   "source": [
    "# Syntax: class Classname:\n",
    "class Person:\n",
    "    pass"
   ]
  },
  {
   "cell_type": "code",
   "execution_count": 7,
   "id": "c7510a48",
   "metadata": {},
   "outputs": [],
   "source": [
    "bharat_soren=Person()\n",
    "bharat_soren.name=\"Bharat\"\n",
    "bharat_soren.surname=\"Soren\"\n",
    "bharat_soren.Age=32\n"
   ]
  },
  {
   "cell_type": "code",
   "execution_count": 8,
   "id": "e5b1d139",
   "metadata": {},
   "outputs": [
    {
     "name": "stdout",
     "output_type": "stream",
     "text": [
      "<__main__.Person object at 0x000002159FA6BBB0>\n"
     ]
    }
   ],
   "source": [
    "print(bharat_soren)"
   ]
  },
  {
   "cell_type": "code",
   "execution_count": 17,
   "id": "7e8b4639",
   "metadata": {},
   "outputs": [
    {
     "name": "stdout",
     "output_type": "stream",
     "text": [
      "First name is: Bharat , Last name is: Soren and Age is: 32\n"
     ]
    }
   ],
   "source": [
    "print(\"First name is: %s , Last name is: %s and Age is: %d\"%(bharat_soren.name,bharat_soren.surname,bharat_soren.Age))"
   ]
  },
  {
   "cell_type": "code",
   "execution_count": 20,
   "id": "fe88188e",
   "metadata": {},
   "outputs": [
    {
     "name": "stdout",
     "output_type": "stream",
     "text": [
      "First name is: Bharat , Last name is: Soren and Age is: 1990\n"
     ]
    }
   ],
   "source": [
    "class Person:\n",
    "    def __init__(self,name,surname,yearofbirth):\n",
    "        self.name1=name\n",
    "        self.surname=surname\n",
    "        self.yearofbirth=yearofbirth\n",
    "        \n",
    "    def test(self):\n",
    "        print(\"Hi\")\n",
    "        \n",
    "alec=Person(\"Bharat\",\"Soren\",1990)\n",
    "\n",
    "print(\"First name is: %s , Last name is: %s and Age is: %d\" %(alec.name1,alec.surname,alec.yearofbirth))"
   ]
  }
 ],
 "metadata": {
  "kernelspec": {
   "display_name": "Python 3 (ipykernel)",
   "language": "python",
   "name": "python3"
  },
  "language_info": {
   "codemirror_mode": {
    "name": "ipython",
    "version": 3
   },
   "file_extension": ".py",
   "mimetype": "text/x-python",
   "name": "python",
   "nbconvert_exporter": "python",
   "pygments_lexer": "ipython3",
   "version": "3.9.12"
  }
 },
 "nbformat": 4,
 "nbformat_minor": 5
}
