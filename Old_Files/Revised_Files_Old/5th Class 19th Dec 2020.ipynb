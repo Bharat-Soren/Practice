{
 "cells": [
  {
   "cell_type": "markdown",
   "id": "1242882f",
   "metadata": {},
   "source": [
    "# Encapsulation\n"
   ]
  },
  {
   "cell_type": "code",
   "execution_count": 1,
   "id": "cefe2217",
   "metadata": {},
   "outputs": [],
   "source": [
    "class Tyre:\n",
    "    def __init__(self,branch, belted_bias,opt_pressure):\n",
    "        self.branch=branch\n",
    "        self.belted_bias=belted_bias\n",
    "        self.opt_pressure=opt_pressure\n",
    "    def __str__(self):\n",
    "        return (\"Tyres: \\n \\t Branch: \"+self.branch+\n",
    "               \"\\n \\t Belted-bias: \"+str(self.belted_bias) +\n",
    "               \"\\n \\t opt_pressure: \"+str(self.opt_pressure))\n",
    "class Engine:\n",
    "    def __init__(self,fuel_type,noise_level):\n",
    "        self.fuel_type=fuel_type\n",
    "        self.noise_level=noise_level\n",
    "        \n",
    "    def __str__(self):\n",
    "        return (\"Engine:  \\n \\t fuel_type: \"+ self.fuel_type +\n",
    "               \"\\n \\t noise_level: \"+str(self.noise_level))\n",
    "class Body:\n",
    "    def __init__(self,size):\n",
    "        self.size=size\n",
    "        \n",
    "    def __str__(self):\n",
    "        return (\"Body:  \\n \\t Size: \"+ str(self.size))\n",
    "    \n",
    "class Car:\n",
    "    def __init__(self,tyres,engine,body):\n",
    "        self.tyre=tyres\n",
    "        self.engine=engine\n",
    "        self.body=body\n",
    "        \n",
    "    def __str__(self):\n",
    "        return (str(self.tyre)+ \"\\n\" +\n",
    "                str(self.engine)+ \"\\n\" +\n",
    "                str(self.body))"
   ]
  },
  {
   "cell_type": "code",
   "execution_count": 15,
   "id": "10982a67",
   "metadata": {},
   "outputs": [
    {
     "name": "stdout",
     "output_type": "stream",
     "text": [
      "Tyres: \n",
      " \t Branch: Baripada\n",
      " \t Belted-bias: True\n",
      " \t opt_pressure: 2.0\n",
      "Engine:  \n",
      " \t fuel_type: Petrol\n",
      " \t noise_level: 3\n",
      "Body:  \n",
      " \t Size: Medium\n"
     ]
    }
   ],
   "source": [
    "t=Tyre(\"Baripada\",True,2.0)\n",
    "e=Engine(\"Petrol\",3)\n",
    "b=Body('Medium')\n",
    "c=Car(t,e,b)\n",
    "print(c)"
   ]
  },
  {
   "cell_type": "markdown",
   "id": "76411e46",
   "metadata": {},
   "source": [
    "# Dynamic Extension"
   ]
  },
  {
   "cell_type": "code",
   "execution_count": 32,
   "id": "10b57179",
   "metadata": {},
   "outputs": [],
   "source": [
    "class Dog:\n",
    "    def __init__(self,name,year_of_birth,breed):\n",
    "        self.name=name\n",
    "        self.year_of_birth=year_of_birth\n",
    "        self.breed =breed\n",
    "    def __str__(self):\n",
    "        return (\"%s is a %s and born in %d .\" %(self.name,self.breed,self.year_of_birth))"
   ]
  },
  {
   "cell_type": "code",
   "execution_count": 33,
   "id": "26acf7c7",
   "metadata": {},
   "outputs": [
    {
     "name": "stdout",
     "output_type": "stream",
     "text": [
      "Kudrajavak is a Laika and born in 2019 .\n"
     ]
    }
   ],
   "source": [
    "kudrajavak = Dog(\"Kudrajavak\",2019,\"Laika\")\n",
    "print(kudrajavak)"
   ]
  },
  {
   "cell_type": "code",
   "execution_count": 34,
   "id": "43b1a41c",
   "metadata": {},
   "outputs": [],
   "source": [
    "class Student:\n",
    "    def __init__(self, anagraphic, student_id):\n",
    "        self.anagraphic = anagraphic\n",
    "        self.student_id = student_id\n",
    "        \n",
    "    def __str__(self):\n",
    "        return str(self.anagraphic) +\" Student Id: \" + str(self.student_id)"
   ]
  },
  {
   "cell_type": "code",
   "execution_count": 35,
   "id": "f7639367",
   "metadata": {},
   "outputs": [
    {
     "name": "stdout",
     "output_type": "stream",
     "text": [
      "Khid Student Id: 1\n"
     ]
    }
   ],
   "source": [
    "stu= Student(\"Khid\",1)\n",
    "print(stu)"
   ]
  },
  {
   "cell_type": "code",
   "execution_count": 36,
   "id": "8017762d",
   "metadata": {},
   "outputs": [
    {
     "name": "stdout",
     "output_type": "stream",
     "text": [
      "Kudrajavak is a Laika and born in 2019 . Student Id: 2\n"
     ]
    }
   ],
   "source": [
    "kudrajavak_stu =Student(kudrajavak,2)\n",
    "print(kudrajavak_stu)"
   ]
  },
  {
   "cell_type": "markdown",
   "id": "5633c4e2",
   "metadata": {},
   "source": [
    "# Polymorphisim and Duck Typing(Dynamic Typing)"
   ]
  },
  {
   "cell_type": "code",
   "execution_count": 39,
   "id": "d8d75e88",
   "metadata": {},
   "outputs": [
    {
     "name": "stdout",
     "output_type": "stream",
     "text": [
      "2\n",
      "['a', 'b', 'c', 'd', 'e', 'f']\n",
      "abbra Ka dabbra\n"
     ]
    }
   ],
   "source": [
    "def summer(a,b):\n",
    "    return a+b\n",
    "\n",
    "print(summer(1,1))\n",
    "print(summer(['a','b','c'],['d','e','f']))\n",
    "print(summer(\"abbra\",\" Ka dabbra\"))"
   ]
  },
  {
   "cell_type": "markdown",
   "id": "731c280b",
   "metadata": {},
   "source": [
    "# How long does a class should be ?"
   ]
  },
  {
   "cell_type": "markdown",
   "id": "93d4d567",
   "metadata": {},
   "source": [
    "There is an Object Oriented Programming(OOP) concept called Single Responsibility Principle(SRP) and it states: \" A class should have one single responsibility\" or \" A class should have only one reason to change\".\n",
    "\n",
    "If you come across a class which doesn't follow the SRP principle, you should split it. You will be greatfull to SRP during your software maintance."
   ]
  },
  {
   "cell_type": "markdown",
   "id": "0bf092d9",
   "metadata": {},
   "source": [
    "# Assignments \n",
    "\n",
    "Create a __Student Class__\n",
    "\n",
    "    first_name\n",
    "    Surname\n",
    "    year of birth\n",
    "    class\n",
    "    \n",
    "   **str** needs to be *implemented* (It should show student details)\n",
    "   \n",
    "Create a __School Class__\n",
    "\n",
    "     school class should be inherited from the student class\n",
    "     school name\n",
    "     \n",
    "You are supposed to ask the user about How many students are there and Based on their input get the details of all the student and create a object for each student.\n",
    "At the end show all the student and school details.\n",
    " \n",
    " "
   ]
  },
  {
   "cell_type": "code",
   "execution_count": 47,
   "id": "290ec2f3",
   "metadata": {},
   "outputs": [],
   "source": [
    "class Student:\n",
    "    def __init__(self,student_id):\n",
    "        self.student_id=student_id\n",
    "        self.first_name=input(\"for Id: \"+str(student_id)+\" Enter the First Name: \")\n",
    "        self.surname=input(\"for Id: \"+str(student_id)+\" Enter the Last Name: \")\n",
    "        self.year_of_birth=input(\"for Id: \"+str(student_id)+\" Enter the Year Of Birth: \")\n",
    "        self.Class=input(\"for Id: \"+str(student_id)+\" Enter the Class : \")\n",
    "        \n",
    "    def __str__(self):\n",
    "        return (\"Student Id: \"+ str(self.student_id)\n",
    "                + \"\\n \\t First Name: \"+ str(self.first_name)\n",
    "                + \"\\n \\t Surname: \"+ str(self.surname) \n",
    "                + \"\\n \\t Year Of Birth: \" + str(self.year_of_birth)\n",
    "                + \"\\n \\t Class: \"+str(self.Class))"
   ]
  },
  {
   "cell_type": "code",
   "execution_count": 48,
   "id": "a40d16d5",
   "metadata": {},
   "outputs": [],
   "source": [
    "class School(Student):\n",
    "    def __init__(self,school_name,*args):\n",
    "        self.school_name= school_name\n",
    "        super(School,self).__init__(*args)\n",
    "        \n",
    "    def __str__(self):\n",
    "        return super(School,self).__str__()\n",
    "        print(\"\\n \\t School Name is: \" + self.school_name)            "
   ]
  },
  {
   "cell_type": "code",
   "execution_count": 52,
   "id": "dd58b4fe",
   "metadata": {},
   "outputs": [],
   "source": [
    "def creatSchStu():\n",
    "    \n",
    "    lst=[]\n",
    "    sch_name=input(\"Enter the School Name :\")\n",
    "    sn = int(input(\"How many Students data you wanted to enter ? :\"))\n",
    "    if type(sn)==int:\n",
    "        for i in range(sn):\n",
    "            student_id=i+1\n",
    "            sch_obj=School(sch_name,student_id)\n",
    "            lst.append(sch_obj)\n",
    "        print(\"School Name is: \"+sch_name)\n",
    "        for s in lst:\n",
    "            print(s)\n",
    "        \n",
    "    else:\n",
    "        print(\"Enter a Integer Value: \")"
   ]
  },
  {
   "cell_type": "code",
   "execution_count": 53,
   "id": "2efd5bb8",
   "metadata": {},
   "outputs": [
    {
     "name": "stdout",
     "output_type": "stream",
     "text": [
      "Enter the School Name :2\n",
      "How many Students data you wanted to enter ? :2\n",
      "for Id: 1 Enter the First Name: Bharat\n",
      "for Id: 1 Enter the Last Name: Soren\n",
      "for Id: 1 Enter the Year Of Birth: 4\n",
      "for Id: 1 Enter the Class : 5\n",
      "for Id: 2 Enter the First Name: jlkjdsfl\n",
      "for Id: 2 Enter the Last Name: kljdslf\n",
      "for Id: 2 Enter the Year Of Birth: 5\n",
      "for Id: 2 Enter the Class : 8\n",
      "School Name is: 2\n",
      "Student Id: 1\n",
      " \t First Name: Bharat\n",
      " \t Surname: Soren\n",
      " \t Year Of Birth: 4\n",
      " \t Class: 5\n",
      "Student Id: 2\n",
      " \t First Name: jlkjdsfl\n",
      " \t Surname: kljdslf\n",
      " \t Year Of Birth: 5\n",
      " \t Class: 8\n"
     ]
    }
   ],
   "source": [
    "creatSchStu()"
   ]
  },
  {
   "cell_type": "markdown",
   "id": "2e61d45a",
   "metadata": {},
   "source": [
    "# Files\n"
   ]
  },
  {
   "cell_type": "markdown",
   "id": "217264b1",
   "metadata": {},
   "source": [
    "## iPython writing a file"
   ]
  },
  {
   "cell_type": "code",
   "execution_count": 90,
   "id": "7a3166d6",
   "metadata": {},
   "outputs": [
    {
     "name": "stdout",
     "output_type": "stream",
     "text": [
      "Overwriting test.txt\n"
     ]
    }
   ],
   "source": [
    "%%writefile test.txt\n",
    "Hello, This is a quick test file.\n",
    "Second line"
   ]
  },
  {
   "cell_type": "code",
   "execution_count": 57,
   "id": "53c34f1d",
   "metadata": {},
   "outputs": [
    {
     "data": {
      "text/plain": [
       "'D:\\\\Data Science\\\\Practice'"
      ]
     },
     "execution_count": 57,
     "metadata": {},
     "output_type": "execute_result"
    }
   ],
   "source": [
    "pwd() # TO check the current working directory"
   ]
  },
  {
   "cell_type": "markdown",
   "id": "44ae43bb",
   "metadata": {},
   "source": [
    "### Python Opening a File (Default function Present in Python)"
   ]
  },
  {
   "cell_type": "code",
   "execution_count": 87,
   "id": "490aae98",
   "metadata": {},
   "outputs": [],
   "source": [
    " # Open text file we previouly created (test.txt)\n",
    "my_file=open(\"test.txt\")"
   ]
  },
  {
   "cell_type": "code",
   "execution_count": 76,
   "id": "f1f161cc",
   "metadata": {},
   "outputs": [
    {
     "data": {
      "text/plain": [
       "'Hello, This is a quick test file.\\nSecond line\\n'"
      ]
     },
     "execution_count": 76,
     "metadata": {},
     "output_type": "execute_result"
    }
   ],
   "source": [
    "# Now read the opened file\n",
    "my_file.read()"
   ]
  },
  {
   "cell_type": "code",
   "execution_count": 61,
   "id": "5ebcd6cb",
   "metadata": {},
   "outputs": [
    {
     "data": {
      "text/plain": [
       "''"
      ]
     },
     "execution_count": 61,
     "metadata": {},
     "output_type": "execute_result"
    }
   ],
   "source": [
    "# Now if we again run the read() command then it won't show anything because the cursor present in the file end location\n",
    "my_file.read()"
   ]
  },
  {
   "cell_type": "code",
   "execution_count": 85,
   "id": "ee47addc",
   "metadata": {},
   "outputs": [
    {
     "data": {
      "text/plain": [
       "20"
      ]
     },
     "execution_count": 85,
     "metadata": {},
     "output_type": "execute_result"
    }
   ],
   "source": [
    "# Seek to start of the file(\"index(0)\") --> seek(0)\n",
    "my_file.seek(20)\n",
    "# my_file.seek(0)   # bring file cursor to initial position\n",
    "# my_file.tell()    # get the current file position"
   ]
  },
  {
   "cell_type": "code",
   "execution_count": 67,
   "id": "b9fe647a",
   "metadata": {},
   "outputs": [
    {
     "data": {
      "text/plain": [
       "'ck test file.\\n'"
      ]
     },
     "execution_count": 67,
     "metadata": {},
     "output_type": "execute_result"
    }
   ],
   "source": [
    "my_file.read()"
   ]
  },
  {
   "cell_type": "code",
   "execution_count": 93,
   "id": "2cf1365b",
   "metadata": {},
   "outputs": [
    {
     "data": {
      "text/plain": [
       "''"
      ]
     },
     "execution_count": 93,
     "metadata": {},
     "output_type": "execute_result"
    }
   ],
   "source": [
    "# readline() returns a list of line present in the files. \n",
    "my_file.readline()"
   ]
  },
  {
   "cell_type": "markdown",
   "id": "2aec2d6e",
   "metadata": {},
   "source": [
    "#### Writing to a File\n",
    "\n",
    "By default using open() function will only allow to read the file."
   ]
  },
  {
   "cell_type": "code",
   "execution_count": 84,
   "id": "773fde18",
   "metadata": {},
   "outputs": [],
   "source": [
    "# Add the second argument to the function +w\n",
    "my_file=open('test.txt','w+')"
   ]
  },
  {
   "cell_type": "markdown",
   "id": "4185f0eb",
   "metadata": {},
   "source": [
    "## Iterating Through a File"
   ]
  },
  {
   "cell_type": "code",
   "execution_count": 94,
   "id": "48fc3ed2",
   "metadata": {},
   "outputs": [
    {
     "name": "stdout",
     "output_type": "stream",
     "text": [
      "Overwriting test.txt\n"
     ]
    }
   ],
   "source": [
    "%%writefile test.txt\n",
    "Hello, This is a quick test file.\n",
    "Second line"
   ]
  },
  {
   "cell_type": "code",
   "execution_count": 95,
   "id": "80b67a87",
   "metadata": {},
   "outputs": [
    {
     "name": "stdout",
     "output_type": "stream",
     "text": [
      "Hello, This is a quick test file.\n",
      "\n",
      "Second line\n",
      "\n"
     ]
    }
   ],
   "source": [
    "for line in open(\"test.txt\"):\n",
    "    print(line)"
   ]
  },
  {
   "cell_type": "markdown",
   "id": "14aa9410",
   "metadata": {},
   "source": [
    "## StringIO\n",
    "\n",
    "StringIO module implements an inmemory file like object. This object Can then be used as input or output to most functions that would expect a standard file object "
   ]
  },
  {
   "cell_type": "code",
   "execution_count": 97,
   "id": "a57c154d",
   "metadata": {},
   "outputs": [],
   "source": [
    "from io import StringIO"
   ]
  },
  {
   "cell_type": "code",
   "execution_count": 100,
   "id": "3344c998",
   "metadata": {},
   "outputs": [],
   "source": [
    "#Arbtrary String\n",
    "message ='This just a normal string'"
   ]
  },
  {
   "cell_type": "code",
   "execution_count": 103,
   "id": "4f72158e",
   "metadata": {},
   "outputs": [],
   "source": [
    "# use stringIO method to set a file object\n",
    "f = StringIO(message)"
   ]
  },
  {
   "cell_type": "markdown",
   "id": "23c302fe",
   "metadata": {},
   "source": [
    "Now we have a object f that we will be able to treat just like a file for example:"
   ]
  },
  {
   "cell_type": "code",
   "execution_count": 104,
   "id": "df2f3d60",
   "metadata": {},
   "outputs": [
    {
     "data": {
      "text/plain": [
       "'This just a normal string'"
      ]
     },
     "execution_count": 104,
     "metadata": {},
     "output_type": "execute_result"
    }
   ],
   "source": [
    "f.read()"
   ]
  },
  {
   "cell_type": "code",
   "execution_count": 105,
   "id": "daf13f00",
   "metadata": {},
   "outputs": [
    {
     "data": {
      "text/plain": [
       "''"
      ]
     },
     "execution_count": 105,
     "metadata": {},
     "output_type": "execute_result"
    }
   ],
   "source": [
    "f.read()"
   ]
  },
  {
   "cell_type": "code",
   "execution_count": 107,
   "id": "d8a42562",
   "metadata": {},
   "outputs": [
    {
     "data": {
      "text/plain": [
       "25"
      ]
     },
     "execution_count": 107,
     "metadata": {},
     "output_type": "execute_result"
    }
   ],
   "source": [
    "f.tell()"
   ]
  },
  {
   "cell_type": "code",
   "execution_count": 108,
   "id": "6cc7e7e4",
   "metadata": {},
   "outputs": [
    {
     "data": {
      "text/plain": [
       "0"
      ]
     },
     "execution_count": 108,
     "metadata": {},
     "output_type": "execute_result"
    }
   ],
   "source": [
    "f.seek(0)"
   ]
  },
  {
   "cell_type": "code",
   "execution_count": 109,
   "id": "fb346eb8",
   "metadata": {},
   "outputs": [
    {
     "data": {
      "text/plain": [
       "'This just a normal string'"
      ]
     },
     "execution_count": 109,
     "metadata": {},
     "output_type": "execute_result"
    }
   ],
   "source": [
    "f.read()"
   ]
  },
  {
   "cell_type": "markdown",
   "id": "d756e6fa",
   "metadata": {},
   "source": [
    "We can also able to write to the file object"
   ]
  },
  {
   "cell_type": "code",
   "execution_count": 114,
   "id": "0a76481d",
   "metadata": {},
   "outputs": [
    {
     "data": {
      "text/plain": [
       "22"
      ]
     },
     "execution_count": 114,
     "metadata": {},
     "output_type": "execute_result"
    }
   ],
   "source": [
    "f.write(\"\\nThis is a new message\") # This operation will keep on appending the string into the object"
   ]
  },
  {
   "cell_type": "code",
   "execution_count": 115,
   "id": "be366182",
   "metadata": {},
   "outputs": [
    {
     "data": {
      "text/plain": [
       "'This just a normal stringThis is a new message\\nThis is a new message'"
      ]
     },
     "execution_count": 115,
     "metadata": {},
     "output_type": "execute_result"
    }
   ],
   "source": [
    "f.seek(0)\n",
    "f.read()"
   ]
  },
  {
   "cell_type": "code",
   "execution_count": null,
   "id": "ff730a9e",
   "metadata": {},
   "outputs": [],
   "source": []
  }
 ],
 "metadata": {
  "kernelspec": {
   "display_name": "Python 3 (ipykernel)",
   "language": "python",
   "name": "python3"
  },
  "language_info": {
   "codemirror_mode": {
    "name": "ipython",
    "version": 3
   },
   "file_extension": ".py",
   "mimetype": "text/x-python",
   "name": "python",
   "nbconvert_exporter": "python",
   "pygments_lexer": "ipython3",
   "version": "3.9.12"
  }
 },
 "nbformat": 4,
 "nbformat_minor": 5
}
