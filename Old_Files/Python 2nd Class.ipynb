{
 "cells": [
  {
   "cell_type": "markdown",
   "id": "bc529b08",
   "metadata": {},
   "source": [
    "### List Comprehension"
   ]
  },
  {
   "cell_type": "code",
   "execution_count": 22,
   "id": "1c471b61",
   "metadata": {},
   "outputs": [
    {
     "data": {
      "text/plain": [
       "list"
      ]
     },
     "execution_count": 22,
     "metadata": {},
     "output_type": "execute_result"
    }
   ],
   "source": [
    "lst=[1,2,3,4,\"Bharat\"]\n",
    "type(lst)"
   ]
  },
  {
   "cell_type": "code",
   "execution_count": 27,
   "id": "44ddc439",
   "metadata": {},
   "outputs": [
    {
     "name": "stdout",
     "output_type": "stream",
     "text": [
      "['Bharat', 4, 3, 2, 1]\n"
     ]
    }
   ],
   "source": [
    "lst\n",
    "lst.reverse() # IT permanently sort the element in the list\n",
    "print(lst)"
   ]
  },
  {
   "cell_type": "code",
   "execution_count": 30,
   "id": "c324f5db",
   "metadata": {},
   "outputs": [
    {
     "name": "stdout",
     "output_type": "stream",
     "text": [
      "['teewS', 'emoH', 'neroS', 'ardnahC', 'tarahB']\n"
     ]
    }
   ],
   "source": [
    "lst4=[\"Bharat\",\"Chandra\",\"Soren\",\"Home\",\"Sweet\"]\n",
    "rlst4=[i[::-1] for i in lst4[::-1]] ## Reverse the list and also items inside it\n",
    "print(rlst4)"
   ]
  },
  {
   "cell_type": "code",
   "execution_count": 2,
   "id": "82ef60dc",
   "metadata": {},
   "outputs": [
    {
     "name": "stdout",
     "output_type": "stream",
     "text": [
      "list Elements [1, 2, 3, 4]\n",
      "[1, 4, 9, 16]\n"
     ]
    }
   ],
   "source": [
    "lst1=[1,2,3,4]\n",
    "lst2=[]\n",
    "print(\"list Elements\",lst1)\n",
    "for i in lst1:\n",
    "    lst2.append(i**2)\n",
    "print(lst2)\n"
   ]
  },
  {
   "cell_type": "code",
   "execution_count": 3,
   "id": "887a9186",
   "metadata": {},
   "outputs": [
    {
     "name": "stdout",
     "output_type": "stream",
     "text": [
      "[1, 4, 9, 16]\n",
      "[2, 4, 6, 8, 10]\n",
      "Sum of even Numbers: 30\n"
     ]
    }
   ],
   "source": [
    "lst2=[i**2 for i in lst1]\n",
    "print(lst2)\n",
    "##Sum of even number inside the Collection\n",
    "lst3=[1,2,3,4,5,6,7,8,9,10]\n",
    "even=[i for i in lst3 if i%2==0]\n",
    "print(even)\n",
    "print(\"Sum of even Numbers:\",sum([i for i in lst3 if i%2==0]))"
   ]
  },
  {
   "cell_type": "markdown",
   "id": "bd289a48",
   "metadata": {},
   "source": [
    "## Tuples"
   ]
  },
  {
   "cell_type": "code",
   "execution_count": 6,
   "id": "d512c63b",
   "metadata": {},
   "outputs": [
    {
     "name": "stdout",
     "output_type": "stream",
     "text": [
      "(1, 2, 3, 4, 5)\n",
      "<class 'tuple'>\n"
     ]
    }
   ],
   "source": [
    "##Tuples is simillar to List\n",
    "#We Can create a tuples with different data type.\n",
    "\n",
    "t=(1,2,3,4,5)\n",
    "print(t)\n",
    "\n",
    "m= tuple([1,2,3,4,5,\"Bharat\"])\n",
    "print(type(m))\n",
    "\n"
   ]
  },
  {
   "cell_type": "code",
   "execution_count": 14,
   "id": "ae8c137f",
   "metadata": {},
   "outputs": [
    {
     "name": "stdout",
     "output_type": "stream",
     "text": [
      "Bharat\n",
      "(3, 4, 5, 'Bharat')\n",
      "(1, 2, 3, 4, 5)\n",
      "('Bharat', 5, 4, 3, 2, 1)\n"
     ]
    }
   ],
   "source": [
    "print(m[5]) # show 5th index element\n",
    "print(m[2:]) # show from 2nd index to Last\n",
    "print(m[:-1]) #Show all except last element\n",
    "print(m[::-1]) ## Reverse the Order"
   ]
  },
  {
   "cell_type": "code",
   "execution_count": 16,
   "id": "8c14607c",
   "metadata": {},
   "outputs": [
    {
     "ename": "TypeError",
     "evalue": "'tuple' object does not support item assignment",
     "output_type": "error",
     "traceback": [
      "\u001b[1;31m---------------------------------------------------------------------------\u001b[0m",
      "\u001b[1;31mTypeError\u001b[0m                                 Traceback (most recent call last)",
      "Input \u001b[1;32mIn [16]\u001b[0m, in \u001b[0;36m<cell line: 3>\u001b[1;34m()\u001b[0m\n\u001b[0;32m      1\u001b[0m \u001b[38;5;66;03m# Tuple is immutable\u001b[39;00m\n\u001b[1;32m----> 3\u001b[0m m[\u001b[38;5;241m5\u001b[39m]\u001b[38;5;241m=\u001b[39m\u001b[38;5;124m'\u001b[39m\u001b[38;5;124mSoren\u001b[39m\u001b[38;5;124m'\u001b[39m\n",
      "\u001b[1;31mTypeError\u001b[0m: 'tuple' object does not support item assignment"
     ]
    }
   ],
   "source": [
    "# Tuple is immutable: We won't be able to change the element inside the tuple or string. \n",
    "## we will be able to replace the whole string or tuple but won't be able to change the element inside.\n",
    "\n",
    "m[5]='Soren'"
   ]
  },
  {
   "cell_type": "code",
   "execution_count": 31,
   "id": "229503ea",
   "metadata": {},
   "outputs": [
    {
     "data": {
      "text/plain": [
       "1"
      ]
     },
     "execution_count": 31,
     "metadata": {},
     "output_type": "execute_result"
    }
   ],
   "source": [
    "name=(\"Bharat\",\"Chandra\",\"Soren\")\n",
    "name.count(\"Bharat\")\n",
    "\n"
   ]
  },
  {
   "cell_type": "markdown",
   "id": "f7905ed2",
   "metadata": {},
   "source": [
    "### Set\n",
    "\n",
    "Sets are an unordered collection of unique elements which can be constructed using the set() function"
   ]
  },
  {
   "cell_type": "code",
   "execution_count": 2,
   "id": "9829388b",
   "metadata": {},
   "outputs": [
    {
     "data": {
      "text/plain": [
       "tuple"
      ]
     },
     "execution_count": 2,
     "metadata": {},
     "output_type": "execute_result"
    }
   ],
   "source": [
    "t1=(1,2,3,4,5,6)\n",
    "type(t1)"
   ]
  },
  {
   "cell_type": "code",
   "execution_count": 3,
   "id": "f7f719ef",
   "metadata": {},
   "outputs": [
    {
     "name": "stdout",
     "output_type": "stream",
     "text": [
      "<class 'set'>\n",
      "{1, 2, 3, 4, 5, 6}\n",
      "{1, 2, 3, 4, 5, 6, 7, 8}\n"
     ]
    }
   ],
   "source": [
    "print(type(set(t1)))\n",
    "print(set(t1))\n",
    "\n",
    "t2={1,2,3,4,5,6,7,8}\n",
    "print(t2)"
   ]
  },
  {
   "cell_type": "code",
   "execution_count": 8,
   "id": "9673573b",
   "metadata": {},
   "outputs": [
    {
     "data": {
      "text/plain": [
       "{1, 2, 3, 4, 5, 6, 7, 10}"
      ]
     },
     "execution_count": 8,
     "metadata": {},
     "output_type": "execute_result"
    }
   ],
   "source": [
    "x = set()\n",
    "x1={1,2,3,4,5,5,6,7}\n",
    "x2={2,3,4,5,6,7,8}\n",
    "x1.add(10)\n",
    "x1"
   ]
  },
  {
   "cell_type": "code",
   "execution_count": 15,
   "id": "58b44c74",
   "metadata": {},
   "outputs": [
    {
     "name": "stdout",
     "output_type": "stream",
     "text": [
      "{1, 2, 3, 4, 5, 6, 7, 10}\n"
     ]
    },
    {
     "data": {
      "text/plain": [
       "{1, 2, 3, 4, 5, 6, 7, 10}"
      ]
     },
     "execution_count": 15,
     "metadata": {},
     "output_type": "execute_result"
    }
   ],
   "source": [
    "t1=x1.copy()\n",
    "print(t1)\n",
    "\n",
    "t1"
   ]
  },
  {
   "cell_type": "markdown",
   "id": "6068c02c",
   "metadata": {},
   "source": [
    "## Set Functions: "
   ]
  },
  {
   "cell_type": "code",
   "execution_count": 17,
   "id": "1ea22cb1",
   "metadata": {},
   "outputs": [
    {
     "ename": "SyntaxError",
     "evalue": "invalid syntax (1764498422.py, line 2)",
     "output_type": "error",
     "traceback": [
      "\u001b[1;36m  Input \u001b[1;32mIn [17]\u001b[1;36m\u001b[0m\n\u001b[1;33m    Method\t                                  Description\u001b[0m\n\u001b[1;37m          \t                                  ^\u001b[0m\n\u001b[1;31mSyntaxError\u001b[0m\u001b[1;31m:\u001b[0m invalid syntax\n"
     ]
    }
   ],
   "source": [
    "Method\t                                  Description\n",
    "add()------------------------------------>Adds an element to the set\n",
    "clear()---------------------------------->Removes all the elements from the set\n",
    "copy()----------------------------------->Returns a copy of the set\n",
    "difference()----------------------------->Returns a set containing the difference between two or more sets\n",
    "difference_update()---------------------->Removes the items in this set that are also included in another, specified set\n",
    "discard()-------------------------------->Remove the specified item\n",
    "intersection()--------------------------->Returns a set, that is the intersection of two or more sets\n",
    "intersection_update()-------------------->Removes the items in this set that are not present in other, specified set(s)\n",
    "isdisjoint()----------------------------->Returns whether two sets have a intersection or not\n",
    "issubset()------------------------------->Returns whether another set contains this set or not\n",
    "issuperset()----------------------------->Returns whether this set contains another set or not\n",
    "pop()------------------------------------>Removes an element from the set\n",
    "remove()--------------------------------->Removes the specified element\n",
    "symmetric_difference()------------------->Returns a set with the symmetric differences of two sets\n",
    "symmetric_difference_update()------------>inserts the symmetric differences from this set and another\n",
    "union()---------------------------------->Return a set containing the union of sets\n",
    "update()--------------------------------->Update the set with another set, or any other iterable"
   ]
  },
  {
   "cell_type": "markdown",
   "id": "8448c590",
   "metadata": {},
   "source": [
    "## Dictionary\n",
    "\n",
    "It is a combination of *key* *value* pair."
   ]
  },
  {
   "cell_type": "code",
   "execution_count": 18,
   "id": "ef986b15",
   "metadata": {},
   "outputs": [
    {
     "data": {
      "text/plain": [
       "{1: 'Bharat', 2: 'Soren', 3: 31}"
      ]
     },
     "execution_count": 18,
     "metadata": {},
     "output_type": "execute_result"
    }
   ],
   "source": [
    "var={1:\"Bharat\",2:\"Soren\",3:31}\n",
    "var"
   ]
  },
  {
   "cell_type": "code",
   "execution_count": 22,
   "id": "1dce8c46",
   "metadata": {},
   "outputs": [
    {
     "data": {
      "text/plain": [
       "dict_values(['Bharat', 'Soren', 31])"
      ]
     },
     "execution_count": 22,
     "metadata": {},
     "output_type": "execute_result"
    }
   ],
   "source": [
    "## Indexing\n",
    "var.items()\n",
    "var.keys()\n",
    "var.values()\n"
   ]
  },
  {
   "cell_type": "code",
   "execution_count": 24,
   "id": "1ffb23f4",
   "metadata": {},
   "outputs": [
    {
     "data": {
      "text/plain": [
       "'Soren'"
      ]
     },
     "execution_count": 24,
     "metadata": {},
     "output_type": "execute_result"
    }
   ],
   "source": [
    "var[2]"
   ]
  },
  {
   "cell_type": "code",
   "execution_count": 33,
   "id": "f8f96670",
   "metadata": {},
   "outputs": [
    {
     "data": {
      "text/plain": [
       "4"
      ]
     },
     "execution_count": 33,
     "metadata": {},
     "output_type": "execute_result"
    }
   ],
   "source": [
    "my_dict={\"Key1\":\"Bharat\",\"Key2\":[1,2,3,4,5],\"Key3\":[9,8,7,6,5,4,3,2]}\n",
    "my_dict[\"Key2\"][3]"
   ]
  },
  {
   "cell_type": "markdown",
   "id": "eae57bdc",
   "metadata": {},
   "source": [
    "## Nesting with Dictionary"
   ]
  },
  {
   "cell_type": "code",
   "execution_count": 37,
   "id": "39305f1f",
   "metadata": {},
   "outputs": [
    {
     "data": {
      "text/plain": [
       "{'key1': {'key2': {'key3': 'Value'}}}"
      ]
     },
     "execution_count": 37,
     "metadata": {},
     "output_type": "execute_result"
    }
   ],
   "source": [
    "d={\"key1\":{\"key2\":{\"key3\":\"Value\"}}}\n",
    "d"
   ]
  },
  {
   "cell_type": "code",
   "execution_count": 38,
   "id": "fad05260",
   "metadata": {},
   "outputs": [
    {
     "data": {
      "text/plain": [
       "'Value'"
      ]
     },
     "execution_count": 38,
     "metadata": {},
     "output_type": "execute_result"
    }
   ],
   "source": [
    "d['key1']['key2']['key3']"
   ]
  },
  {
   "cell_type": "markdown",
   "id": "0659543b",
   "metadata": {},
   "source": [
    "## Dictionary Comprehension"
   ]
  },
  {
   "cell_type": "code",
   "execution_count": 2,
   "id": "6cc3144e",
   "metadata": {},
   "outputs": [
    {
     "data": {
      "text/plain": [
       "{0: 0, 1: 1, 2: 4, 3: 9, 4: 16, 5: 25, 6: 36, 7: 49, 8: 64, 9: 81}"
      ]
     },
     "execution_count": 2,
     "metadata": {},
     "output_type": "execute_result"
    }
   ],
   "source": [
    "# Dec 5th Class\n",
    "{'key1':'value1'}\n",
    "{x:x**2 for x in range(10)}"
   ]
  },
  {
   "cell_type": "markdown",
   "id": "243344dd",
   "metadata": {},
   "source": [
    "### Functions\n",
    "What is function ?\n",
    "\n",
    "Function will be one of our main building blocks when we construct the larger and larger amount of code to solve the problem.\n",
    "\n",
    "Functions groups a set of statements together to run the statements more than once. It allows us to specify the parameters that can serve as input to the function.\n",
    "\n"
   ]
  },
  {
   "cell_type": "code",
   "execution_count": 4,
   "id": "585683cd",
   "metadata": {},
   "outputs": [
    {
     "name": "stdout",
     "output_type": "stream",
     "text": [
      "Hello World\n"
     ]
    }
   ],
   "source": [
    "print(\"Hello World\")"
   ]
  },
  {
   "cell_type": "code",
   "execution_count": 7,
   "id": "82f573d2",
   "metadata": {},
   "outputs": [],
   "source": [
    "## Function\n",
    "## Function syntax\n",
    "def func_name(param1,param2):\n",
    "    # put the code here which you wanted to perform.\n",
    "    pass"
   ]
  },
  {
   "cell_type": "code",
   "execution_count": 16,
   "id": "2acafd70",
   "metadata": {},
   "outputs": [],
   "source": [
    "# function to find the sum of all the even numbers and odd numbers\n",
    "def even_odd_sum(lst):\n",
    "    odd_sum=0\n",
    "    even_sum=0\n",
    "    for i in lst:\n",
    "        if i%2==0:\n",
    "            even_sum+=i\n",
    "        else:\n",
    "            odd_sum+=i\n",
    "   # print(\"even Sum is: {} Odd Sum is: {}\".format(even_sum,odd_sum))\n",
    "    return even_sum,odd_sum"
   ]
  },
  {
   "cell_type": "code",
   "execution_count": 17,
   "id": "a086a030",
   "metadata": {},
   "outputs": [
    {
     "name": "stdout",
     "output_type": "stream",
     "text": [
      "Even Sum is: 20\n",
      "Odd Sum is:  25\n"
     ]
    }
   ],
   "source": [
    "lstnum=[1,2,3,4,5,6,7,8,9]\n",
    "\n",
    "e_su,o_su=even_odd_sum(lstnum)\n",
    "print(\"Even Sum is:\",e_su)\n",
    "print(\"Odd Sum is: \",o_su)"
   ]
  },
  {
   "cell_type": "code",
   "execution_count": 31,
   "id": "1f51902d",
   "metadata": {},
   "outputs": [
    {
     "name": "stdout",
     "output_type": "stream",
     "text": [
      "[8, 10, 12, 14, 9, 11, 2]\n"
     ]
    }
   ],
   "source": [
    "# Function to add the elements of two list\n",
    "def add_list(lst1,lst2):\n",
    "    lstr=[]\n",
    "    lst1ln=len(lst1)\n",
    "    lst2ln=len(lst2)\n",
    "#    print(lst2ln)\n",
    "    rng=0\n",
    "    \n",
    "    if(lst1ln <= lst2ln):\n",
    "        rng=lst2ln\n",
    "    else:\n",
    "        rng=lst1ln\n",
    "      \n",
    "    for i in range(rng):\n",
    "        if(lst1ln>i and lst2ln > i):\n",
    "            lstr.append(lst1[i]+lst2[i])\n",
    "        elif(lst1ln <= i):\n",
    "            lstr.append(lst2[i])\n",
    "        else:\n",
    "            lstr.append(lst1[i])\n",
    "    return lstr\n",
    "    \n",
    "lst1=[2,3,4,5,6,7]\n",
    "lst2=[6,7,8,9,3,4,2]\n",
    "flstr=add_list(lst1,lst2)\n",
    "print(flstr)  "
   ]
  },
  {
   "cell_type": "markdown",
   "id": "4b57bf3a",
   "metadata": {},
   "source": [
    "# Iterator and Generator"
   ]
  },
  {
   "cell_type": "code",
   "execution_count": 2,
   "id": "45755586",
   "metadata": {},
   "outputs": [
    {
     "name": "stdout",
     "output_type": "stream",
     "text": [
      "1\n",
      "2\n",
      "3\n",
      "45\n",
      "6\n",
      "6\n",
      "7\n",
      "9\n"
     ]
    }
   ],
   "source": [
    "# list is iterable\n",
    "for i in [1,2,3,45,6,6,7,9]:\n",
    "    print(i)"
   ]
  },
  {
   "cell_type": "code",
   "execution_count": 10,
   "id": "83bf462e",
   "metadata": {},
   "outputs": [
    {
     "data": {
      "text/plain": [
       "1"
      ]
     },
     "execution_count": 10,
     "metadata": {},
     "output_type": "execute_result"
    }
   ],
   "source": [
    "### Iterator\n",
    "#Iterator can be created on an iterable object.\n",
    "\n",
    "### Lazy Evaluation\n",
    "#Unless and until I call the specific element in the object, that particular element will not get loaded into the chase.\n",
    "\n",
    "a =iter([1,2,3,4,5,6,7,8,9])\n",
    "\n",
    "next(a)\n"
   ]
  },
  {
   "cell_type": "code",
   "execution_count": 9,
   "id": "95469544",
   "metadata": {},
   "outputs": [],
   "source": [
    "for i in a:\n",
    "    print(i)"
   ]
  },
  {
   "cell_type": "code",
   "execution_count": 32,
   "id": "758bef59",
   "metadata": {},
   "outputs": [
    {
     "name": "stdout",
     "output_type": "stream",
     "text": [
      "185.193\n"
     ]
    }
   ],
   "source": [
    "## Generator\n",
    "# Using Functions\n",
    "\n",
    "def get_cube(n):\n",
    "    re=[]\n",
    "    if type(n) ==list:\n",
    "        \n",
    "        for i in n:\n",
    "            re.append(i**3)\n",
    "        return re\n",
    "    elif (type(n)==int) or (type(n)==float):\n",
    "        return n**3\n",
    "    else:\n",
    "        print(\"Enter valid Data\")\n",
    "        \n",
    "lst=[1,2,3,4,5,6]\n",
    "t=5.7\n",
    "print(get_cube(t))\n",
    "  \n",
    "# Generator Function to print the cube of a number\n",
    "      \n",
    "      \n",
    "def getcube(n):\n",
    "    resultset=[]\n",
    "    for i in range(n):\n",
    "        yield i**3\n",
    "      \n",
    "      \n"
   ]
  },
  {
   "cell_type": "code",
   "execution_count": 34,
   "id": "fae5a166",
   "metadata": {},
   "outputs": [],
   "source": [
    "output=getcube(5)\n",
    "output\n",
    "\n",
    "\n",
    "t=7.5\n",
    "#type(t)"
   ]
  },
  {
   "cell_type": "code",
   "execution_count": 36,
   "id": "45993802",
   "metadata": {},
   "outputs": [],
   "source": [
    "## Finbonacci Series\n",
    "\n",
    "def getfiboseries(n):\n",
    "    a=0\n",
    "    b=1\n",
    "    for i in range(n):\n",
    "        yield a\n",
    "        a,b = b,a+b\n",
    "\n",
    "a=getfiboseries(5)\n",
    "    "
   ]
  },
  {
   "cell_type": "code",
   "execution_count": 1,
   "id": "d943293b",
   "metadata": {},
   "outputs": [
    {
     "ename": "NameError",
     "evalue": "name 'a' is not defined",
     "output_type": "error",
     "traceback": [
      "\u001b[1;31m---------------------------------------------------------------------------\u001b[0m",
      "\u001b[1;31mNameError\u001b[0m                                 Traceback (most recent call last)",
      "Input \u001b[1;32mIn [1]\u001b[0m, in \u001b[0;36m<cell line: 1>\u001b[1;34m()\u001b[0m\n\u001b[1;32m----> 1\u001b[0m \u001b[38;5;28;01mfor\u001b[39;00m i \u001b[38;5;129;01min\u001b[39;00m \u001b[43ma\u001b[49m:\n\u001b[0;32m      2\u001b[0m     \u001b[38;5;28mprint\u001b[39m(i)\n",
      "\u001b[1;31mNameError\u001b[0m: name 'a' is not defined"
     ]
    }
   ],
   "source": [
    "for i in a:\n",
    "    print(i)\n",
    "    \n",
    "# Map Function\n",
    "#"
   ]
  },
  {
   "cell_type": "markdown",
   "id": "3017f49d",
   "metadata": {},
   "source": [
    "## Map()\n",
    "Map is the function which take two argument\n",
    "1. Function\n",
    "2. A sequence iterable\n"
   ]
  },
  {
   "cell_type": "code",
   "execution_count": 3,
   "id": "cf8e5326",
   "metadata": {},
   "outputs": [
    {
     "data": {
      "text/plain": [
       "25"
      ]
     },
     "execution_count": 3,
     "metadata": {},
     "output_type": "execute_result"
    }
   ],
   "source": [
    "# function square of the number\n",
    "def square_number(x):\n",
    "    return x*x\n",
    "\n",
    "square_number(5)\n",
    "    "
   ]
  },
  {
   "cell_type": "code",
   "execution_count": 10,
   "id": "aa3c43d3",
   "metadata": {},
   "outputs": [
    {
     "data": {
      "text/plain": [
       "[1, 4, 9, 16, 25, 36, 49, 64, 81]"
      ]
     },
     "execution_count": 10,
     "metadata": {},
     "output_type": "execute_result"
    }
   ],
   "source": [
    "#square_number([1,2,3,4,5,6,7,8,9])\n",
    "xt=[1,2,3,4,5,6,7,8,9]\n",
    "res=map(square_number,xt)\n",
    "\n",
    "#for i in res:\n",
    "#    print(i)\n",
    "list(res)"
   ]
  },
  {
   "cell_type": "code",
   "execution_count": 38,
   "id": "9f29acb3",
   "metadata": {},
   "outputs": [],
   "source": [
    "# Convert the celsius to fahrenheit\n",
    "\n",
    "def fahrenheit(T):\n",
    "    return((float(9)/5)*T+32)\n",
    "\n",
    "def celsius(T):\n",
    "    return(float(5)/9)*(T-32)\n",
    "\n",
    "def sums(x,y):\n",
    "    return x+y"
   ]
  },
  {
   "cell_type": "code",
   "execution_count": 13,
   "id": "d5ffdad1",
   "metadata": {},
   "outputs": [],
   "source": [
    "temp=[0,22.5,40,100]"
   ]
  },
  {
   "cell_type": "code",
   "execution_count": 17,
   "id": "4a915ebe",
   "metadata": {},
   "outputs": [
    {
     "data": {
      "text/plain": [
       "[32.0, 72.5, 104.0, 212.0]"
      ]
     },
     "execution_count": 17,
     "metadata": {},
     "output_type": "execute_result"
    }
   ],
   "source": [
    "#Am Jindegi\n",
    "\n",
    "res=[]\n",
    "for i in temp:\n",
    "    res.append(fahrenheit(i))\n",
    "res"
   ]
  },
  {
   "cell_type": "code",
   "execution_count": 36,
   "id": "146d6d8d",
   "metadata": {},
   "outputs": [
    {
     "data": {
      "text/plain": [
       "[32.0, 72.5, 104.0, 212.0]"
      ]
     },
     "execution_count": 36,
     "metadata": {},
     "output_type": "execute_result"
    }
   ],
   "source": [
    "#mentos Jindegi\n",
    "list(map(fahrenheit,temp))"
   ]
  },
  {
   "cell_type": "code",
   "execution_count": 39,
   "id": "557ea9a6",
   "metadata": {},
   "outputs": [
    {
     "data": {
      "text/plain": [
       "[2, 4, 6, 8, 10]"
      ]
     },
     "execution_count": 39,
     "metadata": {},
     "output_type": "execute_result"
    }
   ],
   "source": [
    "#Map function with multiple parameters with same lenght.\n",
    "list(map(sums,[1,2,3,4,5],[1,2,3,4,5]))"
   ]
  },
  {
   "cell_type": "markdown",
   "id": "8ded1cdb",
   "metadata": {},
   "source": [
    "# Lamda function\n",
    "It is a function without any function name."
   ]
  },
  {
   "cell_type": "code",
   "execution_count": 20,
   "id": "d4eb63df",
   "metadata": {},
   "outputs": [
    {
     "data": {
      "text/plain": [
       "[1, 4, 9, 16, 25, 36, 49, 64, 81]"
      ]
     },
     "execution_count": 20,
     "metadata": {},
     "output_type": "execute_result"
    }
   ],
   "source": [
    "lambda x:x*x\n",
    "\n",
    "list(map(lambda x:x*x,[1,2,3,4,5,6,7,8,9]))"
   ]
  },
  {
   "cell_type": "markdown",
   "id": "96f6dd22",
   "metadata": {},
   "source": [
    "## Reduce Function\n",
    "This function take two arguments \n",
    "1. **function_name** \n",
    "2. **sequencial iterable**\n",
    "\n",
    "***\n",
    "The function reduce(function,sequence) continually applies the function to the sequence. It returns a single value.\n",
    "reduce function is present inside the `functools` package.\n",
    "\n",
    "Syntax is *from functools import reduce*\n",
    "\n",
    "***"
   ]
  },
  {
   "cell_type": "code",
   "execution_count": 27,
   "id": "7443cade",
   "metadata": {},
   "outputs": [],
   "source": [
    "from functools import reduce\n",
    "# find the maximum of a sequence(Do not use the Max())\n",
    "\n",
    "max_find= lambda a,b: a if (a>b) else b\n",
    "\n",
    "reduce(max_find,li)\n",
    "\n",
    "li=[1,2,3,4,5,6,7,8,9,8,40]\n"
   ]
  },
  {
   "cell_type": "code",
   "execution_count": 28,
   "id": "ee543c21",
   "metadata": {},
   "outputs": [
    {
     "data": {
      "text/plain": [
       "12"
      ]
     },
     "execution_count": 28,
     "metadata": {},
     "output_type": "execute_result"
    }
   ],
   "source": [
    "max_find(10,12)"
   ]
  },
  {
   "cell_type": "code",
   "execution_count": 29,
   "id": "ede02a21",
   "metadata": {},
   "outputs": [
    {
     "data": {
      "text/plain": [
       "40"
      ]
     },
     "execution_count": 29,
     "metadata": {},
     "output_type": "execute_result"
    }
   ],
   "source": [
    "max(li)"
   ]
  },
  {
   "cell_type": "code",
   "execution_count": 30,
   "id": "a88201ef",
   "metadata": {},
   "outputs": [
    {
     "data": {
      "text/plain": [
       "33"
      ]
     },
     "execution_count": 30,
     "metadata": {},
     "output_type": "execute_result"
    }
   ],
   "source": [
    "# find the sum of all the numbers in list\n",
    "from functools import reduce\n",
    "sum_num=lambda x,y:x+y\n",
    "\n",
    "sum_num(10,23)"
   ]
  },
  {
   "cell_type": "code",
   "execution_count": 33,
   "id": "25906e27",
   "metadata": {},
   "outputs": [
    {
     "data": {
      "text/plain": [
       "312"
      ]
     },
     "execution_count": 33,
     "metadata": {},
     "output_type": "execute_result"
    }
   ],
   "source": [
    "lst=[23,35,56,78,47,24,49]\n",
    "reduce(sum_num,lst)"
   ]
  },
  {
   "cell_type": "markdown",
   "id": "7643b38a",
   "metadata": {},
   "source": [
    "## Filter Function\n",
    "The function filter(function, list) offers a convinient way to filter out all the elements of an iterable for which function returns \"True\""
   ]
  },
  {
   "cell_type": "code",
   "execution_count": 41,
   "id": "d2dcf391",
   "metadata": {},
   "outputs": [],
   "source": [
    "# Lets first make a functions\n",
    "def check_even(num):\n",
    "    if(num%2==0):\n",
    "        return True"
   ]
  },
  {
   "cell_type": "code",
   "execution_count": 45,
   "id": "81b6905d",
   "metadata": {},
   "outputs": [
    {
     "data": {
      "text/plain": [
       "[34, 98, 2, 4, 6, 8, 4]"
      ]
     },
     "execution_count": 45,
     "metadata": {},
     "output_type": "execute_result"
    }
   ],
   "source": [
    "lst=[34,69,123,45,67,35,98,2,4,6,7,8,9,4,5,1]\n",
    "\n",
    "res=filter(check_even,lst)\n",
    "list(res)"
   ]
  },
  {
   "cell_type": "code",
   "execution_count": null,
   "id": "d9447079",
   "metadata": {},
   "outputs": [],
   "source": [
    "# 12th December"
   ]
  }
 ],
 "metadata": {
  "kernelspec": {
   "display_name": "Python 3 (ipykernel)",
   "language": "python",
   "name": "python3"
  },
  "language_info": {
   "codemirror_mode": {
    "name": "ipython",
    "version": 3
   },
   "file_extension": ".py",
   "mimetype": "text/x-python",
   "name": "python",
   "nbconvert_exporter": "python",
   "pygments_lexer": "ipython3",
   "version": "3.9.12"
  }
 },
 "nbformat": 4,
 "nbformat_minor": 5
}
